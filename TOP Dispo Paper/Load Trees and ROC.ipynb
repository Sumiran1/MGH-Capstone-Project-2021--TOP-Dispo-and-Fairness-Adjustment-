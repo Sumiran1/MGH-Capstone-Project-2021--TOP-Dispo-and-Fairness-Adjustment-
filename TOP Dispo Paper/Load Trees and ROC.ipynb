{
 "cells": [
  {
   "cell_type": "code",
   "execution_count": null,
   "metadata": {},
   "outputs": [],
   "source": [
    "best_pen_no_morb= IAI.read_json(\"Best_penetrating_OCT_changed_label.json\")\n",
    "IAI.ROCCurve(a, test_X_penetrating, test_y_penetrating)"
   ]
  }
 ],
 "metadata": {
  "kernelspec": {
   "display_name": "Julia 1.0.5",
   "language": "julia",
   "name": "julia-1.0"
  },
  "language_info": {
   "file_extension": ".jl",
   "mimetype": "application/julia",
   "name": "julia",
   "version": "1.0.5"
  }
 },
 "nbformat": 4,
 "nbformat_minor": 2
}
