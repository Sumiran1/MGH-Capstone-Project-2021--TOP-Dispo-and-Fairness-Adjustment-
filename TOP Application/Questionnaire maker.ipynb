{
 "cells": [
  {
   "cell_type": "code",
   "execution_count": 1,
   "metadata": {},
   "outputs": [],
   "source": [
    "using Random, CategoricalArrays, DataFrames, DataFramesMeta, StatsBase, CSV, ScikitLearn"
   ]
  },
  {
   "cell_type": "markdown",
   "metadata": {},
   "source": [
    "## TOP Mortality"
   ]
  },
  {
   "cell_type": "code",
   "execution_count": 5,
   "metadata": {},
   "outputs": [
    {
     "data": {
      "text/plain": [
       "1847392"
      ]
     },
     "execution_count": 5,
     "metadata": {},
     "output_type": "execute_result"
    }
   ],
   "source": [
    "TOP_mort_pen = IAI.read_json(\"Penetrating_OCT_mort_updated.json\")\n",
    "TOP_mort_pen_ques = IAI.write_questionnaire(\"TOP_mortality_penetrating_questionnaire.html\", TOP_mort_pen)"
   ]
  },
  {
   "cell_type": "code",
   "execution_count": 6,
   "metadata": {},
   "outputs": [
    {
     "data": {
      "text/plain": [
       "2566673"
      ]
     },
     "execution_count": 6,
     "metadata": {},
     "output_type": "execute_result"
    }
   ],
   "source": [
    "TOP_mort_blunt = IAI.read_json(\"Blunt_OCT_mort_updated.json\")\n",
    "TOP_mort_blunt_ques = IAI.write_questionnaire(\"TOP_mortality_blunt_questionnaire.html\", TOP_mort_blunt)"
   ]
  },
  {
   "cell_type": "markdown",
   "metadata": {},
   "source": [
    "## TOP Morbidity"
   ]
  },
  {
   "cell_type": "code",
   "execution_count": 7,
   "metadata": {},
   "outputs": [
    {
     "data": {
      "text/plain": [
       "1899852"
      ]
     },
     "execution_count": 7,
     "metadata": {},
     "output_type": "execute_result"
    }
   ],
   "source": [
    "TOP_morb_pen = IAI.read_json(\"Penetrating_OCT_morb_updated.json\")\n",
    "TOP_morb_pen_ques = IAI.write_questionnaire(\"TOP_morbidity_penetrating_questionnaire.html\", TOP_morb_pen)"
   ]
  },
  {
   "cell_type": "code",
   "execution_count": 8,
   "metadata": {},
   "outputs": [
    {
     "data": {
      "text/plain": [
       "2315358"
      ]
     },
     "execution_count": 8,
     "metadata": {},
     "output_type": "execute_result"
    }
   ],
   "source": [
    "TOP_morb_blunt = IAI.read_json(\"Blunt_OCT_morb_updated.json\")\n",
    "TOP_morb_blunt_ques = IAI.write_questionnaire(\"TOP_morbidity_blunt_questionnaire.html\", TOP_morb_blunt)"
   ]
  },
  {
   "cell_type": "markdown",
   "metadata": {},
   "source": [
    "## TOP Dispo"
   ]
  },
  {
   "cell_type": "code",
   "execution_count": 9,
   "metadata": {},
   "outputs": [
    {
     "data": {
      "text/plain": [
       "1850327"
      ]
     },
     "execution_count": 9,
     "metadata": {},
     "output_type": "execute_result"
    }
   ],
   "source": [
    "TOP_dispo_pen = IAI.read_json(\"Best_penetrating_OCT_full_no_morbidity_updated.json\")\n",
    "TOP_dispo_pen_ques = IAI.write_questionnaire(\"TOP_dispo_no_morbidity_penetrating_questionnaire.html\", TOP_dispo_pen)"
   ]
  },
  {
   "cell_type": "code",
   "execution_count": 10,
   "metadata": {},
   "outputs": [
    {
     "data": {
      "text/plain": [
       "3076952"
      ]
     },
     "execution_count": 10,
     "metadata": {},
     "output_type": "execute_result"
    }
   ],
   "source": [
    "TOP_dispo_blunt = IAI.read_json(\"Best_blunt_OCT_full_no_morbidity_updated.json\")\n",
    "TOP_dispo_blunt_ques = IAI.write_questionnaire(\"TOP_dispo_no_morbidity_blunt_questionnaire.html\", TOP_dispo_blunt)"
   ]
  },
  {
   "cell_type": "markdown",
   "metadata": {},
   "source": [
    "## TOP Dispo Morbidity"
   ]
  },
  {
   "cell_type": "code",
   "execution_count": 11,
   "metadata": {},
   "outputs": [
    {
     "data": {
      "text/plain": [
       "1842544"
      ]
     },
     "execution_count": 11,
     "metadata": {},
     "output_type": "execute_result"
    }
   ],
   "source": [
    "TOP_dispo_morb_pen = IAI.read_json(\"Best_penetrating_OCT_full_morbidity_updated.json\")\n",
    "TOP_dispo_morb_pen_ques = IAI.write_questionnaire(\"TOP_dispo_morbidity_penetrating_questionnaire.html\", TOP_dispo_morb_pen)"
   ]
  },
  {
   "cell_type": "code",
   "execution_count": 12,
   "metadata": {},
   "outputs": [
    {
     "data": {
      "text/plain": [
       "2891747"
      ]
     },
     "execution_count": 12,
     "metadata": {},
     "output_type": "execute_result"
    }
   ],
   "source": [
    "TOP_dispo_morb_blunt = IAI.read_json(\"Best_blunt_OCT_full_morbidity_updated.json\")\n",
    "TOP_dispo_morb_blunt_ques = IAI.write_questionnaire(\"TOP_dispo_morbidity_blunt_questionnaire.html\", TOP_dispo_morb_blunt)"
   ]
  },
  {
   "cell_type": "code",
   "execution_count": null,
   "metadata": {},
   "outputs": [],
   "source": []
  }
 ],
 "metadata": {
  "kernelspec": {
   "display_name": "Julia 1.0.5",
   "language": "julia",
   "name": "julia-1.0"
  },
  "language_info": {
   "file_extension": ".jl",
   "mimetype": "application/julia",
   "name": "julia",
   "version": "1.0.5"
  }
 },
 "nbformat": 4,
 "nbformat_minor": 2
}
