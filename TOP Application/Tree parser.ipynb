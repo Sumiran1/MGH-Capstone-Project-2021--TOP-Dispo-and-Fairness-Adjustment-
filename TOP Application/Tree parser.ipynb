{
 "cells": [
  {
   "cell_type": "code",
   "execution_count": 1,
   "metadata": {},
   "outputs": [],
   "source": [
    "using Random, CategoricalArrays, DataFrames, DataFramesMeta, StatsBase, CSV, ScikitLearn, NPZ"
   ]
  },
  {
   "cell_type": "code",
   "execution_count": 62,
   "metadata": {},
   "outputs": [
    {
     "data": {
      "text/plain": [
       "feat_list (generic function with 1 method)"
      ]
     },
     "execution_count": 62,
     "metadata": {},
     "output_type": "execute_result"
    }
   ],
   "source": [
    "function feat_list(lnr, t, lst)\n",
    "    if IAI.is_leaf(lnr, t)\n",
    "        return\n",
    "    end\n",
    "    push!(lst, IAI.get_split_feature(lnr, t))\n",
    "    lower = IAI.get_lower_child(lnr, t)\n",
    "    upper = IAI.get_upper_child(lnr, t)\n",
    "    feat_list(lnr, lower, lst)\n",
    "    feat_list(lnr, upper, lst)\n",
    "end"
   ]
  },
  {
   "cell_type": "code",
   "execution_count": 63,
   "metadata": {},
   "outputs": [
    {
     "data": {
      "text/plain": [
       "return_lst (generic function with 1 method)"
      ]
     },
     "execution_count": 63,
     "metadata": {},
     "output_type": "execute_result"
    }
   ],
   "source": [
    "function return_lst(str_json)\n",
    "    lst = []\n",
    "    lnr = IAI.read_json(str_json)\n",
    "    feat_list(lnr, 1, lst)\n",
    "    lst_unique = unique(lst)\n",
    "    return lst_unique\n",
    "end"
   ]
  },
  {
   "cell_type": "code",
   "execution_count": 64,
   "metadata": {},
   "outputs": [
    {
     "name": "stdout",
     "output_type": "stream",
     "text": [
      "29-element Array{Any,1}:\n",
      " :Head_severity           \n",
      " :eddisp                  \n",
      " :oxysat1                 \n",
      " :copd                    \n",
      " :Upper_Extremity_severity\n",
      " :method_of_injury        \n",
      " :Face_severity           \n",
      " :current_smoker          \n",
      " :Neck_severity           \n",
      " :Thorax_severity         \n",
      " :drug_use_disorder       \n",
      " :hypertension_medication \n",
      " :congestive_heart_failure\n",
      " :rr1                     \n",
      " :history_cva             \n",
      " :morbidity               \n",
      " :alcohol_use_disorder    \n",
      " :Pelvis_Perineum_severity\n",
      " :gender                  \n",
      " :bleeding_disorder       \n",
      " :gcstot1                 \n",
      " :sbp1                    \n",
      " :pulse1                  \n",
      " :age                     \n",
      " :Spine_severity          \n",
      " :Lower_Extremity_severity\n",
      " :temp1                   \n",
      " :diabetes                \n",
      " :Abdomen_severity        "
     ]
    }
   ],
   "source": [
    "lst_pen = return_lst(\"Best_penetrating_OCT_full_no_morbidity.json\")\n",
    "lst_pen_morb = return_lst(\"Best_penetrating_OCT_full_morbidity.json\")\n",
    "lst_blunt = return_lst(\"Best_blunt_OCT_full_no_morbidity.json\")\n",
    "lst_blunt_morb = return_lst(\"Best_blunt_OCT_full_morbidity.json\")\n",
    "lst_all_conversions = collect(union(Set(lst_blunt_morb), union(Set(lst_blunt), union(Set(lst_pen),Set(lst_pen_morb)))))\n",
    "show(stdout, \"text/plain\", lst_all_conversions)"
   ]
  },
  {
   "cell_type": "code",
   "execution_count": 66,
   "metadata": {},
   "outputs": [
    {
     "name": "stdout",
     "output_type": "stream",
     "text": [
      "25-element Array{Any,1}:\n",
      " :Head_severity           \n",
      " :oxysat1                 \n",
      " :cirrhosis               \n",
      " :copd                    \n",
      " :Upper_Extremity_severity\n",
      " :method_of_injury        \n",
      " :Face_severity           \n",
      " :current_smoker          \n",
      " :Neck_severity           \n",
      " :Thorax_severity         \n",
      " :hypertension_medication \n",
      " :congestive_heart_failure\n",
      " :sbp1                    \n",
      " :pulse1                  \n",
      " :gender                  \n",
      " :bleeding_disorder       \n",
      " :gcstot1                 \n",
      " :Pelvis_Perineum_severity\n",
      " :Spine_severity          \n",
      " :age                     \n",
      " :Lower_Extremity_severity\n",
      " :temp1                   \n",
      " :chronic_renal_failure   \n",
      " :diabetes                \n",
      " :Abdomen_severity        "
     ]
    }
   ],
   "source": [
    "lst_pen_mort = return_lst(\"Penetrating_OCT_mort.json\")\n",
    "lst_pen_morb = return_lst(\"Penetrating_OCT_morb.json\")\n",
    "lst_blunt_mort = return_lst(\"Blunt_OCT_mort.json\")\n",
    "lst_blunt_morb = return_lst(\"Blunt_OCT_morb.json\")\n",
    "comb_lst = collect(union(Set(lst_blunt_morb), union(Set(lst_blunt_mort) ,union(Set(lst_pen_mort), Set(lst_pen_morb)))))\n",
    "show(stdout, \"text/plain\", comb_lst)"
   ]
  },
  {
   "cell_type": "code",
   "execution_count": 68,
   "metadata": {},
   "outputs": [
    {
     "name": "stdout",
     "output_type": "stream",
     "text": [
      "31-element Array{Any,1}:\n",
      " :oxysat1                 \n",
      " :Upper_Extremity_severity\n",
      " :Face_severity           \n",
      " :current_smoker          \n",
      " :Thorax_severity         \n",
      " :hypertension_medication \n",
      " :congestive_heart_failure\n",
      " :history_cva             \n",
      " :alcohol_use_disorder    \n",
      " :gender                  \n",
      " :age                     \n",
      " :chronic_renal_failure   \n",
      " :Lower_Extremity_severity\n",
      " :Abdomen_severity        \n",
      " :Head_severity           \n",
      " :eddisp                  \n",
      " :cirrhosis               \n",
      " :copd                    \n",
      " :method_of_injury        \n",
      " :Neck_severity           \n",
      " :drug_use_disorder       \n",
      " :rr1                     \n",
      " :morbidity               \n",
      " :sbp1                    \n",
      " :pulse1                  \n",
      " :bleeding_disorder       \n",
      " :Pelvis_Perineum_severity\n",
      " :gcstot1                 \n",
      " :Spine_severity          \n",
      " :temp1                   \n",
      " :diabetes                "
     ]
    }
   ],
   "source": [
    "show(stdout, \"text/plain\", collect(union(Set(comb_lst), Set(lst_all_conversions))))"
   ]
  },
  {
   "cell_type": "code",
   "execution_count": null,
   "metadata": {},
   "outputs": [],
   "source": [
    ":Upper_Extremity_severity\n",
    " :Face_severity  \n",
    " :Pelvis_Perineum_severity \n",
    " :Neck_severity  \n",
    " \n",
    ":alcohol_use_disorder                                      \n",
    " :eddisp                                                           \n",
    " :drug_use_disorder       \n",
    " :rr1                     \n",
    " :morbidity                                    \n",
    "                                                   \n"
   ]
  }
 ],
 "metadata": {
  "kernelspec": {
   "display_name": "Julia nodeps 1.0.5",
   "language": "julia",
   "name": "julia-nodeps-1.0"
  },
  "language_info": {
   "file_extension": ".jl",
   "mimetype": "application/julia",
   "name": "julia",
   "version": "1.0.5"
  }
 },
 "nbformat": 4,
 "nbformat_minor": 2
}
