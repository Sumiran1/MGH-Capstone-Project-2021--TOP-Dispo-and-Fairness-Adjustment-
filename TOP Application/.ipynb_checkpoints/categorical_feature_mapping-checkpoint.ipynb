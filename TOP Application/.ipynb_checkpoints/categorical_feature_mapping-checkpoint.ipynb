{
 "cells": [
  {
   "cell_type": "code",
   "execution_count": 1,
   "metadata": {},
   "outputs": [],
   "source": [
    "import os \n",
    "import json\n",
    "\n",
    "from bs4 import BeautifulSoup as bs\n",
    "import re"
   ]
  },
  {
   "cell_type": "code",
   "execution_count": 15,
   "metadata": {},
   "outputs": [],
   "source": [
    "# read json\n",
    "  \n",
    "# Opening JSON file\n",
    "f = open('seed=1___outcome=need_for_ICU___minbucket=100___nsqip_auc876.json',)\n",
    "  \n",
    "# returns JSON object as \n",
    "# a dictionary\n",
    "data = json.load(f)\n",
    "  \n"
   ]
  },
  {
   "cell_type": "code",
   "execution_count": 16,
   "metadata": {},
   "outputs": [],
   "source": [
    "# colnames = [\"Sex\",\"Race\",\"Ethnicity\",\"Age\",\"Surgical Specialty\", \"Diabetes\", \"Smoker\", \"Dyspnea\", \n",
    "#     \"Functional Status\",\"COPD\",\"Ascites\", \"CHF\", \"Hypertension\", \"Renal Failure\", \"Dialysis\", \"Disseminated Cancer\",\n",
    "#     \"Wound Infection\", \"Steroid Use\", \"Weight Loss\", \"Bleeding Disorder\", \"Pre-op Transfusion\", \"Pre-op Sepsis\",\n",
    "#     \"Pre-op Na\", \"Pre-op BUN\", \"Pre-op Creatinine\",\"Pre-op WBC\", \"Pre-op Hematocrit\", \"Pre-op Platelet\",\"BMI\"]\n",
    "#     #\"Pre-op Albumin\",\"Pre-op Bilirubin\", \"Pre-op SGOT\",\"Pre-op Alk Phos\",\"Pre-op PTT\", \"Pre-op INR\","
   ]
  },
  {
   "cell_type": "code",
   "execution_count": 17,
   "metadata": {},
   "outputs": [],
   "source": [
    "# mapping categorical features: no ordering or direction\n",
    "\n",
    "mapping_lst = [\n",
    "    ['missing','Male','Female'],\n",
    "    ['missing','White','Black or African American','Asian', 'American Indian or Alaska Native','Native Hawaiian or Pacific Islander'],\n",
    "    ['missing','Hispanic','Non-Hispanic'],\n",
    "    ['missing'],\n",
    "    ['missing', 'General Surgery','Cardiac Surgery','Vascular','Gynecology','Otolaryngology (ENT)',  \n",
    "    'Thoracic','Other','Orthopedics','Neurosurgery','Plastics', 'Interventional Radiologist','Urology'],\n",
    "    ['missing', 'No','Non-Insulin','Insulin'],\n",
    "    ['missing','Yes','No'],\n",
    "    ['missing','No','At Rest','Moderate Exertion'],\n",
    "    ['missing'],\n",
    "    ['missing','Yes','No'],\n",
    "    ['missing','Yes','No'],\n",
    "    ['missing','Yes','No'],\n",
    "    ['missing','Yes','No'],\n",
    "    ['missing','Yes','No'],\n",
    "    ['missing','Yes','No'],\n",
    "    ['missing','Yes','No'],\n",
    "    ['missing','Yes','No'],\n",
    "    ['missing','Yes','No'],\n",
    "    ['missing','Yes','No'],\n",
    "    ['missing','Yes','No'],\n",
    "    ['missing','Yes','No'],\n",
    "    ['missing'],\n",
    "    ['missing'],\n",
    "    ['missing'],\n",
    "    ['missing'],\n",
    "    ['missing'],\n",
    "    ['missing'],\n",
    "    ['missing'],\n",
    "    ['missing'],\n",
    "    ['missing'],\n",
    "    ['missing'],\n",
    "    ['missing'],\n",
    "    ['missing'],\n",
    "    ['missing'],\n",
    "    ['missing']\n",
    "]"
   ]
  },
  {
   "cell_type": "code",
   "execution_count": 18,
   "metadata": {
    "scrolled": true
   },
   "outputs": [
    {
     "name": "stdout",
     "output_type": "stream",
     "text": [
      "********** Updating feature Sex *************\n",
      "********** Updating feature Race *************\n",
      "********** Updating feature Ethnicity *************\n",
      "********** Updating feature Age *************\n",
      "********** Updating feature Surgical Specialty *************\n",
      "********** Updating feature Diabetes *************\n",
      "********** Updating feature Smoker *************\n",
      "********** Updating feature Dyspnea *************\n",
      "********** Updating feature Functional Status *************\n",
      "********** Updating feature COPD *************\n",
      "********** Updating feature Ascites *************\n",
      "********** Updating feature CHF *************\n",
      "********** Updating feature Hypertension *************\n",
      "********** Updating feature Renal Failure *************\n",
      "********** Updating feature Dialysis *************\n",
      "********** Updating feature Disseminated Cancer *************\n",
      "********** Updating feature Wound Infection *************\n",
      "********** Updating feature Steroid Use *************\n",
      "********** Updating feature Weight Loss *************\n",
      "********** Updating feature Bleeding Disorder *************\n",
      "********** Updating feature Pre-op Transfusion *************\n",
      "********** Updating feature Pre-op Sepsis *************\n",
      "********** Updating feature Pre-op Na *************\n",
      "********** Updating feature Pre-op BUN *************\n",
      "********** Updating feature Pre-op Creatinine *************\n",
      "********** Updating feature Pre-op Albumin *************\n",
      "********** Updating feature Pre-op Bilirubin *************\n",
      "********** Updating feature Pre-op SGOT *************\n",
      "********** Updating feature Pre-op Alk Phos *************\n",
      "********** Updating feature Pre-op WBC *************\n",
      "********** Updating feature Pre-op Hematocrit *************\n",
      "********** Updating feature Pre-op Platelet *************\n",
      "********** Updating feature Pre-op PTT *************\n",
      "********** Updating feature Pre-op INR *************\n",
      "********** Updating feature BMI *************\n"
     ]
    }
   ],
   "source": [
    "for i in range(len(data['prb_']['data']['features']['categoric_labelmap'])):\n",
    "    print(f\"********** Updating feature {data['prb_']['data']['features']['feature_names'][i]} *************\")\n",
    "    \n",
    "    data['prb_']['data']['features']['categoric_labelmap'][i]['levels'] = mapping_lst[i]\n"
   ]
  },
  {
   "cell_type": "code",
   "execution_count": 22,
   "metadata": {},
   "outputs": [],
   "source": [
    "json_object = json.dumps(data, indent = 4)\n",
    "\n",
    "with open(\"json_updated.json\", \"w\") as outfile:\n",
    "    outfile.write(json_object)\n",
    "\n",
    "# with open('json_updated.txt', 'w') as outfile:\n",
    "#     json.dump(data, outfile)"
   ]
  },
  {
   "cell_type": "code",
   "execution_count": 13,
   "metadata": {},
   "outputs": [],
   "source": [
    " \n",
    "# Closing file\n",
    "f.close()"
   ]
  },
  {
   "cell_type": "code",
   "execution_count": 12,
   "metadata": {},
   "outputs": [],
   "source": [
    "\n",
    "\n",
    "# read json\n",
    "  \n",
    "# Opening JSON file\n",
    "f = open('json_updated.json',)\n",
    "  \n",
    "# returns JSON object as \n",
    "# a dictionary\n",
    "data = json.load(f)\n",
    "\n",
    "# mapping ordinal features: ordering and direction\n",
    "# Functional Status\n",
    "# Pre-op Sepsis\n",
    "\n",
    "mapping_lst = [\n",
    "    ['Independent', 'Partially Dependent','Totally Dependent'],\n",
    "    ['No','Sepsis','Septic Shock']    \n",
    "]\n",
    "\n",
    "for i in range(len(data['prb_']['data']['features']['ordinal_labelmap'])):\n",
    "    \n",
    "    data['prb_']['data']['features']['ordinal_labelmap'][i]['levels'] = mapping_lst[i]\n",
    "\n",
    "# mapping for decision variable \n",
    "mapping_lst = ['No', 'Yes']  \n",
    "\n",
    "for i in range(len(data['prb_']['data']['target']['classes']['levels'])):\n",
    "    data['prb_']['data']['target']['classes']['levels'][i] = mapping_lst[i]      \n"
   ]
  },
  {
   "cell_type": "code",
   "execution_count": 14,
   "metadata": {},
   "outputs": [],
   "source": [
    "json_object = json.dumps(data, indent = 4)\n",
    "\n",
    "with open(\"json_updated_inc_ordinal.json\", \"w\") as outfile:\n",
    "    outfile.write(json_object)"
   ]
  },
  {
   "cell_type": "code",
   "execution_count": 16,
   "metadata": {},
   "outputs": [],
   "source": [
    "## uncomment and run to look at results \n",
    "#data"
   ]
  },
  {
   "cell_type": "code",
   "execution_count": 15,
   "metadata": {},
   "outputs": [],
   "source": [
    " \n",
    "# Closing file\n",
    "f.close()"
   ]
  }
 ],
 "metadata": {
  "kernelspec": {
   "display_name": "Python 3",
   "language": "python",
   "name": "python3"
  },
  "language_info": {
   "codemirror_mode": {
    "name": "ipython",
    "version": 3
   },
   "file_extension": ".py",
   "mimetype": "text/x-python",
   "name": "python",
   "nbconvert_exporter": "python",
   "pygments_lexer": "ipython3",
   "version": "3.6.9"
  }
 },
 "nbformat": 4,
 "nbformat_minor": 4
}
