{
 "cells": [
  {
   "cell_type": "code",
   "execution_count": 18,
   "metadata": {},
   "outputs": [],
   "source": [
    "import pandas as pd\n",
    "import numpy as np\n",
    "import os\n",
    "from sklearn.model_selection import train_test_split\n",
    "import scipy.stats as scs"
   ]
  },
  {
   "cell_type": "code",
   "execution_count": 2,
   "metadata": {},
   "outputs": [
    {
     "data": {
      "text/plain": [
       "'C:\\\\Users\\\\15125\\\\Desktop\\\\CAPSTONE PROJECT'"
      ]
     },
     "execution_count": 2,
     "metadata": {},
     "output_type": "execute_result"
    }
   ],
   "source": [
    "os.getcwd()"
   ]
  },
  {
   "cell_type": "code",
   "execution_count": 3,
   "metadata": {},
   "outputs": [],
   "source": [
    "data_path= \"C:/Users/15125/Desktop/CAPSTONE PROJECT/CLEANED DATA/FAIRNESS MODEL/\"\n",
    "os.chdir(data_path)"
   ]
  },
  {
   "cell_type": "code",
   "execution_count": 4,
   "metadata": {},
   "outputs": [
    {
     "data": {
      "text/plain": [
       "'C:\\\\Users\\\\15125\\\\Desktop\\\\CAPSTONE PROJECT\\\\CLEANED DATA\\\\FAIRNESS MODEL'"
      ]
     },
     "execution_count": 4,
     "metadata": {},
     "output_type": "execute_result"
    }
   ],
   "source": [
    "os.getcwd()"
   ]
  },
  {
   "cell_type": "code",
   "execution_count": 5,
   "metadata": {},
   "outputs": [],
   "source": [
    "adjusted_df = pd.read_csv(\"penetrating_0.0001_max_sev.csv\")"
   ]
  },
  {
   "cell_type": "code",
   "execution_count": 23,
   "metadata": {},
   "outputs": [],
   "source": [
    "adjusted_df = adjusted_df.replace({'White':0, 'Black or African American':1})"
   ]
  },
  {
   "cell_type": "code",
   "execution_count": null,
   "metadata": {},
   "outputs": [],
   "source": []
  },
  {
   "cell_type": "code",
   "execution_count": null,
   "metadata": {},
   "outputs": [],
   "source": []
  },
  {
   "cell_type": "code",
   "execution_count": 25,
   "metadata": {},
   "outputs": [],
   "source": [
    "def categories(series):\n",
    "    return range(int(series.min()), int(series.max()) + 1)\n",
    "\n",
    "\n",
    "def chi_square_of_df_cols(df, col1, col2):\n",
    "    df_col1, df_col2 = df[col1], df[col2]\n",
    "\n",
    "    result = [[sum((df_col1 == cat1) & (df_col2 == cat2))\n",
    "               for cat2 in categories(df_col2)]\n",
    "              for cat1 in categories(df_col1)]\n",
    "\n",
    "    return scs.chi2_contingency(result)\n",
    "\n",
    "\n",
    "a,b,c,d = (chi_square_of_df_cols(adjusted_df, 'race1', 'label'))"
   ]
  },
  {
   "cell_type": "code",
   "execution_count": 31,
   "metadata": {},
   "outputs": [
    {
     "name": "stdout",
     "output_type": "stream",
     "text": [
      "The chi squared value is 830.1517631397451\n",
      "\n",
      "\n",
      "The p value of the test is 1.5020168085165192e-182\n",
      "\n",
      "\n",
      " The degrees of freedom are 1\n",
      "\n",
      "\n",
      "The expected frequencies are: \n",
      "[[17674.69070672  3323.30929328]\n",
      " [26489.30929328  4980.69070672]]\n"
     ]
    }
   ],
   "source": [
    "print(f'The chi squared value is {a}')\n",
    "print('\\n')\n",
    "print(f'The p value of the test is {b}')\n",
    "print('\\n')\n",
    "print(f' The degrees of freedom are {c}')\n",
    "print('\\n')\n",
    "print('The expected frequencies are: ')\n",
    "print(d)"
   ]
  },
  {
   "cell_type": "code",
   "execution_count": 15,
   "metadata": {},
   "outputs": [
    {
     "data": {
      "text/plain": [
       "0.21449661872559292"
      ]
     },
     "execution_count": 15,
     "metadata": {},
     "output_type": "execute_result"
    }
   ],
   "source": [
    "label_1 = adjusted_df[adjusted_df.label==1]\n",
    "white = adjusted_df[adjusted_df.race1=='White']\n",
    "len(label_1[label_1.race1 == 'White'])/len(white)"
   ]
  },
  {
   "cell_type": "code",
   "execution_count": 17,
   "metadata": {},
   "outputs": [
    {
     "data": {
      "text/plain": [
       "0.12074992055926279"
      ]
     },
     "execution_count": 17,
     "metadata": {},
     "output_type": "execute_result"
    }
   ],
   "source": [
    "len(label_1[label_1.race1 == 'Black or African American'])/(len(adjusted_df) - len(white))"
   ]
  },
  {
   "cell_type": "code",
   "execution_count": 100,
   "metadata": {},
   "outputs": [
    {
     "data": {
      "text/plain": [
       "0        Black or African American\n",
       "1        Black or African American\n",
       "2        Black or African American\n",
       "3        Black or African American\n",
       "4        Black or African American\n",
       "                   ...            \n",
       "52463                        White\n",
       "52464                        White\n",
       "52465                        White\n",
       "52466                        White\n",
       "52467    Black or African American\n",
       "Name: race1, Length: 52468, dtype: object"
      ]
     },
     "execution_count": 100,
     "metadata": {},
     "output_type": "execute_result"
    }
   ],
   "source": [
    "adjusted_df.race1"
   ]
  },
  {
   "cell_type": "code",
   "execution_count": 103,
   "metadata": {},
   "outputs": [
    {
     "data": {
      "text/plain": [
       "0.40020583974994284"
      ]
     },
     "execution_count": 103,
     "metadata": {},
     "output_type": "execute_result"
    }
   ],
   "source": [
    "len(adjusted_df[adjusted_df.race1 == \"White\"])/len(adjusted_df)"
   ]
  },
  {
   "cell_type": "code",
   "execution_count": 6,
   "metadata": {},
   "outputs": [
    {
     "name": "stdout",
     "output_type": "stream",
     "text": [
      "0.0449416787375162\n"
     ]
    }
   ],
   "source": [
    "labels_set1 = adjusted_df['updated_label']\n",
    "labels_set2 = adjusted_df['changed_labels']\n",
    "original_labels = adjusted_df['label']\n",
    "print(np.abs(labels_set1.to_numpy() - adjusted_df['label'].to_numpy()).sum()/len(labels_set1))\n",
    "adjusted_df = adjusted_df.drop(columns= ['updated_label','changed_labels','label'])"
   ]
  },
  {
   "cell_type": "code",
   "execution_count": 7,
   "metadata": {
    "scrolled": true
   },
   "outputs": [
    {
     "data": {
      "text/plain": [
       "Index(['age', 'gender', 'signsoflife', 'eddisp', 'sbp1', 'pulse1', 'oxysat1',\n",
       "       'temp1', 'gcstot1', 'bleeding_disorder', 'current_chemotherapy',\n",
       "       'congestive_heart_failure', 'current_smoker', 'chronic_renal_failure',\n",
       "       'history_cva', 'diabetes', 'disseminated_cancer', 'copd', 'steroid',\n",
       "       'cirrhosis', 'history_MI', 'history_pvd', 'hypertension_medication',\n",
       "       'method_of_injury', 'Head_severity', 'Face_severity', 'Neck_severity',\n",
       "       'Thorax_severity', 'Abdomen_severity', 'Spine_severity',\n",
       "       'Upper_Extremity_severity', 'Lower_Extremity_severity',\n",
       "       'Pelvis_Perineum_severity', 'External_severity', 'alcohol_use_disorder',\n",
       "       'drug_use_disorder', 'rr1', 'race1', 'max-severity'],\n",
       "      dtype='object')"
      ]
     },
     "execution_count": 7,
     "metadata": {},
     "output_type": "execute_result"
    }
   ],
   "source": [
    "adjusted_df.columns"
   ]
  },
  {
   "cell_type": "code",
   "execution_count": 10,
   "metadata": {},
   "outputs": [],
   "source": [
    "base_path_final=  \"C:/Users/15125/Desktop/CAPSTONE PROJECT/CLEANED DATA/FAIRNESS MODEL\"\n",
    "X_train_original_labels, X_test_original_labels, original_train_labels, original_test_labels= train_test_split(adjusted_df, original_labels, stratify=original_labels, random_state=7, train_size=0.8)\n",
    "X_train_updated_labels, X_test_updated_labels, updated_train_labels, updated_test_labels= train_test_split(adjusted_df, labels_set1, stratify=labels_set1, random_state=7, train_size=0.8)\n",
    "X_train_changed_labels, X_test_changed_labels, changed_train_labels, changed_test_labels= train_test_split(adjusted_df, labels_set2, stratify=labels_set2, random_state=7, train_size=0.8)\n",
    "\n",
    "\n",
    "X_train_original_labels.to_csv(f\"{base_path_final}/train_X_original_labels_max_sev.csv\",index=False)\n",
    "X_test_original_labels.to_csv(f\"{base_path_final}/test_X_original_labels_max_sev.csv\",index=False)\n",
    "original_train_labels.to_csv(f\"{base_path_final}/train_original_labels_max_sev.csv\",index=False)\n",
    "original_test_labels.to_csv(f\"{base_path_final}/test_original_labels_max_sev.csv\",index=False)\n",
    "\n",
    "X_train_updated_labels.to_csv(f\"{base_path_final}/train_X_updated_labels_max_sev.csv\",index=False)\n",
    "X_test_updated_labels.to_csv(f\"{base_path_final}/test_X_updated_labels_max_sev.csv\",index=False)\n",
    "updated_train_labels.to_csv(f\"{base_path_final}/train_updated_labels_max_sev.csv\",index=False)\n",
    "updated_test_labels.to_csv(f\"{base_path_final}/test_updated_labels_max_sev.csv\",index=False)\n",
    "\n",
    "X_train_changed_labels.to_csv(f\"{base_path_final}/train_X_changed_labels_max_sev.csv\",index=False)\n",
    "X_test_changed_labels.to_csv(f\"{base_path_final}/test_X_changed_labels_max_sev.csv\",index=False)\n",
    "changed_train_labels.to_csv(f\"{base_path_final}/train_changed_labels_max_sev.csv\",index=False)\n",
    "changed_test_labels.to_csv(f\"{base_path_final}/test_changed_labels_max_sev.csv\",index=False)"
   ]
  },
  {
   "cell_type": "markdown",
   "metadata": {},
   "source": [
    "## For presentations"
   ]
  },
  {
   "cell_type": "code",
   "execution_count": 88,
   "metadata": {},
   "outputs": [],
   "source": [
    "results_orig = pd.read_csv('Trauma-penetrating-change-label-OCTs - OCTs summary.csv')\n",
    "results_orig= results_orig.fillna('Full dataset', limit=3)\n",
    "results_orig= results_orig.fillna('Undersampled dataset', limit=3)\n",
    "results_orig = results_orig[results_orig.Dataset == 'Full dataset'][['Race as a predictor', 'maxdepth','insample acc',\n",
    "       'out-of-sample acc', 'insample accuracy on positive/negative obs',\n",
    "       'out-of-sample accuracy on positive/negative obs']]\n",
    "b, c = results_orig.iloc[0].copy(), results_orig.iloc[3].copy()\n",
    "results_orig.iloc[0],results_orig.iloc[3] = c,b\n",
    "b, c = results_orig.iloc[0].copy(), results_orig.iloc[1].copy()\n",
    "results_orig.iloc[0],results_orig.iloc[1] = c,b\n",
    "b, c = results_orig.iloc[2].copy(), results_orig.iloc[3].copy()\n",
    "results_orig.iloc[2],results_orig.iloc[3] = c,b"
   ]
  },
  {
   "cell_type": "code",
   "execution_count": 91,
   "metadata": {},
   "outputs": [],
   "source": [
    "results_orig = results_orig.set_index(['Race as a predictor','maxdepth'])"
   ]
  },
  {
   "cell_type": "code",
   "execution_count": 12,
   "metadata": {},
   "outputs": [
    {
     "data": {
      "text/html": [
       "<div>\n",
       "<style scoped>\n",
       "    .dataframe tbody tr th:only-of-type {\n",
       "        vertical-align: middle;\n",
       "    }\n",
       "\n",
       "    .dataframe tbody tr th {\n",
       "        vertical-align: top;\n",
       "    }\n",
       "\n",
       "    .dataframe thead th {\n",
       "        text-align: right;\n",
       "    }\n",
       "</style>\n",
       "<table border=\"1\" class=\"dataframe\">\n",
       "  <thead>\n",
       "    <tr style=\"text-align: right;\">\n",
       "      <th></th>\n",
       "      <th></th>\n",
       "      <th>Race as a predictor</th>\n",
       "      <th>insample acc</th>\n",
       "      <th>out-of-sample acc</th>\n",
       "      <th>insample accuracy on positive/negative obs</th>\n",
       "      <th>out-of-sample accuracy on positive/negative obs</th>\n",
       "    </tr>\n",
       "    <tr>\n",
       "      <th>Dataset</th>\n",
       "      <th>maxdepth</th>\n",
       "      <th></th>\n",
       "      <th></th>\n",
       "      <th></th>\n",
       "      <th></th>\n",
       "      <th></th>\n",
       "    </tr>\n",
       "  </thead>\n",
       "  <tbody>\n",
       "    <tr>\n",
       "      <th rowspan=\"4\" valign=\"top\">Full dataset</th>\n",
       "      <th>5</th>\n",
       "      <td>yes</td>\n",
       "      <td>0.668</td>\n",
       "      <td>0.666</td>\n",
       "      <td>0.976</td>\n",
       "      <td>0.966</td>\n",
       "    </tr>\n",
       "    <tr>\n",
       "      <th>5</th>\n",
       "      <td>race excluded</td>\n",
       "      <td>0.414</td>\n",
       "      <td>0.406</td>\n",
       "      <td>0.855</td>\n",
       "      <td>0.867</td>\n",
       "    </tr>\n",
       "    <tr>\n",
       "      <th>10</th>\n",
       "      <td>yes</td>\n",
       "      <td>0.683</td>\n",
       "      <td>0.679</td>\n",
       "      <td>0.994</td>\n",
       "      <td>0.962</td>\n",
       "    </tr>\n",
       "    <tr>\n",
       "      <th>10</th>\n",
       "      <td>race excluded</td>\n",
       "      <td>0.390</td>\n",
       "      <td>0.376</td>\n",
       "      <td>0.950</td>\n",
       "      <td>0.892</td>\n",
       "    </tr>\n",
       "    <tr>\n",
       "      <th rowspan=\"4\" valign=\"top\">Undersampled dataset</th>\n",
       "      <th>5</th>\n",
       "      <td>yes</td>\n",
       "      <td>0.799</td>\n",
       "      <td>0.806</td>\n",
       "      <td>0.960</td>\n",
       "      <td>0.960</td>\n",
       "    </tr>\n",
       "    <tr>\n",
       "      <th>5</th>\n",
       "      <td>race excluded</td>\n",
       "      <td>0.583</td>\n",
       "      <td>0.588</td>\n",
       "      <td>0.923</td>\n",
       "      <td>0.934</td>\n",
       "    </tr>\n",
       "    <tr>\n",
       "      <th>10</th>\n",
       "      <td>yes</td>\n",
       "      <td>0.799</td>\n",
       "      <td>0.800</td>\n",
       "      <td>0.961</td>\n",
       "      <td>0.960</td>\n",
       "    </tr>\n",
       "    <tr>\n",
       "      <th>10</th>\n",
       "      <td>race excluded</td>\n",
       "      <td>0.653</td>\n",
       "      <td>0.631</td>\n",
       "      <td>0.841</td>\n",
       "      <td>0.845</td>\n",
       "    </tr>\n",
       "  </tbody>\n",
       "</table>\n",
       "</div>"
      ],
      "text/plain": [
       "                              Race as a predictor  insample acc  \\\n",
       "Dataset              maxdepth                                     \n",
       "Full dataset         5                        yes         0.668   \n",
       "                     5              race excluded         0.414   \n",
       "                     10                       yes         0.683   \n",
       "                     10             race excluded         0.390   \n",
       "Undersampled dataset 5                        yes         0.799   \n",
       "                     5              race excluded         0.583   \n",
       "                     10                       yes         0.799   \n",
       "                     10             race excluded         0.653   \n",
       "\n",
       "                               out-of-sample acc  \\\n",
       "Dataset              maxdepth                      \n",
       "Full dataset         5                     0.666   \n",
       "                     5                     0.406   \n",
       "                     10                    0.679   \n",
       "                     10                    0.376   \n",
       "Undersampled dataset 5                     0.806   \n",
       "                     5                     0.588   \n",
       "                     10                    0.800   \n",
       "                     10                    0.631   \n",
       "\n",
       "                               insample accuracy on positive/negative obs  \\\n",
       "Dataset              maxdepth                                               \n",
       "Full dataset         5                                              0.976   \n",
       "                     5                                              0.855   \n",
       "                     10                                             0.994   \n",
       "                     10                                             0.950   \n",
       "Undersampled dataset 5                                              0.960   \n",
       "                     5                                              0.923   \n",
       "                     10                                             0.961   \n",
       "                     10                                             0.841   \n",
       "\n",
       "                               out-of-sample accuracy on positive/negative obs  \n",
       "Dataset              maxdepth                                                   \n",
       "Full dataset         5                                                   0.966  \n",
       "                     5                                                   0.867  \n",
       "                     10                                                  0.962  \n",
       "                     10                                                  0.892  \n",
       "Undersampled dataset 5                                                   0.960  \n",
       "                     5                                                   0.934  \n",
       "                     10                                                  0.960  \n",
       "                     10                                                  0.845  "
      ]
     },
     "execution_count": 12,
     "metadata": {},
     "output_type": "execute_result"
    }
   ],
   "source": []
  },
  {
   "cell_type": "code",
   "execution_count": 13,
   "metadata": {},
   "outputs": [],
   "source": [
    "results1 = pd.read_csv('max_sev_results_no_race.csv')\n",
    "results2 = pd.read_csv('max_sev_results_race.csv')"
   ]
  },
  {
   "cell_type": "code",
   "execution_count": 94,
   "metadata": {},
   "outputs": [],
   "source": [
    "results = results1.append(results2)\n",
    "results['maxdepth'] = [5,10,5,10]\n",
    "results['Race as a predictor'] = ['race excluded', 'race excluded', 'yes', 'yes']\n",
    "results= results.drop(columns=['method'])\n",
    "results = results.set_index(['Race as a predictor','maxdepth'])\n",
    "results.columns = ['insample acc',\n",
    "       'out-of-sample acc', 'insample accuracy on positive/negative obs',\n",
    "       'out-of-sample accuracy on positive/negative obs']\n",
    "results = results.round(3)"
   ]
  },
  {
   "cell_type": "code",
   "execution_count": 95,
   "metadata": {},
   "outputs": [
    {
     "data": {
      "text/html": [
       "<div>\n",
       "<style scoped>\n",
       "    .dataframe tbody tr th:only-of-type {\n",
       "        vertical-align: middle;\n",
       "    }\n",
       "\n",
       "    .dataframe tbody tr th {\n",
       "        vertical-align: top;\n",
       "    }\n",
       "\n",
       "    .dataframe thead th {\n",
       "        text-align: right;\n",
       "    }\n",
       "</style>\n",
       "<table border=\"1\" class=\"dataframe\">\n",
       "  <thead>\n",
       "    <tr style=\"text-align: right;\">\n",
       "      <th></th>\n",
       "      <th></th>\n",
       "      <th>insample acc</th>\n",
       "      <th>out-of-sample acc</th>\n",
       "      <th>insample accuracy on positive/negative obs</th>\n",
       "      <th>out-of-sample accuracy on positive/negative obs</th>\n",
       "    </tr>\n",
       "    <tr>\n",
       "      <th>Race as a predictor</th>\n",
       "      <th>maxdepth</th>\n",
       "      <th></th>\n",
       "      <th></th>\n",
       "      <th></th>\n",
       "      <th></th>\n",
       "    </tr>\n",
       "  </thead>\n",
       "  <tbody>\n",
       "    <tr>\n",
       "      <th rowspan=\"2\" valign=\"top\">race excluded</th>\n",
       "      <th>5</th>\n",
       "      <td>0.414</td>\n",
       "      <td>0.406</td>\n",
       "      <td>0.855</td>\n",
       "      <td>0.867</td>\n",
       "    </tr>\n",
       "    <tr>\n",
       "      <th>10</th>\n",
       "      <td>0.390</td>\n",
       "      <td>0.376</td>\n",
       "      <td>0.950</td>\n",
       "      <td>0.892</td>\n",
       "    </tr>\n",
       "    <tr>\n",
       "      <th rowspan=\"2\" valign=\"top\">yes</th>\n",
       "      <th>5</th>\n",
       "      <td>0.668</td>\n",
       "      <td>0.666</td>\n",
       "      <td>0.976</td>\n",
       "      <td>0.966</td>\n",
       "    </tr>\n",
       "    <tr>\n",
       "      <th>10</th>\n",
       "      <td>0.683</td>\n",
       "      <td>0.679</td>\n",
       "      <td>0.994</td>\n",
       "      <td>0.962</td>\n",
       "    </tr>\n",
       "  </tbody>\n",
       "</table>\n",
       "</div>"
      ],
      "text/plain": [
       "                              insample acc  out-of-sample acc  \\\n",
       "Race as a predictor maxdepth                                    \n",
       "race excluded       5                0.414              0.406   \n",
       "                    10               0.390              0.376   \n",
       "yes                 5                0.668              0.666   \n",
       "                    10               0.683              0.679   \n",
       "\n",
       "                              insample accuracy on positive/negative obs  \\\n",
       "Race as a predictor maxdepth                                               \n",
       "race excluded       5                                              0.855   \n",
       "                    10                                             0.950   \n",
       "yes                 5                                              0.976   \n",
       "                    10                                             0.994   \n",
       "\n",
       "                              out-of-sample accuracy on positive/negative obs  \n",
       "Race as a predictor maxdepth                                                   \n",
       "race excluded       5                                                   0.867  \n",
       "                    10                                                  0.892  \n",
       "yes                 5                                                   0.966  \n",
       "                    10                                                  0.962  "
      ]
     },
     "execution_count": 95,
     "metadata": {},
     "output_type": "execute_result"
    }
   ],
   "source": [
    "results_orig"
   ]
  },
  {
   "cell_type": "code",
   "execution_count": 96,
   "metadata": {},
   "outputs": [
    {
     "data": {
      "text/html": [
       "<div>\n",
       "<style scoped>\n",
       "    .dataframe tbody tr th:only-of-type {\n",
       "        vertical-align: middle;\n",
       "    }\n",
       "\n",
       "    .dataframe tbody tr th {\n",
       "        vertical-align: top;\n",
       "    }\n",
       "\n",
       "    .dataframe thead th {\n",
       "        text-align: right;\n",
       "    }\n",
       "</style>\n",
       "<table border=\"1\" class=\"dataframe\">\n",
       "  <thead>\n",
       "    <tr style=\"text-align: right;\">\n",
       "      <th></th>\n",
       "      <th></th>\n",
       "      <th>insample acc</th>\n",
       "      <th>out-of-sample acc</th>\n",
       "      <th>insample accuracy on positive/negative obs</th>\n",
       "      <th>out-of-sample accuracy on positive/negative obs</th>\n",
       "    </tr>\n",
       "    <tr>\n",
       "      <th>Race as a predictor</th>\n",
       "      <th>maxdepth</th>\n",
       "      <th></th>\n",
       "      <th></th>\n",
       "      <th></th>\n",
       "      <th></th>\n",
       "    </tr>\n",
       "  </thead>\n",
       "  <tbody>\n",
       "    <tr>\n",
       "      <th rowspan=\"2\" valign=\"top\">race excluded</th>\n",
       "      <th>5</th>\n",
       "      <td>0.347</td>\n",
       "      <td>0.342</td>\n",
       "      <td>0.891</td>\n",
       "      <td>0.890</td>\n",
       "    </tr>\n",
       "    <tr>\n",
       "      <th>10</th>\n",
       "      <td>0.390</td>\n",
       "      <td>0.376</td>\n",
       "      <td>0.950</td>\n",
       "      <td>0.892</td>\n",
       "    </tr>\n",
       "    <tr>\n",
       "      <th rowspan=\"2\" valign=\"top\">yes</th>\n",
       "      <th>5</th>\n",
       "      <td>0.670</td>\n",
       "      <td>0.668</td>\n",
       "      <td>0.976</td>\n",
       "      <td>0.966</td>\n",
       "    </tr>\n",
       "    <tr>\n",
       "      <th>10</th>\n",
       "      <td>0.683</td>\n",
       "      <td>0.679</td>\n",
       "      <td>0.994</td>\n",
       "      <td>0.962</td>\n",
       "    </tr>\n",
       "  </tbody>\n",
       "</table>\n",
       "</div>"
      ],
      "text/plain": [
       "                              insample acc  out-of-sample acc  \\\n",
       "Race as a predictor maxdepth                                    \n",
       "race excluded       5                0.347              0.342   \n",
       "                    10               0.390              0.376   \n",
       "yes                 5                0.670              0.668   \n",
       "                    10               0.683              0.679   \n",
       "\n",
       "                              insample accuracy on positive/negative obs  \\\n",
       "Race as a predictor maxdepth                                               \n",
       "race excluded       5                                              0.891   \n",
       "                    10                                             0.950   \n",
       "yes                 5                                              0.976   \n",
       "                    10                                             0.994   \n",
       "\n",
       "                              out-of-sample accuracy on positive/negative obs  \n",
       "Race as a predictor maxdepth                                                   \n",
       "race excluded       5                                                   0.890  \n",
       "                    10                                                  0.892  \n",
       "yes                 5                                                   0.966  \n",
       "                    10                                                  0.962  "
      ]
     },
     "execution_count": 96,
     "metadata": {},
     "output_type": "execute_result"
    }
   ],
   "source": [
    "results"
   ]
  },
  {
   "cell_type": "code",
   "execution_count": null,
   "metadata": {},
   "outputs": [],
   "source": []
  }
 ],
 "metadata": {
  "kernelspec": {
   "display_name": "Python 3",
   "language": "python",
   "name": "python3"
  },
  "language_info": {
   "codemirror_mode": {
    "name": "ipython",
    "version": 3
   },
   "file_extension": ".py",
   "mimetype": "text/x-python",
   "name": "python",
   "nbconvert_exporter": "python",
   "pygments_lexer": "ipython3",
   "version": "3.6.9"
  }
 },
 "nbformat": 4,
 "nbformat_minor": 2
}
