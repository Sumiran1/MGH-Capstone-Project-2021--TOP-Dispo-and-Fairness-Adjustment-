{
 "cells": [
  {
   "cell_type": "code",
   "execution_count": null,
   "metadata": {},
   "outputs": [],
   "source": [
    "using Random, CategoricalArrays, DataFrames, DataFramesMeta, StatsBase, CSV, ScikitLearn, StatsBase\n",
    "@sk_import metrics: roc_auc_score\n",
    "@sk_import metrics: accuracy_score\n",
    "@sk_import metrics: precision_score\n",
    "@sk_import metrics: recall_score\n",
    "@sk_import metrics: confusion_matrix\n",
    "@sk_import metrics: plot_confusion_matrix"
   ]
  },
  {
   "cell_type": "code",
   "execution_count": null,
   "metadata": {},
   "outputs": [],
   "source": [
    "data_path_to_load_pen = \"C:/Users/15125/Desktop/CAPSTONE PROJECT/CLEANED DATA/POST IMPUTATION PROCESSING/penetrating/\"\n",
    "train_X_penetrating = CSV.read(data_path_to_load_pen*\"X_train_random_final_penetrating.csv\")\n",
    "test_X_penetrating = CSV.read(data_path_to_load_pen*\"X_test_random_final_penetrating.csv\")\n",
    "train_y_penetrating= CSV.read(data_path_to_load_pen*\"y_train_random_final_penetrating.csv\")\n",
    "test_y_penetrating = CSV.read(data_path_to_load_pen*\"y_test_random_final_penetrating.csv\")\n",
    "\n",
    "data_path_to_load_blunt = \"C:/Users/15125/Desktop/CAPSTONE PROJECT/CLEANED DATA/POST IMPUTATION PROCESSING/blunt/\"\n",
    "train_X_blunt = CSV.read(data_path_to_load_blunt*\"X_train_random_final_blunt.csv\")\n",
    "test_X_blunt = CSV.read(data_path_to_load_blunt*\"X_test_random_final_blunt.csv\")\n",
    "train_y_blunt= CSV.read(data_path_to_load_blunt*\"y_train_random_final_blunt.csv\")\n",
    "test_y_blunt = CSV.read(data_path_to_load_blunt*\"y_test_random_final_blunt.csv\")\n",
    "\n",
    "severity_categorical_var = [\n",
    "    :Head_severity,\n",
    "    :Face_severity,\n",
    "    :Neck_severity,\n",
    "    :Thorax_severity,\n",
    "    :Abdomen_severity,\n",
    "    :Spine_severity,\n",
    "    :Upper_Extremity_severity,\n",
    "    :Lower_Extremity_severity,\n",
    "    :Pelvis_Perineum_severity,\n",
    "    :External_severity,\n",
    "    #:severity_max\n",
    "]\n",
    "\n",
    "for col_name in severity_categorical_var\n",
    "    train_X_blunt[!, col_name] = CategoricalArray(train_X_blunt[!, col_name], ordered=true)\n",
    "    test_X_blunt[!, col_name] = CategoricalArray(test_X_blunt[!, col_name], ordered=true)\n",
    "    train_X_penetrating[!, col_name] = CategoricalArray(train_X_penetrating[!, col_name], ordered=true)\n",
    "    test_X_penetrating[!, col_name] = CategoricalArray(test_X_penetrating[!, col_name], ordered=true)\n",
    "    println(\"Transformed column '\", col_name, \"' to Ordered Categorical\")\n",
    "end\n",
    "\n",
    "train_X_blunt = categorical!(train_X_blunt)\n",
    "test_X_blunt = categorical!(test_X_blunt)\n",
    "train_X_penetrating = categorical!(train_X_penetrating)\n",
    "test_X_penetrating = categorical!(test_X_penetrating)\n",
    "println(\"Transformed all other non-ordered Categorical Variables\")\n",
    "\n",
    "# Dropped tmode1 and hemorrhage_ctrl_type and severity_max (29/11/2019)\n",
    "# and alcohol (09/01/2020) and acslevel (01/02/2020)\n",
    "names = [\n",
    "    :age, :gender, :race1, :signsoflife, :sbp1, :pulse1,\n",
    "    :oxysat1, :temp1, :gcstot1, :bleeding_disorder, :current_chemotherapy,\n",
    "    :congestive_heart_failure, :current_smoker, :chronic_renal_failure,\n",
    "    :history_cva, :diabetes, :disseminated_cancer,  :copd, :steroid,\n",
    "    :cirrhosis, :history_MI, :history_pvd, :hypertension_medication,\n",
    "    :method_of_injury, :Head_severity, :Face_severity, :Neck_severity, :Thorax_severity, :Abdomen_severity,\n",
    "    :Spine_severity, :Upper_Extremity_severity, :Lower_Extremity_severity,\n",
    "    :Pelvis_Perineum_severity, :External_severity,\n",
    "    #:severity_max, :hemorrhage_ctrl_type, :alcohol, :tmode1, :acslevel\n",
    "]\n",
    "\n",
    "train_X_blunt = train_X_blunt[!, names]\n",
    "test_X_blunt = test_X_blunt[!, names]\n",
    "train_X_penetrating = train_X_penetrating[!, names]\n",
    "test_X_penetrating = test_X_penetrating[!, names]\n",
    "IJulia.clear_output()"
   ]
  },
  {
   "cell_type": "code",
   "execution_count": null,
   "metadata": {},
   "outputs": [],
   "source": [
    "train_y_blunt=convert(Matrix, train_y_blunt)[:,1]\n",
    "test_y_blunt= convert(Matrix, test_y_blunt)[:,1]\n",
    "train_y_penetrating= convert(Matrix, train_y_penetrating)[:,1]\n",
    "test_y_penetrating= convert(Matrix, test_y_penetrating)[:,1]\n",
    "IJulia.clear_output()"
   ]
  },
  {
   "cell_type": "code",
   "execution_count": null,
   "metadata": {},
   "outputs": [],
   "source": [
    "grid_fs = IAI.GridSearch(\n",
    "    IAI.OptimalFeatureSelectionClassifier(\n",
    "        random_seed=1,\n",
    "        treat_unknown_level_missing=true\n",
    "    ),\n",
    "    sparsity=30,\n",
    ")\n",
    "IAI.fit_cv!(grid_fs, train_X_penetrating, train_y_penetrating, validation_criterion=:auc, n_folds=5,sample_weight=:autobalance)"
   ]
  },
  {
   "cell_type": "code",
   "execution_count": null,
   "metadata": {},
   "outputs": [],
   "source": [
    "IAI.score(grid_fs, test_X_penetrating, test_y_penetrating, criterion=:auc)"
   ]
  },
  {
   "cell_type": "code",
   "execution_count": null,
   "metadata": {},
   "outputs": [],
   "source": [
    "using Plots\n",
    "results = IAI.get_grid_results(grid_fs)\n",
    "plot(results.sparsity, results.valid_score, xlabel=\"Sparsity\",\n",
    "     ylabel=\"Validation AUC\", legend=nothing)"
   ]
  },
  {
   "cell_type": "code",
   "execution_count": null,
   "metadata": {},
   "outputs": [],
   "source": []
  }
 ],
 "metadata": {
  "kernelspec": {
   "display_name": "Julia 1.0.5",
   "language": "julia",
   "name": "julia-1.0"
  },
  "language_info": {
   "file_extension": ".jl",
   "mimetype": "application/julia",
   "name": "julia",
   "version": "1.0.5"
  }
 },
 "nbformat": 4,
 "nbformat_minor": 2
}
