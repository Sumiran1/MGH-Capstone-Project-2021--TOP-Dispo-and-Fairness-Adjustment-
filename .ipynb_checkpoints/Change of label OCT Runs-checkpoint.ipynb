{
 "cells": [
  {
   "cell_type": "code",
   "execution_count": 2,
   "metadata": {},
   "outputs": [],
   "source": [
    "using Random, CategoricalArrays, DataFrames, DataFramesMeta, StatsBase, CSV, ScikitLearn"
   ]
  },
  {
   "cell_type": "code",
   "execution_count": 7,
   "metadata": {},
   "outputs": [
    {
     "data": {
      "text/plain": [
       "0"
      ]
     },
     "execution_count": 7,
     "metadata": {},
     "output_type": "execute_result"
    }
   ],
   "source": [
    "data_path_to_load = \"C:/Users/15125/Desktop/CAPSTONE PROJECT/CLEANED DATA/FAIRNESS MODEL/\"\n",
    "weighted_sev = CSV.read(data_path_to_load*\"weighted_severity_penetrating_0.0001.csv\")\n",
    "changed_label = weighted_sev[!,:changed_labels]\n",
    "IJulia.clear_output()"
   ]
  },
  {
   "cell_type": "code",
   "execution_count": 4,
   "metadata": {},
   "outputs": [
    {
     "data": {
      "text/plain": [
       "oct_train (generic function with 1 method)"
      ]
     },
     "execution_count": 4,
     "metadata": {},
     "output_type": "execute_result"
    }
   ],
   "source": [
    "function oct_train(train_X, train_y, test_X, test_y)\n",
    "    oct = IAI.OptimalTreeClassifier(random_seed=1, criterion=:gini, \n",
    "        missingdatamode=:separate_class, treat_unknown_level_missing=true, \n",
    "        ls_num_tree_restarts= 60, minbucket= 100)\n",
    "    grid_oct = IAI.GridSearch(oct,max_depth=5)\n",
    "    IAI.fit_cv!(grid_oct, train_X, train_y, n_folds=5, sample_weight=:autobalance)\n",
    "    best_params_grid = IAI.get_best_params(grid_oct)\n",
    "    best_OCT = IAI.get_learner(grid_oct)\n",
    "    y_pred_train= IAI.predict(best_OCT, train_X)\n",
    "    y_pred_test= IAI.predict(best_OCT, test_X)\n",
    "    non_no_change_obs_train = train_y .!= \"no change\"\n",
    "    non_no_change_obs_test = test_y .!= \"no change\"\n",
    "    ins_acc = IAI.score(best_OCT, train_X, train_y, criterion=:misclassification)\n",
    "    oos_acc = IAI.score(best_OCT, test_X, test_y,  criterion=:misclassification)\n",
    "    ins_acc2 = IAI.score(best_OCT, train_X[non_no_change_obs_train,:], train_y[non_no_change_obs_train], criterion=:misclassification)\n",
    "    oos_acc2 = IAI.score(best_OCT, test_X[non_no_change_obs_test,:],  test_y[non_no_change_obs_test],  criterion=:misclassification)\n",
    "    return ins_acc, oos_acc, ins_acc2, oos_acc2, best_OCT\n",
    "end"
   ]
  },
  {
   "cell_type": "code",
   "execution_count": 14,
   "metadata": {},
   "outputs": [
    {
     "data": {
      "text/plain": [
       "pre_process_and_train (generic function with 1 method)"
      ]
     },
     "execution_count": 14,
     "metadata": {},
     "output_type": "execute_result"
    }
   ],
   "source": [
    "function pre_process_and_train(X, y, seed_num)\n",
    "    (train_X, train_y), (test_X, test_y) = IAI.split_data(:classification, X, y, seed= seed_num)\n",
    "    \n",
    "    severity_categorical_var = [\n",
    "    :Head_severity,\n",
    "    :Face_severity,\n",
    "    :Neck_severity,\n",
    "    :Thorax_severity,\n",
    "    :Abdomen_severity,\n",
    "    :Spine_severity,\n",
    "    :Upper_Extremity_severity,\n",
    "    :Lower_Extremity_severity,\n",
    "    :Pelvis_Perineum_severity,\n",
    "    :External_severity,\n",
    "    :gcstot1,\n",
    "    #:severity_max\n",
    "    ]\n",
    "    \n",
    "    for col_name in severity_categorical_var\n",
    "        train_X[!, col_name] = CategoricalArray(train_X[!, col_name], ordered=true)\n",
    "        test_X[!, col_name] = CategoricalArray(test_X[!, col_name], ordered=true)  \n",
    "        println(\"Transformed column '\", col_name, \"' to Ordered Categorical\")\n",
    "    end\n",
    "    \n",
    "    train_X = categorical!(train_X)\n",
    "    test_X = categorical!(test_X)\n",
    "    println(\"Transformed all other non-ordered Categorical Variables\")\n",
    "    \n",
    "    names = [\n",
    "        :age, :gender, :signsoflife, :eddisp, :sbp1, :pulse1, :race1,\n",
    "        :oxysat1, :temp1, :gcstot1, :bleeding_disorder, :current_chemotherapy,\n",
    "        :congestive_heart_failure, :current_smoker, :chronic_renal_failure,\n",
    "        :history_cva, :diabetes, :disseminated_cancer,  :copd, :steroid,\n",
    "        :cirrhosis, :history_MI, :history_pvd, :hypertension_medication,\n",
    "        :method_of_injury, :Head_severity, :Face_severity, :Neck_severity, :Thorax_severity, :Abdomen_severity,\n",
    "        :Spine_severity, :Upper_Extremity_severity, :Lower_Extremity_severity,\n",
    "        :Pelvis_Perineum_severity, :External_severity,:alcohol_use_disorder,:drug_use_disorder,:rr1]\n",
    "    \n",
    "    train_X = train_X[!, names]\n",
    "    test_X = test_X[!, names]\n",
    "    \n",
    "    ins_acc, oos_acc, ins_acc2, oos_acc2, best_OCT = oct_train(train_X, train_y, test_X, test_y)\n",
    "    \n",
    "    return ins_acc, oos_acc, ins_acc2, oos_acc2, best_OCT \n",
    "end"
   ]
  },
  {
   "cell_type": "markdown",
   "metadata": {},
   "source": [
    "## Changed Labels"
   ]
  },
  {
   "cell_type": "code",
   "execution_count": null,
   "metadata": {},
   "outputs": [
    {
     "name": "stdout",
     "output_type": "stream",
     "text": [
      "Beginning run number 1\n",
      "\n",
      "\n",
      "Transformed column 'Head_severity' to Ordered Categorical\n",
      "Transformed column 'Face_severity' to Ordered Categorical\n",
      "Transformed column 'Neck_severity' to Ordered Categorical\n",
      "Transformed column 'Thorax_severity' to Ordered Categorical\n",
      "Transformed column 'Abdomen_severity' to Ordered Categorical\n",
      "Transformed column 'Spine_severity' to Ordered Categorical\n",
      "Transformed column 'Upper_Extremity_severity' to Ordered Categorical\n",
      "Transformed column 'Lower_Extremity_severity' to Ordered Categorical\n",
      "Transformed column 'Pelvis_Perineum_severity' to Ordered Categorical\n",
      "Transformed column 'External_severity' to Ordered Categorical\n",
      "Transformed column 'gcstot1' to Ordered Categorical\n",
      "Transformed all other non-ordered Categorical Variables\n"
     ]
    },
    {
     "name": "stderr",
     "output_type": "stream",
     "text": [
      "\u001b[32mCV fold...                           0%|█               |  ETA: N/A\u001b[39m\n",
      "\u001b[A2mTraining trees...                    0%|█               |  ETA: N/A\u001b[39m\n",
      "\u001b[A2mTraining trees...                    2%|█               |  ETA: 0:02:33\u001b[39m\n",
      "\u001b[A2mTraining trees...                    3%|█               |  ETA: 0:02:25\u001b[39m\n",
      "\u001b[A2mTraining trees...                    5%|█               |  ETA: 0:02:19\u001b[39m\n",
      "\u001b[A2mTraining trees...                    7%|██              |  ETA: 0:02:16\u001b[39m\n",
      "\u001b[A2mTraining trees...                    8%|██              |  ETA: 0:02:15\u001b[39m\n",
      "\u001b[A2mTraining trees...                   10%|██              |  ETA: 0:02:10\u001b[39m\n",
      "\u001b[A2mTraining trees...                   12%|██              |  ETA: 0:02:05\u001b[39m\n",
      "\u001b[A2mTraining trees...                   13%|███             |  ETA: 0:02:01\u001b[39m\n",
      "\u001b[A2mTraining trees...                   15%|███             |  ETA: 0:01:58\u001b[39m\n",
      "\u001b[A2mTraining trees...                   17%|███             |  ETA: 0:01:55\u001b[39m\n",
      "\u001b[A2mTraining trees...                   18%|███             |  ETA: 0:01:48\u001b[39m\n",
      "\u001b[A2mTraining trees...                   20%|████            |  ETA: 0:01:48\u001b[39m\n",
      "\u001b[A2mTraining trees...                   22%|████            |  ETA: 0:01:44\u001b[39m\n",
      "\u001b[A2mTraining trees...                   23%|████            |  ETA: 0:01:41\u001b[39m\n",
      "\u001b[A2mTraining trees...                   25%|█████           |  ETA: 0:01:37\u001b[39m\n",
      "\u001b[A2mTraining trees...                   27%|█████           |  ETA: 0:01:33\u001b[39m\n",
      "\u001b[A2mTraining trees...                   28%|█████           |  ETA: 0:01:31\u001b[39m\n",
      "\u001b[A2mTraining trees...                   30%|█████           |  ETA: 0:01:30\u001b[39m\n",
      "\u001b[A2mTraining trees...                   32%|██████          |  ETA: 0:01:27\u001b[39m\n",
      "\u001b[A2mTraining trees...                   33%|██████          |  ETA: 0:01:25\u001b[39m"
     ]
    }
   ],
   "source": [
    "ins_accs = []\n",
    "ins_accs2 = []\n",
    "oos_accs = []\n",
    "oos_accs2 = []\n",
    "\n",
    "for num in 1:10\n",
    "    println(\"Beginning run number \", num)\n",
    "    println(\"\\n\")\n",
    "    ins_acc, oos_acc, ins_acc2, oos_acc2, best_OCT = pre_process_and_train(weighted_sev, changed_label, num)\n",
    "    ins_accs = append!(ins_accs, ins_acc)\n",
    "    ins_accs2 = append!(ins_accs2, ins_acc2)\n",
    "    oos_accs = append!(oos_accs, oos_acc)\n",
    "    oos_accs2 = append!(oos_accs2, oos_acc2)\n",
    "    IAI.write_json(\"Fairness_OCT_change_of_label $num.json\",best_OCT)\n",
    "    println(\"Ending run number \", num)\n",
    "    println(\"\\n\")\n",
    "end"
   ]
  },
  {
   "cell_type": "code",
   "execution_count": null,
   "metadata": {},
   "outputs": [],
   "source": [
    "results2 = DataFrame(\n",
    "    ins_acc_train = ins_accs,\n",
    "    ins_acc_test = ins_accs2,\n",
    "    oos_acc_train = oos_accs,\n",
    "    oos_acc_test = oos_accs2,\n",
    ")"
   ]
  },
  {
   "cell_type": "code",
   "execution_count": 13,
   "metadata": {},
   "outputs": [
    {
     "data": {
      "text/html": [
       "<table class=\"data-frame\"><thead><tr><th></th><th>ins_acc_train</th><th>ins_acc_test</th><th>oos_acc_train</th><th>oos_acc_test</th></tr><tr><th></th><th>Any</th><th>Any</th><th>Any</th><th>Any</th></tr></thead><tbody><p>10 rows × 4 columns</p><tr><th>1</th><td>0.138999</td><td>0.968485</td><td>0.136522</td><td>0.966102</td></tr><tr><th>2</th><td>0.377161</td><td>0.884242</td><td>0.379836</td><td>0.837571</td></tr><tr><th>3</th><td>0.400686</td><td>0.881212</td><td>0.400038</td><td>0.834746</td></tr><tr><th>4</th><td>0.389223</td><td>0.87697</td><td>0.387587</td><td>0.860169</td></tr><tr><th>5</th><td>0.40025</td><td>0.867879</td><td>0.405057</td><td>0.864407</td></tr><tr><th>6</th><td>0.407902</td><td>0.877576</td><td>0.406645</td><td>0.847458</td></tr><tr><th>7</th><td>0.397228</td><td>0.865455</td><td>0.394384</td><td>0.878531</td></tr><tr><th>8</th><td>0.379176</td><td>0.87697</td><td>0.375135</td><td>0.84887</td></tr><tr><th>9</th><td>0.398535</td><td>0.881212</td><td>0.396481</td><td>0.850282</td></tr><tr><th>10</th><td>0.374221</td><td>0.876364</td><td>0.369799</td><td>0.871469</td></tr></tbody></table>"
      ],
      "text/latex": [
       "\\begin{tabular}{r|cccc}\n",
       "\t& ins\\_acc\\_train & ins\\_acc\\_test & oos\\_acc\\_train & oos\\_acc\\_test\\\\\n",
       "\t\\hline\n",
       "\t& Any & Any & Any & Any\\\\\n",
       "\t\\hline\n",
       "\t1 & 0.138999 & 0.968485 & 0.136522 & 0.966102 \\\\\n",
       "\t2 & 0.377161 & 0.884242 & 0.379836 & 0.837571 \\\\\n",
       "\t3 & 0.400686 & 0.881212 & 0.400038 & 0.834746 \\\\\n",
       "\t4 & 0.389223 & 0.87697 & 0.387587 & 0.860169 \\\\\n",
       "\t5 & 0.40025 & 0.867879 & 0.405057 & 0.864407 \\\\\n",
       "\t6 & 0.407902 & 0.877576 & 0.406645 & 0.847458 \\\\\n",
       "\t7 & 0.397228 & 0.865455 & 0.394384 & 0.878531 \\\\\n",
       "\t8 & 0.379176 & 0.87697 & 0.375135 & 0.84887 \\\\\n",
       "\t9 & 0.398535 & 0.881212 & 0.396481 & 0.850282 \\\\\n",
       "\t10 & 0.374221 & 0.876364 & 0.369799 & 0.871469 \\\\\n",
       "\\end{tabular}\n"
      ],
      "text/plain": [
       "10×4 DataFrame\n",
       "│ Row │ ins_acc_train │ ins_acc_test │ oos_acc_train │ oos_acc_test │\n",
       "│     │ \u001b[90mAny\u001b[39m           │ \u001b[90mAny\u001b[39m          │ \u001b[90mAny\u001b[39m           │ \u001b[90mAny\u001b[39m          │\n",
       "├─────┼───────────────┼──────────────┼───────────────┼──────────────┤\n",
       "│ 1   │ 0.138999      │ 0.968485     │ 0.136522      │ 0.966102     │\n",
       "│ 2   │ 0.377161      │ 0.884242     │ 0.379836      │ 0.837571     │\n",
       "│ 3   │ 0.400686      │ 0.881212     │ 0.400038      │ 0.834746     │\n",
       "│ 4   │ 0.389223      │ 0.87697      │ 0.387587      │ 0.860169     │\n",
       "│ 5   │ 0.40025       │ 0.867879     │ 0.405057      │ 0.864407     │\n",
       "│ 6   │ 0.407902      │ 0.877576     │ 0.406645      │ 0.847458     │\n",
       "│ 7   │ 0.397228      │ 0.865455     │ 0.394384      │ 0.878531     │\n",
       "│ 8   │ 0.379176      │ 0.87697      │ 0.375135      │ 0.84887      │\n",
       "│ 9   │ 0.398535      │ 0.881212     │ 0.396481      │ 0.850282     │\n",
       "│ 10  │ 0.374221      │ 0.876364     │ 0.369799      │ 0.871469     │"
      ]
     },
     "execution_count": 13,
     "metadata": {},
     "output_type": "execute_result"
    }
   ],
   "source": [
    "results = DataFrame(\n",
    "    ins_acc_train = ins_accs,\n",
    "    ins_acc_test = ins_accs2,\n",
    "    oos_acc_train = oos_accs,\n",
    "    oos_acc_test = oos_accs2,\n",
    ")"
   ]
  },
  {
   "cell_type": "raw",
   "metadata": {},
   "source": []
  },
  {
   "cell_type": "code",
   "execution_count": 36,
   "metadata": {},
   "outputs": [
    {
     "data": {
      "text/plain": [
       "\"C:/Users/15125/Desktop/CAPSTONE PROJECT/CLEANED DATA/FAIRNESS MODEL/fairness_oct_split_results_depth10.csv\""
      ]
     },
     "execution_count": 36,
     "metadata": {},
     "output_type": "execute_result"
    }
   ],
   "source": [
    "CSV.write(\"C:/Users/15125/Desktop/CAPSTONE PROJECT/CLEANED DATA/FAIRNESS MODEL/fairness_oct_split_change_of_label_results_depth5_norace.csv\", results)"
   ]
  }
 ],
 "metadata": {
  "kernelspec": {
   "display_name": "Julia 1.0.5",
   "language": "julia",
   "name": "julia-1.0"
  },
  "language_info": {
   "file_extension": ".jl",
   "mimetype": "application/julia",
   "name": "julia",
   "version": "1.0.5"
  }
 },
 "nbformat": 4,
 "nbformat_minor": 2
}
