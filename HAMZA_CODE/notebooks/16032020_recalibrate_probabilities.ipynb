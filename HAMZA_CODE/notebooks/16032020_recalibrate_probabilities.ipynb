{
 "cells": [
  {
   "cell_type": "code",
   "execution_count": 1,
   "metadata": {
    "ExecuteTime": {
     "end_time": "2020-03-16T00:17:01.365000-04:00",
     "start_time": "2020-03-16T04:16:55.226Z"
    }
   },
   "outputs": [],
   "source": [
    "using CSV, DataFrames"
   ]
  },
  {
   "cell_type": "code",
   "execution_count": 29,
   "metadata": {
    "ExecuteTime": {
     "end_time": "2020-03-16T00:43:36.884000-04:00",
     "start_time": "2020-03-16T04:43:36.880Z"
    }
   },
   "outputs": [
    {
     "data": {
      "text/plain": [
       "\"../../../../../../Dropbox (MIT)/Trauma - TQIP MGH - MIT/trees_mortality_composite_morbidity/2020_03_02/\""
      ]
     },
     "execution_count": 29,
     "metadata": {},
     "output_type": "execute_result"
    }
   ],
   "source": [
    "tree_lnrs_path = \"../../../../../../Dropbox (MIT)/Trauma - TQIP MGH - MIT/trees_mortality_composite_morbidity/2020_03_02/\""
   ]
  },
  {
   "cell_type": "markdown",
   "metadata": {},
   "source": [
    "# Penetrating"
   ]
  },
  {
   "cell_type": "code",
   "execution_count": 30,
   "metadata": {
    "ExecuteTime": {
     "end_time": "2020-03-16T00:43:38.131000-04:00",
     "start_time": "2020-03-16T04:43:37.191Z"
    },
    "scrolled": true
   },
   "outputs": [
    {
     "name": "stdout",
     "output_type": "stream",
     "text": [
      "Loaded all data with time split\n",
      "Transformed column 'Head_severity' to Ordered Categorical\n",
      "Transformed column 'Face_severity' to Ordered Categorical\n",
      "Transformed column 'Neck_severity' to Ordered Categorical\n",
      "Transformed column 'Thorax_severity' to Ordered Categorical\n",
      "Transformed column 'Abdomen_severity' to Ordered Categorical\n",
      "Transformed column 'Spine_severity' to Ordered Categorical\n",
      "Transformed column 'Upper_Extremity_severity' to Ordered Categorical\n",
      "Transformed column 'Lower_Extremity_severity' to Ordered Categorical\n",
      "Transformed column 'Pelvis_Perineum_severity' to Ordered Categorical\n",
      "Transformed all other non-ordered Categorical Variables\n",
      "Loaded all data\n"
     ]
    }
   ],
   "source": [
    "#Loading X for morbidity and mortality\n",
    "data_path = \"../../../../../../Dropbox (MIT)/Trauma - TQIP MGH - MIT/imputed_random_split_per_injury_without_severity_6_02032020/penetrating/\"\n",
    "train_X_random_morbidity = CSV.read(data_path*\"morbidity/train_X_morbid.csv\")\n",
    "test_X_random_morbidity = CSV.read(data_path*\"morbidity/test_X_morbid.csv\")\n",
    "train_X_random_mortality = CSV.read(data_path*\"mortality/train_X_mortal.csv\")\n",
    "test_X_random_mortality = CSV.read(data_path*\"mortality/test_X_mortal.csv\")\n",
    "\n",
    "# Loading y mortality\n",
    "train_y_mortality_random = CSV.read(\n",
    "    data_path*\"mortality/train_y_mortal.csv\",\n",
    "\n",
    ")\n",
    "test_y_mortality_random = CSV.read(\n",
    "    data_path*\"mortality/test_y_mortal.csv\",\n",
    "\n",
    ")\n",
    "train_y_mortality_random = identity.(convert(Matrix, train_y_mortality_random)[:,2])\n",
    "test_y_mortality_random = identity.(convert(Matrix, test_y_mortality_random)[:,2])\n",
    "\n",
    "# Loading y morbidity\n",
    "train_y_morbidity_random = CSV.read(\n",
    "    data_path*\"morbidity/train_y_morbid.csv\",\n",
    "\n",
    ")\n",
    "test_y_morbidity_random = CSV.read(\n",
    "    data_path*\"morbidity/test_y_morbid.csv\",\n",
    "\n",
    ")\n",
    "train_y_morbidity_random = identity.(convert(Matrix, train_y_morbidity_random)[:,2])\n",
    "test_y_morbidity_random = identity.(convert(Matrix, test_y_morbidity_random)[:,2])\n",
    "println(\"Loaded all data with time split\")\n",
    "\n",
    "severity_categorical_var = [\n",
    "    :Head_severity,\n",
    "    :Face_severity,\n",
    "    :Neck_severity,\n",
    "    :Thorax_severity,\n",
    "    :Abdomen_severity,\n",
    "    :Spine_severity,\n",
    "    :Upper_Extremity_severity,\n",
    "    :Lower_Extremity_severity,\n",
    "    :Pelvis_Perineum_severity,\n",
    "    #:severity_max\n",
    "]\n",
    "for col_name in severity_categorical_var\n",
    "    train_X_random_morbidity[!, col_name] = CategoricalArray(train_X_random_morbidity[!, col_name], ordered=true)\n",
    "    test_X_random_morbidity[!, col_name] = CategoricalArray(test_X_random_morbidity[!, col_name], ordered=true)\n",
    "    train_X_random_mortality[!, col_name] = CategoricalArray(train_X_random_mortality[!, col_name], ordered=true)\n",
    "    test_X_random_mortality[!, col_name] = CategoricalArray(test_X_random_mortality[!, col_name], ordered=true)\n",
    "    println(\"Transformed column '\", col_name, \"' to Ordered Categorical\")\n",
    "end\n",
    "categorical!(train_X_random_morbidity)\n",
    "categorical!(test_X_random_morbidity)\n",
    "categorical!(train_X_random_mortality)\n",
    "categorical!(test_X_random_mortality)\n",
    "println(\"Transformed all other non-ordered Categorical Variables\")\n",
    "\n",
    "# Dropped tmode1 and hemorrhage_ctrl_type and severity_max (29/11/2019)\n",
    "# and alcohol (09/01/2020) and acslevel (01/02/2020)\n",
    "names = [\n",
    "    :age, :gender, :race1, :signsoflife, :sbp1, :pulse1,\n",
    "    :oxysat1, :temp1, :gcstot1, :bleeding_disorder, :current_chemotherapy,\n",
    "    :congestive_heart_failure, :current_smoker, :chronic_renal_failure,\n",
    "    :history_cva, :diabetes, :disseminated_cancer,  :copd, :steroid,\n",
    "    :cirrhosis, :history_MI, :history_pvd, :hypertension_medication,\n",
    "    :method_of_injury, :Head_severity, :Face_severity, :Neck_severity, :Thorax_severity, :Abdomen_severity,\n",
    "    :Spine_severity, :Upper_Extremity_severity, :Lower_Extremity_severity,\n",
    "    :Pelvis_Perineum_severity, :External_severity,\n",
    "    #:severity_max, :hemorrhage_ctrl_type, :alcohol, :tmode1, :acslevel\n",
    "]\n",
    "train_X_random_morbidity = train_X_random_morbidity[!, names]\n",
    "test_X_random_morbidity = test_X_random_morbidity[!, names]\n",
    "train_X_random_mortality = train_X_random_mortality[!, names]\n",
    "test_X_random_mortality = test_X_random_mortality[!, names]\n",
    "println(\"Loaded all data\")"
   ]
  },
  {
   "cell_type": "code",
   "execution_count": 31,
   "metadata": {
    "ExecuteTime": {
     "end_time": "2020-03-16T00:43:40.725000-04:00",
     "start_time": "2020-03-16T04:43:37.260Z"
    }
   },
   "outputs": [
    {
     "data": {
      "text/plain": [
       "\"y_pred_proba_mortal_penetrating_test.csv\""
      ]
     },
     "execution_count": 31,
     "metadata": {},
     "output_type": "execute_result"
    }
   ],
   "source": [
    "# Mortal Penetrating\n",
    "lnr_mortal_penetrating = IAI.read_json(\n",
    "    tree_lnrs_path*\"seed=1___outcome=hosp_mortality___minbucket=100___injury=penetrating_auc941.json\"\n",
    ")\n",
    "IAI.OptimalTrees.update_tree_fits!(\n",
    "    lnr_mortal_penetrating, train_X_random_mortality, train_y_mortality_random\n",
    ")\n",
    "y_pred_proba_mortal_penetrating_test = IAI.predict_proba(\n",
    "    lnr_mortal_penetrating, test_X_random_mortality\n",
    ")\n",
    "CSV.write(\"y_pred_proba_mortal_penetrating_test.csv\", y_pred_proba_mortal_penetrating_test)"
   ]
  },
  {
   "cell_type": "code",
   "execution_count": 32,
   "metadata": {
    "ExecuteTime": {
     "end_time": "2020-03-16T00:43:41.777000-04:00",
     "start_time": "2020-03-16T04:43:37.346Z"
    }
   },
   "outputs": [
    {
     "data": {
      "text/plain": [
       "\"y_pred_proba_morbid_penetrating_test.csv\""
      ]
     },
     "execution_count": 32,
     "metadata": {},
     "output_type": "execute_result"
    }
   ],
   "source": [
    "# Morbid Penetrating\n",
    "lnr_morbid_penetrating = IAI.read_json(\n",
    "    tree_lnrs_path*\"seed=1___outcome=hosp_morbidity___minbucket=100___injury=penetrating_auc777.json\"\n",
    ")\n",
    "IAI.OptimalTrees.update_tree_fits!(\n",
    "    lnr_morbid_penetrating, train_X_random_morbidity, train_y_morbidity_random\n",
    ")\n",
    "y_pred_proba_morbid_penetrating_test = IAI.predict_proba(\n",
    "    lnr_morbid_penetrating, test_X_random_morbidity\n",
    ")\n",
    "CSV.write(\"y_pred_proba_morbid_penetrating_test.csv\", y_pred_proba_morbid_penetrating_test)"
   ]
  },
  {
   "cell_type": "markdown",
   "metadata": {},
   "source": [
    "# Blunt"
   ]
  },
  {
   "cell_type": "code",
   "execution_count": 33,
   "metadata": {
    "ExecuteTime": {
     "end_time": "2020-03-16T00:43:52.293000-04:00",
     "start_time": "2020-03-16T04:43:38.335Z"
    }
   },
   "outputs": [
    {
     "name": "stdout",
     "output_type": "stream",
     "text": [
      "Loaded all data with time split\n",
      "Transformed column 'Head_severity' to Ordered Categorical\n",
      "Transformed column 'Face_severity' to Ordered Categorical\n",
      "Transformed column 'Neck_severity' to Ordered Categorical\n",
      "Transformed column 'Thorax_severity' to Ordered Categorical\n",
      "Transformed column 'Abdomen_severity' to Ordered Categorical\n",
      "Transformed column 'Spine_severity' to Ordered Categorical\n",
      "Transformed column 'Upper_Extremity_severity' to Ordered Categorical\n",
      "Transformed column 'Lower_Extremity_severity' to Ordered Categorical\n",
      "Transformed column 'Pelvis_Perineum_severity' to Ordered Categorical\n",
      "Transformed all other non-ordered Categorical Variables\n",
      "Loaded all data\n"
     ]
    }
   ],
   "source": [
    "#Loading X for morbidity and mortality\n",
    "data_path = \"../../../../../../Dropbox (MIT)/Trauma - TQIP MGH - MIT/imputed_random_split_per_injury_without_severity_6_02032020/blunt/\"\n",
    "train_X_random_morbidity = CSV.read(data_path*\"morbidity/train_X_morbid.csv\")\n",
    "test_X_random_morbidity = CSV.read(data_path*\"morbidity/test_X_morbid.csv\")\n",
    "train_X_random_mortality = CSV.read(data_path*\"mortality/train_X_mortal.csv\")\n",
    "test_X_random_mortality = CSV.read(data_path*\"mortality/test_X_mortal.csv\")\n",
    "\n",
    "# Loading y mortality\n",
    "train_y_mortality_random = CSV.read(\n",
    "    data_path*\"mortality/train_y_mortal.csv\",\n",
    "\n",
    ")\n",
    "test_y_mortality_random = CSV.read(\n",
    "    data_path*\"mortality/test_y_mortal.csv\",\n",
    "\n",
    ")\n",
    "train_y_mortality_random = identity.(convert(Matrix, train_y_mortality_random)[:,2])\n",
    "test_y_mortality_random = identity.(convert(Matrix, test_y_mortality_random)[:,2])\n",
    "\n",
    "# Loading y morbidity\n",
    "train_y_morbidity_random = CSV.read(\n",
    "    data_path*\"morbidity/train_y_morbid.csv\",\n",
    "\n",
    ")\n",
    "test_y_morbidity_random = CSV.read(\n",
    "    data_path*\"morbidity/test_y_morbid.csv\",\n",
    "\n",
    ")\n",
    "train_y_morbidity_random = identity.(convert(Matrix, train_y_morbidity_random)[:,2])\n",
    "test_y_morbidity_random = identity.(convert(Matrix, test_y_morbidity_random)[:,2])\n",
    "println(\"Loaded all data with time split\")\n",
    "\n",
    "severity_categorical_var = [\n",
    "    :Head_severity,\n",
    "    :Face_severity,\n",
    "    :Neck_severity,\n",
    "    :Thorax_severity,\n",
    "    :Abdomen_severity,\n",
    "    :Spine_severity,\n",
    "    :Upper_Extremity_severity,\n",
    "    :Lower_Extremity_severity,\n",
    "    :Pelvis_Perineum_severity,\n",
    "    #:severity_max\n",
    "]\n",
    "for col_name in severity_categorical_var\n",
    "    train_X_random_morbidity[!, col_name] = CategoricalArray(train_X_random_morbidity[!, col_name], ordered=true)\n",
    "    test_X_random_morbidity[!, col_name] = CategoricalArray(test_X_random_morbidity[!, col_name], ordered=true)\n",
    "    train_X_random_mortality[!, col_name] = CategoricalArray(train_X_random_mortality[!, col_name], ordered=true)\n",
    "    test_X_random_mortality[!, col_name] = CategoricalArray(test_X_random_mortality[!, col_name], ordered=true)\n",
    "    println(\"Transformed column '\", col_name, \"' to Ordered Categorical\")\n",
    "end\n",
    "categorical!(train_X_random_morbidity)\n",
    "categorical!(test_X_random_morbidity)\n",
    "categorical!(train_X_random_mortality)\n",
    "categorical!(test_X_random_mortality)\n",
    "println(\"Transformed all other non-ordered Categorical Variables\")\n",
    "\n",
    "# Dropped tmode1 and hemorrhage_ctrl_type and severity_max (29/11/2019)\n",
    "# and alcohol (09/01/2020) and acslevel (01/02/2020)\n",
    "names = [\n",
    "    :age, :gender, :race1, :signsoflife, :sbp1, :pulse1,\n",
    "    :oxysat1, :temp1, :gcstot1, :bleeding_disorder, :current_chemotherapy,\n",
    "    :congestive_heart_failure, :current_smoker, :chronic_renal_failure,\n",
    "    :history_cva, :diabetes, :disseminated_cancer,  :copd, :steroid,\n",
    "    :cirrhosis, :history_MI, :history_pvd, :hypertension_medication,\n",
    "    :method_of_injury, :Head_severity, :Face_severity, :Neck_severity, :Thorax_severity, :Abdomen_severity,\n",
    "    :Spine_severity, :Upper_Extremity_severity, :Lower_Extremity_severity,\n",
    "    :Pelvis_Perineum_severity, :External_severity,\n",
    "    #:severity_max, :hemorrhage_ctrl_type, :alcohol, :tmode1, :acslevel\n",
    "]\n",
    "train_X_random_morbidity = train_X_random_morbidity[!, names]\n",
    "test_X_random_morbidity = test_X_random_morbidity[!, names]\n",
    "train_X_random_mortality = train_X_random_mortality[!, names]\n",
    "test_X_random_mortality = test_X_random_mortality[!, names]\n",
    "println(\"Loaded all data\")"
   ]
  },
  {
   "cell_type": "code",
   "execution_count": 34,
   "metadata": {
    "ExecuteTime": {
     "end_time": "2020-03-16T00:43:57.349000-04:00",
     "start_time": "2020-03-16T04:43:38.459Z"
    }
   },
   "outputs": [
    {
     "data": {
      "text/plain": [
       "\"y_pred_proba_mortal_blunt_test.csv\""
      ]
     },
     "execution_count": 34,
     "metadata": {},
     "output_type": "execute_result"
    }
   ],
   "source": [
    "# Mortal Blunt\n",
    "lnr_mortal_blunt = IAI.read_json(\n",
    "    tree_lnrs_path*\"seed=1___outcome=hosp_mortality___minbucket=100___injury=blunt_auc890.json\"\n",
    ")\n",
    "IAI.OptimalTrees.update_tree_fits!(\n",
    "    lnr_mortal_blunt, train_X_random_mortality, train_y_mortality_random\n",
    ")\n",
    "y_pred_proba_mortal_blunt_test = IAI.predict_proba(\n",
    "    lnr_mortal_blunt, test_X_random_mortality\n",
    ")\n",
    "CSV.write(\"y_pred_proba_mortal_blunt_test.csv\", y_pred_proba_mortal_blunt_test)"
   ]
  },
  {
   "cell_type": "code",
   "execution_count": 35,
   "metadata": {
    "ExecuteTime": {
     "end_time": "2020-03-16T00:44:03.873000-04:00",
     "start_time": "2020-03-16T04:43:38.714Z"
    }
   },
   "outputs": [
    {
     "data": {
      "text/plain": [
       "\"y_pred_proba_morbid_blunt_test.csv\""
      ]
     },
     "execution_count": 35,
     "metadata": {},
     "output_type": "execute_result"
    }
   ],
   "source": [
    "# Morbid Blunt\n",
    "lnr_morbid_blunt = IAI.read_json(\n",
    "    tree_lnrs_path*\"seed=1___outcome=hosp_morbidity___minbucket=100___injury=blunt_auc754.json\"\n",
    ")\n",
    "IAI.OptimalTrees.update_tree_fits!(\n",
    "    lnr_morbid_blunt, train_X_random_morbidity, train_y_morbidity_random\n",
    ")\n",
    "y_pred_proba_morbid_blunt_test = IAI.predict_proba(\n",
    "    lnr_morbid_blunt, test_X_random_morbidity\n",
    ")\n",
    "CSV.write(\"y_pred_proba_morbid_blunt_test.csv\", y_pred_proba_morbid_blunt_test)"
   ]
  },
  {
   "cell_type": "code",
   "execution_count": null,
   "metadata": {},
   "outputs": [],
   "source": []
  },
  {
   "cell_type": "code",
   "execution_count": null,
   "metadata": {},
   "outputs": [],
   "source": []
  },
  {
   "cell_type": "code",
   "execution_count": null,
   "metadata": {},
   "outputs": [],
   "source": []
  }
 ],
 "metadata": {
  "kernelspec": {
   "display_name": "Julia 1.2.0",
   "language": "julia",
   "name": "julia-1.2"
  },
  "language_info": {
   "file_extension": ".jl",
   "mimetype": "application/julia",
   "name": "julia",
   "version": "1.2.0"
  },
  "latex_envs": {
   "LaTeX_envs_menu_present": true,
   "autoclose": false,
   "autocomplete": true,
   "bibliofile": "biblio.bib",
   "cite_by": "apalike",
   "current_citInitial": 1,
   "eqLabelWithNumbers": true,
   "eqNumInitial": 1,
   "hotkeys": {
    "equation": "Ctrl-E",
    "itemize": "Ctrl-I"
   },
   "labels_anchors": false,
   "latex_user_defs": false,
   "report_style_numbering": false,
   "user_envs_cfg": false
  },
  "toc": {
   "base_numbering": 1,
   "nav_menu": {},
   "number_sections": true,
   "sideBar": true,
   "skip_h1_title": false,
   "title_cell": "Table of Contents",
   "title_sidebar": "Contents",
   "toc_cell": false,
   "toc_position": {},
   "toc_section_display": true,
   "toc_window_display": false
  }
 },
 "nbformat": 4,
 "nbformat_minor": 2
}
