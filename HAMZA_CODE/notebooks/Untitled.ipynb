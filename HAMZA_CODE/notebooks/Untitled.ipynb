{
 "cells": [
  {
   "cell_type": "code",
   "execution_count": 75,
   "metadata": {
    "ExecuteTime": {
     "end_time": "2019-12-21T03:12:55.228000+01:00",
     "start_time": "2019-12-21T02:12:49.006Z"
    }
   },
   "outputs": [
    {
     "name": "stdout",
     "output_type": "stream",
     "text": [
      "##########################################################################################\n",
      "##########################################################################################\n",
      "Starting prediction pipeline for blunt injuries only\n",
      "##########################################################################################\n",
      "##########################################################################################\n",
      "Loaded all data with time split\n",
      "Transformed column 'Face_severity' to Ordered Categorical\n",
      "Transformed column 'Neck_severity' to Ordered Categorical\n",
      "Transformed column 'Thorax_severity' to Ordered Categorical\n",
      "Transformed column 'Abdomen_severity' to Ordered Categorical\n",
      "Transformed column 'Spine_severity' to Ordered Categorical\n",
      "Transformed column 'Upper_Extremity_severity' to Ordered Categorical\n",
      "Transformed column 'Lower_Extremity_severity' to Ordered Categorical\n",
      "Transformed column 'Pelvis_Perineum_severity' to Ordered Categorical\n",
      "Transformed all other non-ordered Categorical Variables\n",
      "##########################################################################################\n",
      "##########################################################################################\n"
     ]
    },
    {
     "data": {
      "text/plain": [
       "oct (generic function with 1 method)"
      ]
     },
     "execution_count": 75,
     "metadata": {},
     "output_type": "execute_result"
    }
   ],
   "source": [
    "#using Pkg\n",
    "#Pkg.add(\"CategoricalArrays\")\n",
    "#Pkg.add(\"DataFrames\")\n",
    "#Pkg.add(\"DataFramesMeta\")\n",
    "#Pkg.add(\"StatsBase\")\n",
    "#Pkg.add(\"CSV\")\n",
    "\n",
    "using Random, CategoricalArrays, DataFrames, DataFramesMeta, StatsBase, CSV\n",
    "println(\"##########################################################################################\")\n",
    "println(\"##########################################################################################\")\n",
    "println(\"Starting prediction pipeline for blunt injuries only\")\n",
    "println(\"##########################################################################################\")\n",
    "println(\"##########################################################################################\")\n",
    "#data_path = \"../Data/imputed_random_split_per_injury/blunt/\"\n",
    "\n",
    "#Loading X for morbidity and mortality\n",
    "data_path = \"../Data/imputed_random_split_per_injury/blunt/\"\n",
    "train_X_random_morbidity = CSV.read(data_path*\"morbidity/train_X_morbid.csv\")\n",
    "test_X_random_morbidity = CSV.read(data_path*\"morbidity/test_X_morbid.csv\")\n",
    "train_X_random_mortality = CSV.read(data_path*\"mortality/train_X_mortal.csv\")\n",
    "test_X_random_mortality = CSV.read(data_path*\"mortality/test_X_mortal.csv\")\n",
    "\n",
    "# Loading y mortality\n",
    "train_y_mortality_random = CSV.read(\n",
    "    data_path*\"mortality/train_y_mortal.csv\",\n",
    "    \n",
    ")\n",
    "test_y_mortality_random = CSV.read(\n",
    "    data_path*\"mortality/test_y_mortal.csv\",\n",
    "    \n",
    ")\n",
    "train_y_mortality_random = identity.(convert(Matrix, train_y_mortality_random)[:,2])\n",
    "test_y_mortality_random = identity.(convert(Matrix, test_y_mortality_random)[:,2])\n",
    "\n",
    "# Loading y morbidity\n",
    "train_y_morbidity_random = CSV.read(\n",
    "    data_path*\"morbidity/train_y_morbid.csv\",\n",
    "    \n",
    ")\n",
    "test_y_morbidity_random = CSV.read(\n",
    "    data_path*\"morbidity/test_y_morbid.csv\",\n",
    "    \n",
    ")\n",
    "train_y_morbidity_random = identity.(convert(Matrix, train_y_morbidity_random)[:,2])\n",
    "test_y_morbidity_random = identity.(convert(Matrix, test_y_morbidity_random)[:,2])\n",
    "println(\"Loaded all data with time split\")\n",
    "\n",
    "severity_categorical_var = [\n",
    "    :Face_severity,\n",
    "    :Neck_severity,\n",
    "    :Thorax_severity,\n",
    "    :Abdomen_severity,\n",
    "    :Spine_severity,\n",
    "    :Upper_Extremity_severity,\n",
    "    :Lower_Extremity_severity,\n",
    "    :Pelvis_Perineum_severity,\n",
    "    #:severity_max\n",
    "]\n",
    "for col_name in severity_categorical_var\n",
    "    train_X_random_morbidity[!, col_name] = CategoricalArray(train_X_random_morbidity[!, col_name], ordered=true)\n",
    "    test_X_random_morbidity[!, col_name] = CategoricalArray(test_X_random_morbidity[!, col_name], ordered=true)\n",
    "    train_X_random_mortality[!, col_name] = CategoricalArray(train_X_random_mortality[!, col_name], ordered=true)\n",
    "    test_X_random_mortality[!, col_name] = CategoricalArray(test_X_random_mortality[!, col_name], ordered=true)\n",
    "    println(\"Transformed column '\", col_name, \"' to Ordered Categorical\")\n",
    "end\n",
    "categorical!(train_X_random_morbidity)\n",
    "categorical!(test_X_random_morbidity)\n",
    "categorical!(train_X_random_mortality)\n",
    "categorical!(test_X_random_mortality)\n",
    "println(\"Transformed all other non-ordered Categorical Variables\")\n",
    "\n",
    "# Dropped tmode1 and hemorrhage_ctrl_type and severity_max (29/11/2019)\n",
    "names_with_alcohol = [\n",
    "    :age, :alcohol,:gender, :race1, :acslevel, #:tmode1,\n",
    "    :signsoflife, :sbp1, :pulse1, :oxysat1, :temp1, :gcstot1, :bleeding_disorder,\n",
    "    :current_chemotherapy, :congestive_heart_failure, :current_smoker,\n",
    "    :chronic_renal_failure, :history_cva, :diabetes, :disseminated_cancer,\n",
    "    :copd, :steroid, :cirrhosis, :history_MI, :history_pvd, :hypertension_medication,\n",
    "    :method_of_injury, :Face_severity, :Neck_severity, :Thorax_severity, :Abdomen_severity,\n",
    "    :Spine_severity, :Upper_Extremity_severity, :Lower_Extremity_severity, :Pelvis_Perineum_severity, :External_severity,\n",
    "    #:severity_max, #:hemorrhage_ctrl_type\n",
    "]\n",
    "train_X_random_morbidity = train_X_random_morbidity[!, names_with_alcohol]\n",
    "test_X_random_morbidity = test_X_random_morbidity[!, names_with_alcohol]\n",
    "train_X_random_mortality = train_X_random_mortality[!, names_with_alcohol]\n",
    "test_X_random_mortality = test_X_random_mortality[!, names_with_alcohol]\n",
    "#println(\"Dropped alcohol variable\")\n",
    "println(\"##########################################################################################\")\n",
    "println(\"##########################################################################################\")\n",
    "\n",
    "\n",
    "\n",
    "# Model results output\n",
    "df_final_results_random_split = DataFrame(id = Any[], seed = Any[],\n",
    "          depth = Any[], minbucket = Any[], criterion = Any[], cp = Any[],\n",
    "          auc_train = Float64[], auc_valid = Float64[], auc_test = Float64[])\n",
    "\n",
    "function oct(train_X, test_X, train_y, test_y, seed, outcome, minbucket)\n",
    "    id = \"seed=$(seed)___outcome=$(outcome)___minbucket=$(minbucket)___injury=blunt\"\n",
    "    outcome = \"$(outcome)\"\n",
    "    # Process Data\n",
    "    Random.seed!(seed)\n",
    "    @show size(train_X)\n",
    "    @show size(test_X)\n",
    "\n",
    "\n",
    "    println(\"Running OCT for: $(id)\")\n",
    "    # Run Optimal Classification Trees\n",
    "\n",
    "    # Set of OCT learner and training grid\n",
    "    oct_lnr = IAI.OptimalTreeClassifier(\n",
    "        ls_num_tree_restarts=60,\n",
    "        random_seed=seed,\n",
    "        treat_unknown_level_missing=true,\n",
    "        minbucket=minbucket,\n",
    "        missingdatamode=:separate_class\n",
    "    )\n",
    "    grid = IAI.GridSearch(\n",
    "        oct_lnr,\n",
    "        max_depth = 10:12,\n",
    "        criterion = :gini,\n",
    "    )\n",
    "    println(\"Started Fitting the OCT grid search for $(outcome)...\")\n",
    "    IAI.fit!(grid, train_X, train_y, validation_criterion=:auc)\n",
    "    println(\"Finished Fitting the OCT grid search for $(outcome)\")\n",
    "    lnr = IAI.get_learner(grid)\n",
    "\n",
    "    println(\"Chosen Parameters:\")\n",
    "    for (param, val) in grid.best_params\n",
    "            println(\"$(param): $(val)\")\n",
    "    end\n",
    "\n",
    "    train_auc = IAI.score(grid, train_X, train_y, criterion=:auc)\n",
    "    test_auc = IAI.score(grid, test_X, test_y, criterion=:auc)\n",
    "\n",
    "    println(\"OCT-1 Results of tree $(id) \")\n",
    "    println(\"--------------------------------\")\n",
    "    println(\"Max Depth $(id) = \", grid.best_params[:max_depth])\n",
    "    println(\"Training AUC $(id) = \", round(100 * train_auc, digits=3), \"%\")\n",
    "    println(\"Testing AUC $(id)  = \", round(100 * test_auc, digits=3), \"%\")\n",
    "    println(\"##########################################################################################\")\n",
    "    println(\"##########################################################################################\")\n",
    "\n",
    "    lnr = IAI.get_learner(grid)\n",
    "    IAI.show_in_browser(IAI.ROCCurve(lnr, test_X, test_y))\n",
    "\n",
    "    # Save the tree\n",
    "    IAI.write_html(joinpath(@__DIR__, \"outputs/$(id)_auc$(round(Int, test_auc * 1000)).html\"),\n",
    "        lnr)\n",
    "    IAI.write_json(joinpath(@__DIR__, \"outputs/$(id)_auc$(round(Int, test_auc * 1000)).json\"),\n",
    "        lnr)\n",
    "    println(\"Saved the trees as HTML and JSON\")\n",
    "\n",
    "    return [\n",
    "        id, seed, grid.best_params[:max_depth], minbucket,\n",
    "        grid.best_params[:criterion], grid.best_params[:cp],\n",
    "        train_auc, train_auc, test_auc\n",
    "    ]\n",
    "end"
   ]
  },
  {
   "cell_type": "code",
   "execution_count": 76,
   "metadata": {
    "ExecuteTime": {
     "end_time": "2019-12-21T03:13:20.207000+01:00",
     "start_time": "2019-12-21T02:12:57.102Z"
    },
    "scrolled": true
   },
   "outputs": [
    {
     "name": "stdout",
     "output_type": "stream",
     "text": [
      "size(train_X) = (683645, 35)\n",
      "size(test_X) = (170912, 35)\n",
      "Running OCT for: seed=1___outcome=hosp_morbidity___minbucket=100___injury=blunt\n",
      "Started Fitting the OCT grid search for hosp_morbidity...\n"
     ]
    },
    {
     "ename": "InterruptException",
     "evalue": "InterruptException:",
     "output_type": "error",
     "traceback": [
      "InterruptException:",
      "",
      "Stacktrace:",
      " [1] inner_mapslices!(::Bool, ::Base.Iterators.Drop{CartesianIndices{1,Tuple{Base.OneTo{Int64}}}}, ::Int64, ::Array{Any,1}, ::Array{Int64,1}, ::Array{Any,1}, ::Array{Float64,1}, ::Array{Float64,2}, ::typeof(sortperm), ::Array{Int64,2}) at ./abstractarray.jl:2040",
      " [2] #mapslices#111(::Int64, ::typeof(mapslices), ::typeof(sortperm), ::Array{Float64,2}) at ./abstractarray.jl:2030",
      " [3] #mapslices at ./none:0 [inlined]",
      " [4] get_sortperm_X at /Users/iai/builds/InterpretableAI/SysImgBuilder/.julia/packages/OptimalTrees/D3J3L/src/localsearch/containers.jl:86 [inlined]",
      " [5] Type at /Users/iai/builds/InterpretableAI/SysImgBuilder/.julia/packages/OptimalTrees/D3J3L/src/localsearch/containers.jl:80 [inlined]",
      " [6] OptimalTrees.NumericSplitter(::OptimalTrees.OptimalTreeClassifier, ::Int64, ::Array{Int64,1}) at /Users/iai/builds/InterpretableAI/SysImgBuilder/.julia/packages/OptimalTrees/D3J3L/src/localsearch/containers.jl:250",
      " [7] init!(::OptimalTrees.LocalSearcher{IAIBase.ClassificationTask,OptimalTrees.ClassificationEvaluator{IAIBase.Gini},IAIBase.ClassificationTarget,IAITrees.Node{IAIBase.ClassificationTask,IAIBase.ClassificationFit}}, ::OptimalTrees.OptimalTreeClassifier) at /Users/iai/builds/InterpretableAI/SysImgBuilder/.julia/packages/OptimalTrees/D3J3L/src/localsearch/containers.jl:440",
      " [8] _fit!(::OptimalTrees.OptimalTreeClassifier) at /Users/iai/builds/InterpretableAI/SysImgBuilder/.julia/packages/OptimalTrees/D3J3L/src/localsearch/distributed.jl:4",
      " [9] #_fit!#144 at /Users/iai/builds/InterpretableAI/SysImgBuilder/.julia/packages/IAIBase/ymcNn/src/api.jl:143 [inlined]",
      " [10] _fit! at /Users/iai/builds/InterpretableAI/SysImgBuilder/.julia/packages/IAIBase/ymcNn/src/api.jl:142 [inlined]",
      " [11] #fit!#221 at /Users/iai/builds/InterpretableAI/SysImgBuilder/.julia/packages/IAIBase/ymcNn/src/api.jl:51 [inlined]",
      " [12] (::getfield(IAIBase, Symbol(\"#kw##fit!\")))(::NamedTuple{(:sample_weight,),Tuple{Nothing}}, ::typeof(IAIBase.fit!), ::OptimalTrees.OptimalTreeClassifier, ::SubDataFrame{DataFrame,DataFrames.Index,Array{Int64,1}}, ::SubArray{Int64,1,Array{Int64,1},Tuple{Array{Int64,1}},false}) at ./none:0",
      " [13] #grid_fit!#30(::Base.Iterators.Pairs{Union{},Union{},Tuple{},NamedTuple{(),Tuple{}}}, ::typeof(IAIBase.grid_fit!), ::OptimalTrees.OptimalTreeClassifier, ::Tuple{Array{Int64,1},Array{Int64,1}}, ::Dict{Symbol,Any}, ::Symbol, ::DataFrame, ::Nothing, ::Array{Int64,1}) at /Users/iai/builds/InterpretableAI/SysImgBuilder/.julia/packages/IAITrees/PwNTS/src/gridsearch.jl:100",
      " [14] grid_fit! at /Users/iai/builds/InterpretableAI/SysImgBuilder/.julia/packages/IAITrees/PwNTS/src/gridsearch.jl:81 [inlined]",
      " [15] #_fit!#120(::Bool, ::Base.Iterators.Pairs{Union{},Union{},Tuple{},NamedTuple{(),Tuple{}}}, ::typeof(IAIBase._fit!), ::IAIBase.GridSearch{OptimalTrees.OptimalTreeClassifier,IAITrees.TreeGridResult}, ::DataFrame, ::Nothing, ::Symbol, ::Array{Int64,1}) at /Users/iai/builds/InterpretableAI/SysImgBuilder/.julia/packages/IAIBase/ymcNn/src/gridsearch.jl:416",
      " [16] #_fit! at /Users/iai/builds/InterpretableAI/SysImgBuilder/.julia/packages/IAIBase/ymcNn/src/gridsearch.jl:404 [inlined]",
      " [17] #_fit!#117(::Base.Iterators.Pairs{Symbol,Symbol,Tuple{Symbol},NamedTuple{(:validation_criterion,),Tuple{Symbol}}}, ::typeof(IAIBase._fit!), ::IAIBase.GridSearch{OptimalTrees.OptimalTreeClassifier,IAITrees.TreeGridResult}, ::DataFrame, ::Nothing, ::Float64, ::Array{Int64,1}) at /Users/iai/builds/InterpretableAI/SysImgBuilder/.julia/packages/IAIBase/ymcNn/src/gridsearch.jl:315",
      " [18] #_fit! at ./none:0 [inlined]",
      " [19] #fit!#223 at /Users/iai/builds/InterpretableAI/SysImgBuilder/.julia/packages/IAIBase/ymcNn/src/api.jl:96 [inlined]",
      " [20] #fit! at ./none:0 [inlined]",
      " [21] oct(::DataFrame, ::DataFrame, ::Array{Int64,1}, ::Array{Int64,1}, ::Int64, ::String, ::Int64) at ./In[75]:124",
      " [22] top-level scope at In[76]:3"
     ]
    }
   ],
   "source": [
    "minbucket = 100\n",
    "seed = 1\n",
    "# Fit OCTs for morbidity\n",
    "oct_results_mort = oct(\n",
    "    train_X_random_morbidity,\n",
    "    test_X_random_morbidity,\n",
    "    train_y_morbidity_random,\n",
    "    test_y_morbidity_random,\n",
    "    seed,\n",
    "    \"hosp_morbidity\",\n",
    "    minbucket\n",
    ")\n",
    "push!(df_final_results_random_split, vcat(oct_results_mort))"
   ]
  },
  {
   "cell_type": "code",
   "execution_count": 72,
   "metadata": {
    "ExecuteTime": {
     "end_time": "2019-12-21T03:03:58.240000+01:00",
     "start_time": "2019-12-21T02:03:58.236Z"
    },
    "scrolled": true
   },
   "outputs": [
    {
     "data": {
      "text/plain": [
       "683646-element Array{Int64,1}:\n",
       " 0\n",
       " 0\n",
       " 0\n",
       " 0\n",
       " 0\n",
       " 0\n",
       " 0\n",
       " 0\n",
       " 0\n",
       " 0\n",
       " 0\n",
       " 0\n",
       " 0\n",
       " ⋮\n",
       " 0\n",
       " 0\n",
       " 0\n",
       " 0\n",
       " 0\n",
       " 0\n",
       " 0\n",
       " 0\n",
       " 0\n",
       " 0\n",
       " 0\n",
       " 0"
      ]
     },
     "execution_count": 72,
     "metadata": {},
     "output_type": "execute_result"
    }
   ],
   "source": [
    "train_y_morbidity_random"
   ]
  },
  {
   "cell_type": "code",
   "execution_count": null,
   "metadata": {},
   "outputs": [],
   "source": [
    "oct_results_morb = oct(\n",
    "    train_X_random_morbidity,\n",
    "    test_X_random_morbidity,\n",
    "    train_y_morbidity_random,\n",
    "    test_y_morbidity_random,\n",
    "    seed,\n",
    "    \"hosp_morbidity\",\n",
    "    minbucket\n",
    ")\n",
    "push!(df_final_results_random_split, vcat(oct_results_morb))\n",
    "println(df_final_results_random_split)\n",
    "#CSV.write(\"results_random_split_penetrating_with_alcohol.csv\", df_final_results_random_split)"
   ]
  },
  {
   "cell_type": "code",
   "execution_count": null,
   "metadata": {},
   "outputs": [],
   "source": []
  },
  {
   "cell_type": "code",
   "execution_count": null,
   "metadata": {},
   "outputs": [],
   "source": []
  },
  {
   "cell_type": "code",
   "execution_count": null,
   "metadata": {},
   "outputs": [],
   "source": []
  },
  {
   "cell_type": "code",
   "execution_count": null,
   "metadata": {},
   "outputs": [],
   "source": []
  },
  {
   "cell_type": "code",
   "execution_count": null,
   "metadata": {},
   "outputs": [],
   "source": []
  },
  {
   "cell_type": "code",
   "execution_count": null,
   "metadata": {},
   "outputs": [],
   "source": []
  },
  {
   "cell_type": "code",
   "execution_count": null,
   "metadata": {},
   "outputs": [],
   "source": []
  },
  {
   "cell_type": "code",
   "execution_count": null,
   "metadata": {},
   "outputs": [],
   "source": []
  },
  {
   "cell_type": "code",
   "execution_count": null,
   "metadata": {},
   "outputs": [],
   "source": []
  },
  {
   "cell_type": "code",
   "execution_count": null,
   "metadata": {},
   "outputs": [],
   "source": []
  },
  {
   "cell_type": "code",
   "execution_count": 2,
   "metadata": {
    "ExecuteTime": {
     "end_time": "2020-01-04T11:37:19.532000+01:00",
     "start_time": "2020-01-04T16:37:04.926Z"
    }
   },
   "outputs": [
    {
     "name": "stdout",
     "output_type": "stream",
     "text": [
      "##########################################################################################\n",
      "##########################################################################################\n",
      "Starting prediction pipeline for penetrating injuries only\n",
      "##########################################################################################\n",
      "##########################################################################################\n",
      "Loaded all data with time split\n",
      "Transformed column 'Face_severity' to Ordered Categorical\n",
      "Transformed column 'Neck_severity' to Ordered Categorical\n",
      "Transformed column 'Thorax_severity' to Ordered Categorical\n",
      "Transformed column 'Abdomen_severity' to Ordered Categorical\n",
      "Transformed column 'Spine_severity' to Ordered Categorical\n",
      "Transformed column 'Upper_Extremity_severity' to Ordered Categorical\n",
      "Transformed column 'Lower_Extremity_severity' to Ordered Categorical\n",
      "Transformed column 'Pelvis_Perineum_severity' to Ordered Categorical\n",
      "Transformed all other non-ordered Categorical Variables\n",
      "##########################################################################################\n",
      "##########################################################################################\n"
     ]
    },
    {
     "data": {
      "text/plain": [
       "oct (generic function with 1 method)"
      ]
     },
     "execution_count": 2,
     "metadata": {},
     "output_type": "execute_result"
    }
   ],
   "source": [
    "using Random, CategoricalArrays, DataFrames, DataFramesMeta, StatsBase, CSV\n",
    "println(\"##########################################################################################\")\n",
    "println(\"##########################################################################################\")\n",
    "println(\"Starting prediction pipeline for penetrating injuries only\")\n",
    "println(\"##########################################################################################\")\n",
    "println(\"##########################################################################################\")\n",
    "#data_path = \"../Data/imputed_random_split_per_injury/penetrating/\"\n",
    "\n",
    "#Loading X for morbidity and mortality\n",
    "data_path = \"../Data/imputed_random_split_per_injury/penetrating/\"\n",
    "train_X_random_morbidity = CSV.read(data_path*\"morbidity/train_X_morbid.csv\")\n",
    "test_X_random_morbidity = CSV.read(data_path*\"morbidity/test_X_morbid.csv\")\n",
    "train_X_random_mortality = CSV.read(data_path*\"mortality/train_X_mortal.csv\")\n",
    "test_X_random_mortality = CSV.read(data_path*\"mortality/test_X_mortal.csv\")\n",
    "\n",
    "# Loading y mortality\n",
    "train_y_mortality_random = CSV.read(\n",
    "    data_path*\"mortality/train_y_mortal.csv\",\n",
    "\n",
    ")\n",
    "test_y_mortality_random = CSV.read(\n",
    "    data_path*\"mortality/test_y_mortal.csv\",\n",
    "\n",
    ")\n",
    "train_y_mortality_random = identity.(convert(Matrix, train_y_mortality_random)[:,2])\n",
    "test_y_mortality_random = identity.(convert(Matrix, test_y_mortality_random)[:,2])\n",
    "\n",
    "# Loading y morbidity\n",
    "train_y_morbidity_random = CSV.read(\n",
    "    data_path*\"morbidity/train_y_morbid.csv\",\n",
    "\n",
    ")\n",
    "test_y_morbidity_random = CSV.read(\n",
    "    data_path*\"morbidity/test_y_morbid.csv\",\n",
    "\n",
    ")\n",
    "train_y_morbidity_random = identity.(convert(Matrix, train_y_morbidity_random)[:,2])\n",
    "test_y_morbidity_random = identity.(convert(Matrix, test_y_morbidity_random)[:,2])\n",
    "println(\"Loaded all data with time split\")\n",
    "\n",
    "severity_categorical_var = [\n",
    "    :Face_severity,\n",
    "    :Neck_severity,\n",
    "    :Thorax_severity,\n",
    "    :Abdomen_severity,\n",
    "    :Spine_severity,\n",
    "    :Upper_Extremity_severity,\n",
    "    :Lower_Extremity_severity,\n",
    "    :Pelvis_Perineum_severity,\n",
    "    #:severity_max\n",
    "]\n",
    "for col_name in severity_categorical_var\n",
    "    train_X_random_morbidity[!, col_name] = CategoricalArray(train_X_random_morbidity[!, col_name], ordered=true)\n",
    "    test_X_random_morbidity[!, col_name] = CategoricalArray(test_X_random_morbidity[!, col_name], ordered=true)\n",
    "    train_X_random_mortality[!, col_name] = CategoricalArray(train_X_random_mortality[!, col_name], ordered=true)\n",
    "    test_X_random_mortality[!, col_name] = CategoricalArray(test_X_random_mortality[!, col_name], ordered=true)\n",
    "    println(\"Transformed column '\", col_name, \"' to Ordered Categorical\")\n",
    "end\n",
    "categorical!(train_X_random_morbidity)\n",
    "categorical!(test_X_random_morbidity)\n",
    "categorical!(train_X_random_mortality)\n",
    "categorical!(test_X_random_mortality)\n",
    "println(\"Transformed all other non-ordered Categorical Variables\")\n",
    "\n",
    "# Dropped tmode1 and hemorrhage_ctrl_type and severity_max (29/11/2019)\n",
    "names_with_alcohol = [\n",
    "    :age, :alcohol,:gender, :race1, :acslevel, #:tmode1,\n",
    "    :signsoflife, :sbp1, :pulse1, :oxysat1, :temp1, :gcstot1, :bleeding_disorder,\n",
    "    :current_chemotherapy, :congestive_heart_failure, :current_smoker,\n",
    "    :chronic_renal_failure, :history_cva, :diabetes, :disseminated_cancer,\n",
    "    :copd, :steroid, :cirrhosis, :history_MI, :history_pvd, :hypertension_medication,\n",
    "    :method_of_injury, :Face_severity, :Neck_severity, :Thorax_severity, :Abdomen_severity,\n",
    "    :Spine_severity, :Upper_Extremity_severity, :Lower_Extremity_severity, :Pelvis_Perineum_severity, :External_severity,\n",
    "    #:severity_max, #:hemorrhage_ctrl_type\n",
    "]\n",
    "train_X_random_morbidity = train_X_random_morbidity[!, names_with_alcohol]\n",
    "test_X_random_morbidity = test_X_random_morbidity[!, names_with_alcohol]\n",
    "train_X_random_mortality = train_X_random_mortality[!, names_with_alcohol]\n",
    "test_X_random_mortality = test_X_random_mortality[!, names_with_alcohol]\n",
    "#println(\"Dropped alcohol variable\")\n",
    "println(\"##########################################################################################\")\n",
    "println(\"##########################################################################################\")\n",
    "\n",
    "\n",
    "\n",
    "# Model results output\n",
    "df_final_results_random_split = DataFrame(id = Any[], seed = Any[],\n",
    "          depth = Any[], minbucket = Any[], criterion = Any[], cp = Any[],\n",
    "          auc_train = Float64[], auc_valid = Float64[], auc_test = Float64[])\n",
    "\n",
    "function oct(train_X, test_X, train_y, test_y, seed, outcome, minbucket)\n",
    "    id = \"seed=$(seed)___outcome=$(outcome)___minbucket=$(minbucket)___injury=penetrating\"\n",
    "    outcome = \"$(outcome)\"\n",
    "    # Process Data\n",
    "    Random.seed!(seed)\n",
    "    @show size(train_X)\n",
    "    @show size(test_X)\n",
    "\n",
    "\n",
    "    println(\"Running OCT for: $(id)\")\n",
    "    # Run Optimal Classification Trees\n",
    "\n",
    "    # Set of OCT learner and training grid\n",
    "    oct_lnr = IAI.OptimalTreeClassifier(\n",
    "        ls_num_tree_restarts=60,\n",
    "        random_seed=seed,\n",
    "        treat_unknown_level_missing=true,\n",
    "        minbucket=minbucket,\n",
    "        missingdatamode=:separate_class\n",
    "    )\n",
    "    grid = IAI.GridSearch(\n",
    "        oct_lnr,\n",
    "        max_depth = 8:10,\n",
    "        criterion = :gini,\n",
    "    )\n",
    "    println(\"Started Fitting the OCT grid search for $(outcome)...\")\n",
    "    IAI.fit!(grid, train_X, train_y, validation_criterion=:auc)\n",
    "    println(\"Finished Fitting the OCT grid search for $(outcome)\")\n",
    "    lnr = IAI.get_learner(grid)\n",
    "\n",
    "    println(\"Chosen Parameters:\")\n",
    "    for (param, val) in grid.best_params\n",
    "            println(\"$(param): $(val)\")\n",
    "    end\n",
    "\n",
    "    train_auc = IAI.score(grid, train_X, train_y, criterion=:auc)\n",
    "    test_auc = IAI.score(grid, test_X, test_y, criterion=:auc)\n",
    "\n",
    "    println(\"OCT-1 Results of tree $(id) \")\n",
    "    println(\"--------------------------------\")\n",
    "    println(\"Max Depth $(id) = \", grid.best_params[:max_depth])\n",
    "    println(\"Training AUC $(id) = \", round(100 * train_auc, digits=3), \"%\")\n",
    "    println(\"Testing AUC $(id)  = \", round(100 * test_auc, digits=3), \"%\")\n",
    "    println(\"##########################################################################################\")\n",
    "    println(\"##########################################################################################\")\n",
    "\n",
    "    lnr = IAI.get_learner(grid)\n",
    "    IAI.show_in_browser(IAI.ROCCurve(lnr, test_X, test_y))\n",
    "\n",
    "    # Save the tree\n",
    "    IAI.write_html(joinpath(@__DIR__, \"outputs/$(id)_auc$(round(Int, test_auc * 1000)).html\"),\n",
    "        lnr)\n",
    "    IAI.write_json(joinpath(@__DIR__, \"outputs/$(id)_auc$(round(Int, test_auc * 1000)).json\"),\n",
    "        lnr)\n",
    "    println(\"Saved the trees as HTML and JSON\")\n",
    "\n",
    "    return [\n",
    "        id, seed, grid.best_params[:max_depth], minbucket,\n",
    "        grid.best_params[:criterion], grid.best_params[:cp],\n",
    "        train_auc, train_auc, test_auc\n",
    "    ]\n",
    "end\n",
    "\n"
   ]
  },
  {
   "cell_type": "code",
   "execution_count": 7,
   "metadata": {
    "ExecuteTime": {
     "end_time": "2020-01-04T11:42:25.353000+01:00",
     "start_time": "2020-01-04T16:42:24.808Z"
    },
    "scrolled": true
   },
   "outputs": [
    {
     "data": {
      "text/plain": [
       "(72571,)"
      ]
     },
     "execution_count": 7,
     "metadata": {},
     "output_type": "execute_result"
    }
   ],
   "source": [
    "size(train_y_mortality_random)"
   ]
  },
  {
   "cell_type": "code",
   "execution_count": 9,
   "metadata": {
    "ExecuteTime": {
     "end_time": "2020-01-04T11:42:42.265000+01:00",
     "start_time": "2020-01-04T16:42:41.892Z"
    }
   },
   "outputs": [
    {
     "data": {
      "text/plain": [
       "(72571, 35)"
      ]
     },
     "execution_count": 9,
     "metadata": {},
     "output_type": "execute_result"
    }
   ],
   "source": [
    "size(train_X_random_mortality)"
   ]
  },
  {
   "cell_type": "code",
   "execution_count": 8,
   "metadata": {
    "ExecuteTime": {
     "end_time": "2020-01-04T11:42:30.028000+01:00",
     "start_time": "2020-01-04T16:42:30.023Z"
    },
    "scrolled": true
   },
   "outputs": [
    {
     "data": {
      "text/plain": [
       "(18143,)"
      ]
     },
     "execution_count": 8,
     "metadata": {},
     "output_type": "execute_result"
    }
   ],
   "source": [
    "size(test_y_mortality_random)"
   ]
  },
  {
   "cell_type": "code",
   "execution_count": null,
   "metadata": {
    "ExecuteTime": {
     "start_time": "2020-01-04T16:34:47.113Z"
    }
   },
   "outputs": [
    {
     "name": "stdout",
     "output_type": "stream",
     "text": [
      "size(train_X) = (72571, 35)\n",
      "size(test_X) = (18143, 35)\n",
      "Running OCT for: seed=1___outcome=hosp_mortality___minbucket=100___injury=penetrating\n",
      "Started Fitting the OCT grid search for hosp_mortality...\n"
     ]
    },
    {
     "name": "stderr",
     "output_type": "stream",
     "text": [
      "┌ Warning: This copy of Interpretable AI software is for academic purposes only and not for commercial use.\n",
      "└ @ IAIBase /Users/iai/builds/InterpretableAI/SysImgBuilder/.julia/packages/IAIBase/ymcNn/src/precompile.jl:19\n"
     ]
    }
   ],
   "source": [
    "minbucket = 100\n",
    "seed = 1\n",
    "# Fit OCTs for mortality\n",
    "oct_results_mort = oct(\n",
    "    train_X_random_mortality,\n",
    "    test_X_random_mortality,\n",
    "    train_y_mortality_random,\n",
    "    test_y_mortality_random,\n",
    "    seed,\n",
    "    \"hosp_mortality\",\n",
    "    minbucket\n",
    ")\n",
    "push!(df_final_results_random_split, vcat(oct_results_mort))\n",
    "\n"
   ]
  },
  {
   "cell_type": "code",
   "execution_count": null,
   "metadata": {},
   "outputs": [],
   "source": [
    "oct_results_morb = oct(\n",
    "    train_X_random_morbidity,\n",
    "    test_X_random_morbidity,\n",
    "    train_y_morbidity_random,\n",
    "    test_y_morbidity_random,\n",
    "    seed,\n",
    "    \"hosp_morbidity\",\n",
    "    minbucket\n",
    ")\n",
    "push!(df_final_results_random_split, vcat(oct_results_morb))\n",
    "println(df_final_results_random_split)"
   ]
  },
  {
   "cell_type": "code",
   "execution_count": null,
   "metadata": {},
   "outputs": [],
   "source": []
  }
 ],
 "metadata": {
  "kernelspec": {
   "display_name": "Julia 1.2.0",
   "language": "julia",
   "name": "julia-1.2"
  },
  "language_info": {
   "file_extension": ".jl",
   "mimetype": "application/julia",
   "name": "julia",
   "version": "1.2.0"
  },
  "latex_envs": {
   "LaTeX_envs_menu_present": true,
   "autoclose": false,
   "autocomplete": true,
   "bibliofile": "biblio.bib",
   "cite_by": "apalike",
   "current_citInitial": 1,
   "eqLabelWithNumbers": true,
   "eqNumInitial": 1,
   "hotkeys": {
    "equation": "Ctrl-E",
    "itemize": "Ctrl-I"
   },
   "labels_anchors": false,
   "latex_user_defs": false,
   "report_style_numbering": false,
   "user_envs_cfg": false
  },
  "toc": {
   "base_numbering": 1,
   "nav_menu": {},
   "number_sections": true,
   "sideBar": true,
   "skip_h1_title": false,
   "title_cell": "Table of Contents",
   "title_sidebar": "Contents",
   "toc_cell": false,
   "toc_position": {},
   "toc_section_display": true,
   "toc_window_display": false
  }
 },
 "nbformat": 4,
 "nbformat_minor": 2
}
