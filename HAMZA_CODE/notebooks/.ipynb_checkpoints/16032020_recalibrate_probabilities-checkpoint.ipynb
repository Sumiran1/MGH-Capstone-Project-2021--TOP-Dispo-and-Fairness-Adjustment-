{
 "cells": [
  {
   "cell_type": "code",
   "execution_count": 1,
   "metadata": {
    "ExecuteTime": {
     "end_time": "2020-03-16T00:17:01.365000-04:00",
     "start_time": "2020-03-16T04:16:55.226Z"
    }
   },
   "outputs": [],
   "source": [
    "using CSV, DataFrames"
   ]
  },
  {
   "cell_type": "code",
   "execution_count": 2,
   "metadata": {
    "ExecuteTime": {
     "end_time": "2020-03-16T00:19:10.457000-04:00",
     "start_time": "2020-03-16T04:19:09.185Z"
    }
   },
   "outputs": [
    {
     "data": {
      "text/plain": [
       "\"../../../../../../Dropbox (MIT)/Trauma - TQIP MGH - MIT/trees_mortality_composite_morbidity/2020_03_02/\""
      ]
     },
     "execution_count": 2,
     "metadata": {},
     "output_type": "execute_result"
    }
   ],
   "source": [
    "tree_lnrs_path = \"../../../../../../Dropbox (MIT)/Trauma - TQIP MGH - MIT/trees_mortality_composite_morbidity/2020_03_02/\""
   ]
  },
  {
   "cell_type": "code",
   "execution_count": 5,
   "metadata": {
    "ExecuteTime": {
     "end_time": "2020-03-16T00:22:51.927000-04:00",
     "start_time": "2020-03-16T04:22:40.301Z"
    },
    "collapsed": true
   },
   "outputs": [
    {
     "data": {
      "text/html": [
       "<table class=\"data-frame\"><thead><tr><th></th><th>Column1</th><th>label</th></tr><tr><th></th><th>Int64</th><th>Int64</th></tr></thead><tbody><p>70,983 rows × 2 columns</p><tr><th>1</th><td>0</td><td>0</td></tr><tr><th>2</th><td>1</td><td>0</td></tr><tr><th>3</th><td>2</td><td>1</td></tr><tr><th>4</th><td>3</td><td>0</td></tr><tr><th>5</th><td>4</td><td>0</td></tr><tr><th>6</th><td>5</td><td>0</td></tr><tr><th>7</th><td>6</td><td>0</td></tr><tr><th>8</th><td>7</td><td>0</td></tr><tr><th>9</th><td>8</td><td>0</td></tr><tr><th>10</th><td>9</td><td>0</td></tr><tr><th>11</th><td>10</td><td>1</td></tr><tr><th>12</th><td>11</td><td>0</td></tr><tr><th>13</th><td>12</td><td>0</td></tr><tr><th>14</th><td>13</td><td>0</td></tr><tr><th>15</th><td>14</td><td>0</td></tr><tr><th>16</th><td>15</td><td>0</td></tr><tr><th>17</th><td>16</td><td>0</td></tr><tr><th>18</th><td>17</td><td>0</td></tr><tr><th>19</th><td>18</td><td>0</td></tr><tr><th>20</th><td>19</td><td>0</td></tr><tr><th>21</th><td>20</td><td>0</td></tr><tr><th>22</th><td>21</td><td>0</td></tr><tr><th>23</th><td>22</td><td>0</td></tr><tr><th>24</th><td>23</td><td>0</td></tr><tr><th>25</th><td>24</td><td>0</td></tr><tr><th>26</th><td>25</td><td>0</td></tr><tr><th>27</th><td>26</td><td>0</td></tr><tr><th>28</th><td>27</td><td>0</td></tr><tr><th>29</th><td>28</td><td>0</td></tr><tr><th>30</th><td>29</td><td>0</td></tr><tr><th>&vellip;</th><td>&vellip;</td><td>&vellip;</td></tr></tbody></table>"
      ],
      "text/latex": [
       "\\begin{tabular}{r|cc}\n",
       "\t& Column1 & label\\\\\n",
       "\t\\hline\n",
       "\t& Int64 & Int64\\\\\n",
       "\t\\hline\n",
       "\t1 & 0 & 0 \\\\\n",
       "\t2 & 1 & 0 \\\\\n",
       "\t3 & 2 & 1 \\\\\n",
       "\t4 & 3 & 0 \\\\\n",
       "\t5 & 4 & 0 \\\\\n",
       "\t6 & 5 & 0 \\\\\n",
       "\t7 & 6 & 0 \\\\\n",
       "\t8 & 7 & 0 \\\\\n",
       "\t9 & 8 & 0 \\\\\n",
       "\t10 & 9 & 0 \\\\\n",
       "\t11 & 10 & 1 \\\\\n",
       "\t12 & 11 & 0 \\\\\n",
       "\t13 & 12 & 0 \\\\\n",
       "\t14 & 13 & 0 \\\\\n",
       "\t15 & 14 & 0 \\\\\n",
       "\t16 & 15 & 0 \\\\\n",
       "\t17 & 16 & 0 \\\\\n",
       "\t18 & 17 & 0 \\\\\n",
       "\t19 & 18 & 0 \\\\\n",
       "\t20 & 19 & 0 \\\\\n",
       "\t21 & 20 & 0 \\\\\n",
       "\t22 & 21 & 0 \\\\\n",
       "\t23 & 22 & 0 \\\\\n",
       "\t24 & 23 & 0 \\\\\n",
       "\t25 & 24 & 0 \\\\\n",
       "\t26 & 25 & 0 \\\\\n",
       "\t27 & 26 & 0 \\\\\n",
       "\t28 & 27 & 0 \\\\\n",
       "\t29 & 28 & 0 \\\\\n",
       "\t30 & 29 & 0 \\\\\n",
       "\t$\\dots$ & $\\dots$ & $\\dots$ \\\\\n",
       "\\end{tabular}\n"
      ],
      "text/plain": [
       "70983×2 DataFrame\n",
       "│ Row   │ Column1 │ label │\n",
       "│       │ \u001b[90mInt64\u001b[39m   │ \u001b[90mInt64\u001b[39m │\n",
       "├───────┼─────────┼───────┤\n",
       "│ 1     │ 0       │ 0     │\n",
       "│ 2     │ 1       │ 0     │\n",
       "│ 3     │ 2       │ 1     │\n",
       "│ 4     │ 3       │ 0     │\n",
       "│ 5     │ 4       │ 0     │\n",
       "│ 6     │ 5       │ 0     │\n",
       "│ 7     │ 6       │ 0     │\n",
       "│ 8     │ 7       │ 0     │\n",
       "│ 9     │ 8       │ 0     │\n",
       "│ 10    │ 9       │ 0     │\n",
       "⋮\n",
       "│ 70973 │ 70972   │ 0     │\n",
       "│ 70974 │ 70973   │ 0     │\n",
       "│ 70975 │ 70974   │ 0     │\n",
       "│ 70976 │ 70975   │ 0     │\n",
       "│ 70977 │ 70976   │ 0     │\n",
       "│ 70978 │ 70977   │ 0     │\n",
       "│ 70979 │ 70978   │ 0     │\n",
       "│ 70980 │ 70979   │ 0     │\n",
       "│ 70981 │ 70980   │ 0     │\n",
       "│ 70982 │ 70981   │ 0     │\n",
       "│ 70983 │ 70982   │ 0     │"
      ]
     },
     "execution_count": 5,
     "metadata": {},
     "output_type": "execute_result"
    }
   ],
   "source": [
    "X_train_mortal_penetrating = CSV.read(data_path*\"train_X_mortal.csv\")\n",
    "y_train_mortal_penetrating = CSV.read(data_path*\"train_y_mortal.csv\")"
   ]
  },
  {
   "cell_type": "code",
   "execution_count": 24,
   "metadata": {
    "ExecuteTime": {
     "end_time": "2020-03-16T00:37:26.521000-04:00",
     "start_time": "2020-03-16T04:37:25.832Z"
    },
    "scrolled": true
   },
   "outputs": [
    {
     "name": "stdout",
     "output_type": "stream",
     "text": [
      "Loaded all data with time split\n",
      "Transformed column 'Head_severity' to Ordered Categorical\n",
      "Transformed column 'Face_severity' to Ordered Categorical\n",
      "Transformed column 'Neck_severity' to Ordered Categorical\n",
      "Transformed column 'Thorax_severity' to Ordered Categorical\n",
      "Transformed column 'Abdomen_severity' to Ordered Categorical\n",
      "Transformed column 'Spine_severity' to Ordered Categorical\n",
      "Transformed column 'Upper_Extremity_severity' to Ordered Categorical\n",
      "Transformed column 'Lower_Extremity_severity' to Ordered Categorical\n",
      "Transformed column 'Pelvis_Perineum_severity' to Ordered Categorical\n",
      "Transformed all other non-ordered Categorical Variables\n",
      "Loaded all data\n"
     ]
    }
   ],
   "source": [
    "#Loading X for morbidity and mortality\n",
    "data_path = \"../../../../../../Dropbox (MIT)/Trauma - TQIP MGH - MIT/imputed_random_split_per_injury_without_severity_6_02032020/penetrating/\"\n",
    "train_X_random_morbidity = CSV.read(data_path*\"morbidity/train_X_morbid.csv\")\n",
    "test_X_random_morbidity = CSV.read(data_path*\"morbidity/test_X_morbid.csv\")\n",
    "train_X_random_mortality = CSV.read(data_path*\"mortality/train_X_mortal.csv\")\n",
    "test_X_random_mortality = CSV.read(data_path*\"mortality/test_X_mortal.csv\")\n",
    "\n",
    "# Loading y mortality\n",
    "train_y_mortality_random = CSV.read(\n",
    "    data_path*\"mortality/train_y_mortal.csv\",\n",
    "\n",
    ")\n",
    "test_y_mortality_random = CSV.read(\n",
    "    data_path*\"mortality/test_y_mortal.csv\",\n",
    "\n",
    ")\n",
    "train_y_mortality_random = identity.(convert(Matrix, train_y_mortality_random)[:,2])\n",
    "test_y_mortality_random = identity.(convert(Matrix, test_y_mortality_random)[:,2])\n",
    "\n",
    "# Loading y morbidity\n",
    "train_y_morbidity_random = CSV.read(\n",
    "    data_path*\"morbidity/train_y_morbid.csv\",\n",
    "\n",
    ")\n",
    "test_y_morbidity_random = CSV.read(\n",
    "    data_path*\"morbidity/test_y_morbid.csv\",\n",
    "\n",
    ")\n",
    "train_y_morbidity_random = identity.(convert(Matrix, train_y_morbidity_random)[:,2])\n",
    "test_y_morbidity_random = identity.(convert(Matrix, test_y_morbidity_random)[:,2])\n",
    "println(\"Loaded all data with time split\")\n",
    "\n",
    "severity_categorical_var = [\n",
    "    :Head_severity,\n",
    "    :Face_severity,\n",
    "    :Neck_severity,\n",
    "    :Thorax_severity,\n",
    "    :Abdomen_severity,\n",
    "    :Spine_severity,\n",
    "    :Upper_Extremity_severity,\n",
    "    :Lower_Extremity_severity,\n",
    "    :Pelvis_Perineum_severity,\n",
    "    #:severity_max\n",
    "]\n",
    "for col_name in severity_categorical_var\n",
    "    train_X_random_morbidity[!, col_name] = CategoricalArray(train_X_random_morbidity[!, col_name], ordered=true)\n",
    "    test_X_random_morbidity[!, col_name] = CategoricalArray(test_X_random_morbidity[!, col_name], ordered=true)\n",
    "    train_X_random_mortality[!, col_name] = CategoricalArray(train_X_random_mortality[!, col_name], ordered=true)\n",
    "    test_X_random_mortality[!, col_name] = CategoricalArray(test_X_random_mortality[!, col_name], ordered=true)\n",
    "    println(\"Transformed column '\", col_name, \"' to Ordered Categorical\")\n",
    "end\n",
    "categorical!(train_X_random_morbidity)\n",
    "categorical!(test_X_random_morbidity)\n",
    "categorical!(train_X_random_mortality)\n",
    "categorical!(test_X_random_mortality)\n",
    "println(\"Transformed all other non-ordered Categorical Variables\")\n",
    "\n",
    "# Dropped tmode1 and hemorrhage_ctrl_type and severity_max (29/11/2019)\n",
    "# and alcohol (09/01/2020) and acslevel (01/02/2020)\n",
    "names = [\n",
    "    :age, :gender, :race1, :signsoflife, :sbp1, :pulse1,\n",
    "    :oxysat1, :temp1, :gcstot1, :bleeding_disorder, :current_chemotherapy,\n",
    "    :congestive_heart_failure, :current_smoker, :chronic_renal_failure,\n",
    "    :history_cva, :diabetes, :disseminated_cancer,  :copd, :steroid,\n",
    "    :cirrhosis, :history_MI, :history_pvd, :hypertension_medication,\n",
    "    :method_of_injury, :Head_severity, :Face_severity, :Neck_severity, :Thorax_severity, :Abdomen_severity,\n",
    "    :Spine_severity, :Upper_Extremity_severity, :Lower_Extremity_severity,\n",
    "    :Pelvis_Perineum_severity, :External_severity,\n",
    "    #:severity_max, :hemorrhage_ctrl_type, :alcohol, :tmode1, :acslevel\n",
    "]\n",
    "train_X_random_morbidity = train_X_random_morbidity[!, names]\n",
    "test_X_random_morbidity = test_X_random_morbidity[!, names]\n",
    "train_X_random_mortality = train_X_random_mortality[!, names]\n",
    "test_X_random_mortality = test_X_random_mortality[!, names]\n",
    "println(\"Loaded all data\")"
   ]
  },
  {
   "cell_type": "code",
   "execution_count": 25,
   "metadata": {
    "ExecuteTime": {
     "end_time": "2020-03-16T00:38:14.645000-04:00",
     "start_time": "2020-03-16T04:38:12.344Z"
    }
   },
   "outputs": [
    {
     "data": {
      "text/plain": [
       "\"y_pred_proba_mortal_penetrating_test.csv\""
      ]
     },
     "execution_count": 25,
     "metadata": {},
     "output_type": "execute_result"
    }
   ],
   "source": [
    "# Mortal Penetrating\n",
    "lnr_mortal_penetrating = IAI.read_json(\n",
    "    tree_lnrs_path*\"seed=1___outcome=hosp_mortality___minbucket=100___injury=penetrating_auc941.json\"\n",
    ")\n",
    "IAI.OptimalTrees.update_tree_fits!(\n",
    "    lnr_mortal_penetrating, train_X_random_mortality, train_y_mortality_random\n",
    ")\n",
    "y_pred_proba_mortal_penetrating_test = IAI.predict_proba(\n",
    "    lnr_mortal_penetrating, test_X_random_mortality\n",
    ")\n",
    "CSV.write(\"y_pred_proba_mortal_penetrating_test.csv\", y_pred_proba_mortal_penetrating_test)"
   ]
  },
  {
   "cell_type": "code",
   "execution_count": null,
   "metadata": {
    "ExecuteTime": {
     "start_time": "2020-03-16T04:38:12.480Z"
    }
   },
   "outputs": [],
   "source": [
    "# Mortal Blunt\n",
    "lnr_mortal_blunt = IAI.read_json(\n",
    "    tree_lnrs_path*\"seed=1___outcome=hosp_mortality___minbucket=100___injury=blunt_auc890.json\"\n",
    ")\n",
    "IAI.OptimalTrees.update_tree_fits!(\n",
    "    lnr_mortal_blunt, train_X_random_mortality, train_y_mortality_random\n",
    ")\n",
    "y_pred_proba_mortal_blunt_test = IAI.predict_proba(\n",
    "    lnr_mortal_blunt, test_X_random_mortality\n",
    ")\n",
    "CSV.write(\"y_pred_proba_mortal_blunt_test.csv\", y_pred_proba_mortal_blunt_test)"
   ]
  },
  {
   "cell_type": "code",
   "execution_count": null,
   "metadata": {
    "ExecuteTime": {
     "start_time": "2020-03-16T04:38:12.614Z"
    }
   },
   "outputs": [],
   "source": [
    "# Morbid Penetrating\n",
    "lnr_morbid_penetrating = IAI.read_json(\n",
    "    tree_lnrs_path*\"seed=1___outcome=hosp_morbidity___minbucket=100___injury=penetrating_auc777.json\"\n",
    ")\n",
    "IAI.OptimalTrees.update_tree_fits!(\n",
    "    lnr_morbid_penetrating, train_X_random_morbidity, train_y_morbidity_random\n",
    ")\n",
    "y_pred_proba_morbid_penetrating_test = IAI.predict_proba(\n",
    "    lnr_morbid_penetrating, test_X_random_morbidity\n",
    ")\n",
    "CSV.write(\"y_pred_proba_morbid_penetrating_test.csv\", y_pred_proba_morbid_penetrating_test)"
   ]
  },
  {
   "cell_type": "code",
   "execution_count": null,
   "metadata": {
    "ExecuteTime": {
     "start_time": "2020-03-16T04:38:12.726Z"
    }
   },
   "outputs": [],
   "source": [
    "# Morbid Blunt\n",
    "lnr_morbid_blunt = IAI.read_json(\n",
    "    tree_lnrs_path*\"seed=1___outcome=hosp_morbidity___minbucket=100___injury=blunt_auc754.json\"\n",
    ")\n",
    "IAI.OptimalTrees.update_tree_fits!(\n",
    "    lnr_morbid_blunt, train_X_random_morbidity, train_y_morbidity_random\n",
    ")\n",
    "y_pred_proba_morbid_blunt_test = IAI.predict_proba(\n",
    "    lnr_morbid_blunt, test_X_random_morbidity\n",
    ")\n",
    "CSV.write(\"y_pred_proba_morbid_blunt_test.csv\", y_pred_proba_morbid_blunt_test)"
   ]
  },
  {
   "cell_type": "code",
   "execution_count": null,
   "metadata": {},
   "outputs": [],
   "source": []
  },
  {
   "cell_type": "code",
   "execution_count": null,
   "metadata": {},
   "outputs": [],
   "source": []
  }
 ],
 "metadata": {
  "kernelspec": {
   "display_name": "Julia 1.2.0",
   "language": "julia",
   "name": "julia-1.2"
  },
  "language_info": {
   "file_extension": ".jl",
   "mimetype": "application/julia",
   "name": "julia",
   "version": "1.2.0"
  },
  "latex_envs": {
   "LaTeX_envs_menu_present": true,
   "autoclose": false,
   "autocomplete": true,
   "bibliofile": "biblio.bib",
   "cite_by": "apalike",
   "current_citInitial": 1,
   "eqLabelWithNumbers": true,
   "eqNumInitial": 1,
   "hotkeys": {
    "equation": "Ctrl-E",
    "itemize": "Ctrl-I"
   },
   "labels_anchors": false,
   "latex_user_defs": false,
   "report_style_numbering": false,
   "user_envs_cfg": false
  },
  "toc": {
   "base_numbering": 1,
   "nav_menu": {},
   "number_sections": true,
   "sideBar": true,
   "skip_h1_title": false,
   "title_cell": "Table of Contents",
   "title_sidebar": "Contents",
   "toc_cell": false,
   "toc_position": {},
   "toc_section_display": true,
   "toc_window_display": false
  }
 },
 "nbformat": 4,
 "nbformat_minor": 2
}
