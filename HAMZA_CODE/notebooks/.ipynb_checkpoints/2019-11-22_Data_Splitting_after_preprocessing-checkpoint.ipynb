{
 "cells": [
  {
   "cell_type": "code",
   "execution_count": 15,
   "metadata": {
    "ExecuteTime": {
     "end_time": "2019-11-29T08:33:13.304766Z",
     "start_time": "2019-11-29T08:33:13.253612Z"
    }
   },
   "outputs": [],
   "source": [
    "import os\n",
    "import pandas as pd\n",
    "import matplotlib.pyplot as plt\n",
    "import seaborn as sns\n",
    "import numpy as np\n",
    "from sklearn.model_selection import train_test_split"
   ]
  },
  {
   "cell_type": "markdown",
   "metadata": {},
   "source": [
    "# Preprocessed df"
   ]
  },
  {
   "cell_type": "code",
   "execution_count": 16,
   "metadata": {
    "ExecuteTime": {
     "end_time": "2019-11-29T08:33:37.421963Z",
     "start_time": "2019-11-29T08:33:16.876071Z"
    },
    "scrolled": true
   },
   "outputs": [
    {
     "data": {
      "text/html": [
       "<div>\n",
       "<style scoped>\n",
       "    .dataframe tbody tr th:only-of-type {\n",
       "        vertical-align: middle;\n",
       "    }\n",
       "\n",
       "    .dataframe tbody tr th {\n",
       "        vertical-align: top;\n",
       "    }\n",
       "\n",
       "    .dataframe thead th {\n",
       "        text-align: right;\n",
       "    }\n",
       "</style>\n",
       "<table border=\"1\" class=\"dataframe\">\n",
       "  <thead>\n",
       "    <tr style=\"text-align: right;\">\n",
       "      <th></th>\n",
       "      <th>complkey1</th>\n",
       "      <th>complkey2</th>\n",
       "      <th>complkey3</th>\n",
       "      <th>complkey4</th>\n",
       "      <th>complkey5</th>\n",
       "      <th>complkey6</th>\n",
       "      <th>complkey7</th>\n",
       "      <th>complkey8</th>\n",
       "      <th>complkey9</th>\n",
       "      <th>complkey10</th>\n",
       "      <th>...</th>\n",
       "      <th>Neck_severity</th>\n",
       "      <th>Head_severity</th>\n",
       "      <th>Thorax_severity</th>\n",
       "      <th>Abdomen_severity</th>\n",
       "      <th>Spine_severity</th>\n",
       "      <th>Upper_Extremity_severity</th>\n",
       "      <th>Lower_Extremity_severity</th>\n",
       "      <th>Pelvis_Perineum_severity</th>\n",
       "      <th>External_severity</th>\n",
       "      <th>severity_max</th>\n",
       "    </tr>\n",
       "  </thead>\n",
       "  <tbody>\n",
       "    <tr>\n",
       "      <th>0</th>\n",
       "      <td>1.0</td>\n",
       "      <td>NaN</td>\n",
       "      <td>NaN</td>\n",
       "      <td>NaN</td>\n",
       "      <td>NaN</td>\n",
       "      <td>NaN</td>\n",
       "      <td>NaN</td>\n",
       "      <td>NaN</td>\n",
       "      <td>NaN</td>\n",
       "      <td>NaN</td>\n",
       "      <td>...</td>\n",
       "      <td>NaN</td>\n",
       "      <td>NaN</td>\n",
       "      <td>2.0</td>\n",
       "      <td>4.0</td>\n",
       "      <td>3.0</td>\n",
       "      <td>NaN</td>\n",
       "      <td>NaN</td>\n",
       "      <td>2.0</td>\n",
       "      <td>NaN</td>\n",
       "      <td>4.0</td>\n",
       "    </tr>\n",
       "    <tr>\n",
       "      <th>1</th>\n",
       "      <td>NaN</td>\n",
       "      <td>NaN</td>\n",
       "      <td>NaN</td>\n",
       "      <td>NaN</td>\n",
       "      <td>NaN</td>\n",
       "      <td>NaN</td>\n",
       "      <td>NaN</td>\n",
       "      <td>NaN</td>\n",
       "      <td>NaN</td>\n",
       "      <td>NaN</td>\n",
       "      <td>...</td>\n",
       "      <td>NaN</td>\n",
       "      <td>NaN</td>\n",
       "      <td>2.0</td>\n",
       "      <td>NaN</td>\n",
       "      <td>NaN</td>\n",
       "      <td>NaN</td>\n",
       "      <td>NaN</td>\n",
       "      <td>NaN</td>\n",
       "      <td>NaN</td>\n",
       "      <td>2.0</td>\n",
       "    </tr>\n",
       "    <tr>\n",
       "      <th>2</th>\n",
       "      <td>NaN</td>\n",
       "      <td>NaN</td>\n",
       "      <td>NaN</td>\n",
       "      <td>NaN</td>\n",
       "      <td>NaN</td>\n",
       "      <td>NaN</td>\n",
       "      <td>NaN</td>\n",
       "      <td>NaN</td>\n",
       "      <td>NaN</td>\n",
       "      <td>NaN</td>\n",
       "      <td>...</td>\n",
       "      <td>NaN</td>\n",
       "      <td>3.0</td>\n",
       "      <td>NaN</td>\n",
       "      <td>NaN</td>\n",
       "      <td>2.0</td>\n",
       "      <td>NaN</td>\n",
       "      <td>NaN</td>\n",
       "      <td>NaN</td>\n",
       "      <td>NaN</td>\n",
       "      <td>3.0</td>\n",
       "    </tr>\n",
       "    <tr>\n",
       "      <th>3</th>\n",
       "      <td>NaN</td>\n",
       "      <td>NaN</td>\n",
       "      <td>NaN</td>\n",
       "      <td>NaN</td>\n",
       "      <td>NaN</td>\n",
       "      <td>NaN</td>\n",
       "      <td>NaN</td>\n",
       "      <td>NaN</td>\n",
       "      <td>NaN</td>\n",
       "      <td>NaN</td>\n",
       "      <td>...</td>\n",
       "      <td>NaN</td>\n",
       "      <td>NaN</td>\n",
       "      <td>1.0</td>\n",
       "      <td>NaN</td>\n",
       "      <td>2.0</td>\n",
       "      <td>NaN</td>\n",
       "      <td>NaN</td>\n",
       "      <td>NaN</td>\n",
       "      <td>1.0</td>\n",
       "      <td>2.0</td>\n",
       "    </tr>\n",
       "    <tr>\n",
       "      <th>4</th>\n",
       "      <td>NaN</td>\n",
       "      <td>NaN</td>\n",
       "      <td>NaN</td>\n",
       "      <td>NaN</td>\n",
       "      <td>NaN</td>\n",
       "      <td>NaN</td>\n",
       "      <td>NaN</td>\n",
       "      <td>NaN</td>\n",
       "      <td>NaN</td>\n",
       "      <td>NaN</td>\n",
       "      <td>...</td>\n",
       "      <td>NaN</td>\n",
       "      <td>NaN</td>\n",
       "      <td>NaN</td>\n",
       "      <td>NaN</td>\n",
       "      <td>NaN</td>\n",
       "      <td>2.0</td>\n",
       "      <td>NaN</td>\n",
       "      <td>NaN</td>\n",
       "      <td>NaN</td>\n",
       "      <td>2.0</td>\n",
       "    </tr>\n",
       "  </tbody>\n",
       "</table>\n",
       "<p>5 rows × 173 columns</p>\n",
       "</div>"
      ],
      "text/plain": [
       "   complkey1  complkey2  complkey3  complkey4  complkey5  complkey6  \\\n",
       "0        1.0        NaN        NaN        NaN        NaN        NaN   \n",
       "1        NaN        NaN        NaN        NaN        NaN        NaN   \n",
       "2        NaN        NaN        NaN        NaN        NaN        NaN   \n",
       "3        NaN        NaN        NaN        NaN        NaN        NaN   \n",
       "4        NaN        NaN        NaN        NaN        NaN        NaN   \n",
       "\n",
       "   complkey7  complkey8  complkey9  complkey10  ...  Neck_severity  \\\n",
       "0        NaN        NaN        NaN         NaN  ...            NaN   \n",
       "1        NaN        NaN        NaN         NaN  ...            NaN   \n",
       "2        NaN        NaN        NaN         NaN  ...            NaN   \n",
       "3        NaN        NaN        NaN         NaN  ...            NaN   \n",
       "4        NaN        NaN        NaN         NaN  ...            NaN   \n",
       "\n",
       "   Head_severity  Thorax_severity  Abdomen_severity  Spine_severity  \\\n",
       "0            NaN              2.0               4.0             3.0   \n",
       "1            NaN              2.0               NaN             NaN   \n",
       "2            3.0              NaN               NaN             2.0   \n",
       "3            NaN              1.0               NaN             2.0   \n",
       "4            NaN              NaN               NaN             NaN   \n",
       "\n",
       "   Upper_Extremity_severity  Lower_Extremity_severity  \\\n",
       "0                       NaN                       NaN   \n",
       "1                       NaN                       NaN   \n",
       "2                       NaN                       NaN   \n",
       "3                       NaN                       NaN   \n",
       "4                       2.0                       NaN   \n",
       "\n",
       "   Pelvis_Perineum_severity  External_severity  severity_max  \n",
       "0                       2.0                NaN           4.0  \n",
       "1                       NaN                NaN           2.0  \n",
       "2                       NaN                NaN           3.0  \n",
       "3                       NaN                1.0           2.0  \n",
       "4                       NaN                NaN           2.0  \n",
       "\n",
       "[5 rows x 173 columns]"
      ]
     },
     "execution_count": 16,
     "metadata": {},
     "output_type": "execute_result"
    }
   ],
   "source": [
    "df_trauma_preprocessed = pd.read_csv(\"../Data/trauma_data_preprocessed.csv\")\n",
    "df_trauma_preprocessed.head()"
   ]
  },
  {
   "cell_type": "markdown",
   "metadata": {},
   "source": [
    "## Statistics on Blunt/Penetration"
   ]
  },
  {
   "cell_type": "code",
   "execution_count": 17,
   "metadata": {
    "ExecuteTime": {
     "end_time": "2019-11-29T08:33:37.755688Z",
     "start_time": "2019-11-29T08:33:37.425222Z"
    }
   },
   "outputs": [
    {
     "name": "stdout",
     "output_type": "stream",
     "text": [
      "########## Statistics on Train+Test (< & >= 2016) ##########\n",
      "Number of blunt observations: 854557\n",
      "Number of penetration observations: 91238\n",
      "Considering only blunt & penetration methods of injuries, not the category 'Other':\n",
      "Percentage penetration: 9.646699337594299 %\n",
      "Percentage blunt: 90.3533006624057 %\n"
     ]
    }
   ],
   "source": [
    "print(\"########## Statistics on Train+Test (< & >= 2016) ##########\")\n",
    "df_values = df_trauma_preprocessed[\"method_of_injury\"].value_counts().reset_index()\n",
    "df_values.columns = [\"method_of_injury\", \"count\"]\n",
    "blunt_values = df_values[df_values.method_of_injury.str.contains(\"Blunt\")][\"count\"].sum()\n",
    "penetration_values = df_values[df_values.method_of_injury.str.contains(\"Penetr\")][\"count\"].sum()\n",
    "print(f\"Number of blunt observations: {blunt_values}\\nNumber of penetration observations: {penetration_values}\")\n",
    "print(\"Considering only blunt & penetration methods of injuries, not the category 'Other':\")\n",
    "print(f\"Percentage penetration: {penetration_values/(penetration_values+blunt_values)*100} %\")\n",
    "print(f\"Percentage blunt: {blunt_values/(penetration_values+blunt_values)*100} %\")"
   ]
  },
  {
   "cell_type": "code",
   "execution_count": 18,
   "metadata": {
    "ExecuteTime": {
     "end_time": "2019-11-29T08:33:48.756198Z",
     "start_time": "2019-11-29T08:33:46.663857Z"
    }
   },
   "outputs": [
    {
     "name": "stdout",
     "output_type": "stream",
     "text": [
      "########## Statistics on Train only ##########\n",
      "Number of blunt observations: 671236\n",
      "Number of penetration observations: 71027\n",
      "Considering only blunt & penetration methods of injuries, not the category 'Other':\n",
      "Percentage penetration: 9.568980267102093 %\n",
      "Percentage blunt: 90.43101973289791 %\n"
     ]
    }
   ],
   "source": [
    "# Train only\n",
    "print(\"########## Statistics on Train only ##########\")\n",
    "df_values_train = df_trauma_preprocessed[\n",
    "    df_trauma_preprocessed.yoadmit < 2016\n",
    "][\"method_of_injury\"].value_counts().reset_index()\n",
    "df_values_train.columns = [\"method_of_injury\", \"count\"]\n",
    "blunt_values = df_values_train[df_values_train.method_of_injury.str.contains(\"Blunt\")][\"count\"].sum()\n",
    "penetration_values = df_values_train[df_values_train.method_of_injury.str.contains(\"Penetr\")][\"count\"].sum()\n",
    "print(f\"Number of blunt observations: {blunt_values}\\nNumber of penetration observations: {penetration_values}\")\n",
    "print(\"Considering only blunt & penetration methods of injuries, not the category 'Other':\")\n",
    "print(f\"Percentage penetration: {penetration_values/(penetration_values+blunt_values)*100} %\")\n",
    "print(f\"Percentage blunt: {blunt_values/(penetration_values+blunt_values)*100} %\")"
   ]
  },
  {
   "cell_type": "code",
   "execution_count": 19,
   "metadata": {
    "ExecuteTime": {
     "end_time": "2019-11-29T08:33:49.650434Z",
     "start_time": "2019-11-29T08:33:48.798882Z"
    }
   },
   "outputs": [
    {
     "name": "stdout",
     "output_type": "stream",
     "text": [
      "########## Statistics on Test only ##########\n",
      "Number of blunt observations: 183321\n",
      "Number of penetration observations: 20211\n",
      "Considering only blunt & penetration methods of injuries, not the category 'Other':\n",
      "Percentage penetration: 9.930133836448322 %\n",
      "Percentage blunt: 90.06986616355168 %\n"
     ]
    }
   ],
   "source": [
    "# Test only\n",
    "print(\"########## Statistics on Test only ##########\")\n",
    "df_values_test = df_trauma_preprocessed[\n",
    "    df_trauma_preprocessed.yoadmit >= 2016\n",
    "][\"method_of_injury\"].value_counts().reset_index()\n",
    "df_values_test.columns = [\"method_of_injury\", \"count\"]\n",
    "blunt_values = df_values_test[df_values_test.method_of_injury.str.contains(\"Blunt\")][\"count\"].sum()\n",
    "penetration_values = df_values_test[df_values_test.method_of_injury.str.contains(\"Penetr\")][\"count\"].sum()\n",
    "print(f\"Number of blunt observations: {blunt_values}\\nNumber of penetration observations: {penetration_values}\")\n",
    "print(\"Considering only blunt & penetration methods of injuries, not the category 'Other':\")\n",
    "print(f\"Percentage penetration: {penetration_values/(penetration_values+blunt_values)*100} %\")\n",
    "print(f\"Percentage blunt: {blunt_values/(penetration_values+blunt_values)*100} %\")"
   ]
  },
  {
   "cell_type": "markdown",
   "metadata": {},
   "source": [
    "## Final choice of features & train/test split on time"
   ]
  },
  {
   "cell_type": "code",
   "execution_count": 7,
   "metadata": {
    "ExecuteTime": {
     "end_time": "2019-11-29T07:46:51.882518Z",
     "start_time": "2019-11-29T07:46:46.605055Z"
    }
   },
   "outputs": [],
   "source": [
    "# Dropping the \"Unknown\" type of injuries\n",
    "df_trauma_preprocessed_filtered = df_trauma_preprocessed[\n",
    "    df_trauma_preprocessed.method_of_injury != \"Unknown\"\n",
    "].reset_index(drop=True)"
   ]
  },
  {
   "cell_type": "code",
   "execution_count": 15,
   "metadata": {
    "ExecuteTime": {
     "end_time": "2019-11-23T02:01:01.904202Z",
     "start_time": "2019-11-23T02:00:59.368150Z"
    }
   },
   "outputs": [],
   "source": [
    "columns_to_keep = [\n",
    "    \"age\", \"gender\", \"race1\",\n",
    "    # \"teachsta\", # \"region\",\n",
    "    \"acslevel\", #\"tmode1\", # \"transfer\",\n",
    "    \"signsoflife\", \"sbp1\", # \"sbp2\",\n",
    "    \"pulse1\", # \"pulse2\",\n",
    "    \"oxysat1\", # \"oxysat2\",\n",
    "    \"temp1\", \"gcstot1\", # \"gcstot2\",\n",
    "    \"alcohol\", \"bleeding_disorder\",\n",
    "    \"current_chemotherapy\", \"congestive_heart_failure\",\n",
    "    \"current_smoker\", \"chronic_renal_failure\",\n",
    "    \"history_cva\", \"diabetes\", \"disseminated_cancer\",\n",
    "    \"copd\", \"steroid\", \"cirrhosis\", \"history_MI\",\n",
    "    \"history_pvd\", \"hypertension_medication\", # \"eddisp\",\n",
    "    \"method_of_injury\", # new AIS\"\n",
    "    \"Face_severity\", \"Neck_severity\", \"Thorax_severity\",\n",
    "    \"Abdomen_severity\", \"Spine_severity\",\n",
    "    \"Upper_Extremity_severity\", \"Lower_Extremity_severity\",\n",
    "    \"Pelvis_Perineum_severity\", \"External_severity\", \"severity_max\"\n",
    "    \"hemorrhage_ctrl_type\"\n",
    "]\n",
    "# Creating target values for mortality & morbidity\n",
    "hosp_mortality = ((df_trauma_preprocessed_filtered.hospdisp == \"Expired\") \n",
    "                  | (df_trauma_preprocessed_filtered.hospdisp == \"Deceased/Expired\"))*1\n",
    "hosp_morbidity = df_trauma_preprocessed_filtered.morbidity"
   ]
  },
  {
   "cell_type": "code",
   "execution_count": 20,
   "metadata": {
    "ExecuteTime": {
     "end_time": "2019-11-23T02:11:01.343532Z",
     "start_time": "2019-11-23T02:10:15.898577Z"
    }
   },
   "outputs": [
    {
     "name": "stderr",
     "output_type": "stream",
     "text": [
      "/usr/local/lib/python3.7/site-packages/ipykernel_launcher.py:34: FutureWarning: The signature of `Series.to_csv` was aligned to that of `DataFrame.to_csv`, and argument 'header' will change its default value from False to True: please pass an explicit value to suppress this warning.\n",
      "/usr/local/lib/python3.7/site-packages/ipykernel_launcher.py:35: FutureWarning: The signature of `Series.to_csv` was aligned to that of `DataFrame.to_csv`, and argument 'header' will change its default value from False to True: please pass an explicit value to suppress this warning.\n"
     ]
    },
    {
     "name": "stdout",
     "output_type": "stream",
     "text": [
      "Size of train set with time separation: 742263\n"
     ]
    },
    {
     "name": "stderr",
     "output_type": "stream",
     "text": [
      "/usr/local/lib/python3.7/site-packages/ipykernel_launcher.py:42: FutureWarning: The signature of `Series.to_csv` was aligned to that of `DataFrame.to_csv`, and argument 'header' will change its default value from False to True: please pass an explicit value to suppress this warning.\n",
      "/usr/local/lib/python3.7/site-packages/ipykernel_launcher.py:43: FutureWarning: The signature of `Series.to_csv` was aligned to that of `DataFrame.to_csv`, and argument 'header' will change its default value from False to True: please pass an explicit value to suppress this warning.\n"
     ]
    },
    {
     "name": "stdout",
     "output_type": "stream",
     "text": [
      "Size of test set with time separation: 203532\n"
     ]
    }
   ],
   "source": [
    "# Getting indices of the two time periods for train/test split\n",
    "index_before_2016 = df_trauma_preprocessed_filtered[\n",
    "    df_trauma_preprocessed_filtered.yoadmit < 2016\n",
    "].index.values\n",
    "index_from_2016 = df_trauma_preprocessed_filtered[\n",
    "    df_trauma_preprocessed_filtered.yoadmit >= 2016\n",
    "].index.values\n",
    "\n",
    "# X data train/test split\n",
    "df_trauma_preprocessed_filtered_train = df_trauma_preprocessed_filtered.iloc[\n",
    "    index_before_2016, :\n",
    "].reset_index(drop=True)\n",
    "df_trauma_preprocessed_filtered_test = df_trauma_preprocessed_filtered.iloc[\n",
    "    index_from_2016, :\n",
    "].reset_index(drop=True)\n",
    "\n",
    "# Mortality train/test split\n",
    "hosp_mortality_train = hosp_mortality[index_before_2016]\n",
    "hosp_mortality_test = hosp_mortality[index_from_2016]\n",
    "\n",
    "# Morbidity train/test split\n",
    "hosp_morbidity_train = hosp_morbidity[index_before_2016]\n",
    "hosp_morbidity_test = hosp_morbidity[index_from_2016]\n",
    "\n",
    "\n",
    "# Saving train data with time split\n",
    "df_trauma_preprocessed_filtered_train = df_trauma_preprocessed_filtered_train[columns_to_keep]\n",
    "df_trauma_preprocessed_filtered_train.to_csv(\"../Data/time_split/trauma_X_train_time.csv\", index=False)\n",
    "hosp_morbidity_train.to_csv(\"../Data/time_split/trauma_y_train_morbidity_time.csv\", index=False)\n",
    "hosp_mortality_train.to_csv(\"../Data/time_split/trauma_y_train_mortality_time.csv\", index=False)\n",
    "print(f\"Size of train set with time separation: {len(df_trauma_preprocessed_filtered_train)}\")\n",
    "\n",
    "\n",
    "# Saving test data with time split\n",
    "df_trauma_preprocessed_filtered_test = df_trauma_preprocessed_filtered_test[columns_to_keep]\n",
    "df_trauma_preprocessed_filtered_test.to_csv(\"../Data/time_split/trauma_X_test_time.csv\", index=False)\n",
    "hosp_morbidity_test.to_csv(\"../Data/time_split/trauma_y_test_morbidity_time.csv\", index=False)\n",
    "hosp_mortality_test.to_csv(\"../Data/time_split/trauma_y_test_mortality_time.csv\", index=False)\n",
    "print(f\"Size of test set with time separation: {len(df_trauma_preprocessed_filtered_test)}\")"
   ]
  },
  {
   "cell_type": "markdown",
   "metadata": {},
   "source": [
    "## Train/Test split on Blunt/Penetration"
   ]
  },
  {
   "cell_type": "code",
   "execution_count": 20,
   "metadata": {
    "ExecuteTime": {
     "end_time": "2019-11-29T08:34:09.344697Z",
     "start_time": "2019-11-29T08:34:01.230622Z"
    }
   },
   "outputs": [],
   "source": [
    "# Dropping the \"Unknown\" type of injuries\n",
    "df_trauma_preprocessed_filtered = df_trauma_preprocessed[\n",
    "    df_trauma_preprocessed.method_of_injury != \"Unknown\"\n",
    "].reset_index(drop=True)\n",
    "columns_to_keep = [\n",
    "    \"age\", \"gender\", \"race1\",\n",
    "    # \"teachsta\", # \"region\",\n",
    "    \"acslevel\", #\"tmode1\", # \"transfer\",\n",
    "    \"signsoflife\", \"sbp1\", # \"sbp2\",\n",
    "    \"pulse1\", # \"pulse2\",\n",
    "    \"oxysat1\", # \"oxysat2\",\n",
    "    \"temp1\", \"gcstot1\", # \"gcstot2\",\n",
    "    \"alcohol\", \"bleeding_disorder\",\n",
    "    \"current_chemotherapy\", \"congestive_heart_failure\",\n",
    "    \"current_smoker\", \"chronic_renal_failure\",\n",
    "    \"history_cva\", \"diabetes\", \"disseminated_cancer\",\n",
    "    \"copd\", \"steroid\", \"cirrhosis\", \"history_MI\",\n",
    "    \"history_pvd\", \"hypertension_medication\", # \"eddisp\",\n",
    "    \"method_of_injury\", # new AIS\"\n",
    "    #\"Face_severity\", \"Neck_severity\", \"Thorax_severity\",\n",
    "    #\"Abdomen_severity\", \"Spine_severity\",\n",
    "    #\"Upper_Extremity_severity\", \"Lower_Extremity_severity\",\n",
    "    #\"Pelvis_Perineum_severity\", \"External_severity\", \n",
    "    \"severity_max\",\n",
    "    \"hemorrhage_ctrl_type\"\n",
    "]\n",
    "# Creating target values for mortality & morbidity\n",
    "hosp_mortality = ((df_trauma_preprocessed_filtered.hospdisp == \"Expired\") \n",
    "                  | (df_trauma_preprocessed_filtered.hospdisp == \"Deceased/Expired\"))*1\n",
    "hosp_morbidity = df_trauma_preprocessed_filtered.morbidity"
   ]
  },
  {
   "cell_type": "markdown",
   "metadata": {},
   "source": [
    "### Mortality"
   ]
  },
  {
   "cell_type": "code",
   "execution_count": 22,
   "metadata": {
    "ExecuteTime": {
     "end_time": "2019-11-29T08:35:29.938433Z",
     "start_time": "2019-11-29T08:35:27.882379Z"
    }
   },
   "outputs": [],
   "source": [
    "X_train_mortality_strat, X_test_mortality_strat, y_train_mortality_strat, y_test_mortality_strat = train_test_split(\n",
    "    df_trauma_preprocessed_filtered[columns_to_keep], hosp_mortality, test_size = 0.2, stratify = hosp_mortality\n",
    ")"
   ]
  },
  {
   "cell_type": "code",
   "execution_count": 23,
   "metadata": {
    "ExecuteTime": {
     "end_time": "2019-11-29T08:36:06.010896Z",
     "start_time": "2019-11-29T08:35:29.942330Z"
    }
   },
   "outputs": [
    {
     "name": "stderr",
     "output_type": "stream",
     "text": [
      "/usr/local/lib/python3.7/site-packages/ipykernel_launcher.py:3: FutureWarning: The signature of `Series.to_csv` was aligned to that of `DataFrame.to_csv`, and argument 'header' will change its default value from False to True: please pass an explicit value to suppress this warning.\n",
      "  This is separate from the ipykernel package so we can avoid doing imports until\n",
      "/usr/local/lib/python3.7/site-packages/ipykernel_launcher.py:4: FutureWarning: The signature of `Series.to_csv` was aligned to that of `DataFrame.to_csv`, and argument 'header' will change its default value from False to True: please pass an explicit value to suppress this warning.\n",
      "  after removing the cwd from sys.path.\n"
     ]
    }
   ],
   "source": [
    "X_train_mortality_strat.to_csv(\"../Data/stratified_method_of_injury_split/mortality/X_train_mortality_strat.csv\", index=False)\n",
    "X_test_mortality_strat.to_csv(\"../Data/stratified_method_of_injury_split/mortality/X_test_mortality_strat.csv\", index=False)\n",
    "y_train_mortality_strat.to_csv(\"../Data/stratified_method_of_injury_split/mortality/y_train_mortality_strat.csv\", index=False)\n",
    "y_test_mortality_strat.to_csv(\"../Data/stratified_method_of_injury_split/mortality/y_test_mortality_strat.csv\", index=False)"
   ]
  },
  {
   "cell_type": "code",
   "execution_count": 24,
   "metadata": {
    "ExecuteTime": {
     "end_time": "2019-11-29T08:36:06.090603Z",
     "start_time": "2019-11-29T08:36:06.027934Z"
    }
   },
   "outputs": [
    {
     "name": "stdout",
     "output_type": "stream",
     "text": [
      "0    0.945974\n",
      "1    0.054026\n",
      "Name: hospdisp, dtype: float64\n",
      "0    0.945977\n",
      "1    0.054023\n",
      "Name: hospdisp, dtype: float64\n"
     ]
    }
   ],
   "source": [
    "print(y_train_mortality_strat.value_counts()/len(y_train_mortality_strat))\n",
    "print(y_test_mortality_strat.value_counts()/len(y_test_mortality_strat))"
   ]
  },
  {
   "cell_type": "markdown",
   "metadata": {},
   "source": [
    "### Morbidity"
   ]
  },
  {
   "cell_type": "code",
   "execution_count": 25,
   "metadata": {
    "ExecuteTime": {
     "end_time": "2019-11-29T08:36:18.484494Z",
     "start_time": "2019-11-29T08:36:17.077990Z"
    }
   },
   "outputs": [],
   "source": [
    "X_train_morbidity_strat, X_test_morbidity_strat, y_train_morbidity_strat, y_test_morbidity_strat = train_test_split(\n",
    "    df_trauma_preprocessed_filtered[columns_to_keep], hosp_morbidity, test_size = 0.2, stratify = hosp_morbidity\n",
    ")"
   ]
  },
  {
   "cell_type": "code",
   "execution_count": 26,
   "metadata": {
    "ExecuteTime": {
     "end_time": "2019-11-29T08:36:57.041705Z",
     "start_time": "2019-11-29T08:36:18.489070Z"
    }
   },
   "outputs": [
    {
     "name": "stderr",
     "output_type": "stream",
     "text": [
      "/usr/local/lib/python3.7/site-packages/ipykernel_launcher.py:3: FutureWarning: The signature of `Series.to_csv` was aligned to that of `DataFrame.to_csv`, and argument 'header' will change its default value from False to True: please pass an explicit value to suppress this warning.\n",
      "  This is separate from the ipykernel package so we can avoid doing imports until\n",
      "/usr/local/lib/python3.7/site-packages/ipykernel_launcher.py:4: FutureWarning: The signature of `Series.to_csv` was aligned to that of `DataFrame.to_csv`, and argument 'header' will change its default value from False to True: please pass an explicit value to suppress this warning.\n",
      "  after removing the cwd from sys.path.\n"
     ]
    }
   ],
   "source": [
    "X_train_morbidity_strat.to_csv(\"../Data/stratified_method_of_injury_split/morbidity/X_train_morbidity_strat.csv\", index=False)\n",
    "X_test_morbidity_strat.to_csv(\"../Data/stratified_method_of_injury_split/morbidity/X_test_morbidity_strat.csv\", index=False)\n",
    "y_train_morbidity_strat.to_csv(\"../Data/stratified_method_of_injury_split/morbidity/y_train_morbidity_strat.csv\", index=False)\n",
    "y_test_morbidity_strat.to_csv(\"../Data/stratified_method_of_injury_split/morbidity/y_test_morbidity_strat.csv\", index=False)"
   ]
  },
  {
   "cell_type": "code",
   "execution_count": 27,
   "metadata": {
    "ExecuteTime": {
     "end_time": "2019-11-29T08:36:57.078064Z",
     "start_time": "2019-11-29T08:36:57.045196Z"
    }
   },
   "outputs": [
    {
     "name": "stdout",
     "output_type": "stream",
     "text": [
      "0    0.910566\n",
      "1    0.089434\n",
      "Name: morbidity, dtype: float64\n",
      "0    0.910567\n",
      "1    0.089433\n",
      "Name: morbidity, dtype: float64\n"
     ]
    }
   ],
   "source": [
    "print(y_train_morbidity_strat.value_counts()/len(y_train_morbidity_strat))\n",
    "print(y_test_morbidity_strat.value_counts()/len(y_test_morbidity_strat))"
   ]
  },
  {
   "cell_type": "code",
   "execution_count": 34,
   "metadata": {
    "ExecuteTime": {
     "end_time": "2019-11-29T08:56:58.278297Z",
     "start_time": "2019-11-29T08:56:58.238801Z"
    }
   },
   "outputs": [
    {
     "data": {
      "text/plain": [
       "array([ 1.,  3.,  2., nan,  4.,  5.,  6.])"
      ]
     },
     "execution_count": 34,
     "metadata": {},
     "output_type": "execute_result"
    }
   ],
   "source": [
    "X_train_mortality_strat.severity_max.unique()"
   ]
  },
  {
   "cell_type": "code",
   "execution_count": null,
   "metadata": {},
   "outputs": [],
   "source": []
  }
 ],
 "metadata": {
  "kernelspec": {
   "display_name": "Python 3",
   "language": "python",
   "name": "python3"
  },
  "language_info": {
   "codemirror_mode": {
    "name": "ipython",
    "version": 3
   },
   "file_extension": ".py",
   "mimetype": "text/x-python",
   "name": "python",
   "nbconvert_exporter": "python",
   "pygments_lexer": "ipython3",
   "version": "3.6.9"
  },
  "latex_envs": {
   "LaTeX_envs_menu_present": true,
   "autoclose": false,
   "autocomplete": true,
   "bibliofile": "biblio.bib",
   "cite_by": "apalike",
   "current_citInitial": 1,
   "eqLabelWithNumbers": true,
   "eqNumInitial": 1,
   "hotkeys": {
    "equation": "Ctrl-E",
    "itemize": "Ctrl-I"
   },
   "labels_anchors": false,
   "latex_user_defs": false,
   "report_style_numbering": false,
   "user_envs_cfg": false
  },
  "toc": {
   "base_numbering": 1,
   "nav_menu": {},
   "number_sections": true,
   "sideBar": true,
   "skip_h1_title": false,
   "title_cell": "Table of Contents",
   "title_sidebar": "Contents",
   "toc_cell": false,
   "toc_position": {},
   "toc_section_display": true,
   "toc_window_display": true
  }
 },
 "nbformat": 4,
 "nbformat_minor": 2
}
