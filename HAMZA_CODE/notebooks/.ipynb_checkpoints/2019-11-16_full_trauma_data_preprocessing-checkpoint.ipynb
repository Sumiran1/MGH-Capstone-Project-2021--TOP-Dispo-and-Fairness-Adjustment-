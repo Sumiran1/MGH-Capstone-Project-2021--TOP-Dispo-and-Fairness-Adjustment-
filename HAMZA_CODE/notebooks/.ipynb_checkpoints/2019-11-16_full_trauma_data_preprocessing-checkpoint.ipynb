{
 "cells": [
  {
   "cell_type": "code",
   "execution_count": 1,
   "metadata": {
    "ExecuteTime": {
     "end_time": "2019-11-29T19:01:54.988475Z",
     "start_time": "2019-11-29T19:01:52.975798Z"
    }
   },
   "outputs": [],
   "source": [
    "import os\n",
    "import pandas as pd\n",
    "import matplotlib.pyplot as plt\n",
    "import seaborn as sns\n",
    "import numpy as np"
   ]
  },
  {
   "cell_type": "markdown",
   "metadata": {},
   "source": [
    "# Code for preprocessing"
   ]
  },
  {
   "cell_type": "code",
   "execution_count": 5,
   "metadata": {
    "ExecuteTime": {
     "end_time": "2019-11-29T19:03:06.297856Z",
     "start_time": "2019-11-29T19:03:06.290239Z"
    }
   },
   "outputs": [
    {
     "data": {
      "text/plain": [
       "['icd_ecode2.csv',\n",
       " '.DS_Store',\n",
       " 'ais_inputs.csv',\n",
       " 'excel',\n",
       " 'TQIP_2010_2016_Merged_MGHTrauma2019Jan.csv',\n",
       " 'icd.csv',\n",
       " 'icd_additional_ecodes.csv',\n",
       " 'icd_primary_ecodes.csv']"
      ]
     },
     "execution_count": 5,
     "metadata": {},
     "output_type": "execute_result"
    }
   ],
   "source": [
    "os.listdir(\"../Data/original_data/\")"
   ]
  },
  {
   "cell_type": "code",
   "execution_count": 6,
   "metadata": {
    "ExecuteTime": {
     "end_time": "2019-11-29T19:03:22.184479Z",
     "start_time": "2019-11-29T19:03:13.121213Z"
    }
   },
   "outputs": [
    {
     "name": "stderr",
     "output_type": "stream",
     "text": [
      "/usr/local/lib/python3.7/site-packages/IPython/core/interactiveshell.py:3058: DtypeWarning: Columns (40,42,44,46,51,52,53,54,55,56,57,58,59,60,61,62,63,64,65,66,67,68,69,70,71,72,73,74,75,76,77,78,83,92,115,116,117,118,119,120,121,122,123,124,125,126,127,128,129,130,131,132,133,134,135,136,137,138,139,140,141,142,143,144,145,146,147,154,316,317,318,319,320,321,322,323,324,325,326,327,328,329,330,331,332,333,334,335,336,337,338,339,340,341,342,349,350,351,352,413,988,989,990,991,992,993,994,995,996,997,998,999,1000,1001,1002,1003,1004,1005,1006,1007,1008,1009,1010,1011,1012,1013,1014,1015,1016,1017,1018,1019,1020,1021,1022,1023,1024,1025,1026,1027,1028,1029,1030,1031,1032,1033,1034,1035,1036,1037,1038,1039,1040,1041,1042,1043,1044,1045,1046,1047,1048,1049,1050,1051,1052,1053,1054,1055,1056,1057,1058,1059,1060,1061,1062,1063,1064,1065,1066,1067,1068,1069,1070,1071,1072,1073,1074,1075,1076,1077,1078,1079,1080,1081,1082,1083,1084,1085,1086,1087,1088,1089,1090,1091,1092,1093,1094,1095,1096,1097,1098,1099,1100,1101,1102,1103,1104,1105,1106,1107,1108,1109,1110,1111,1112,1113,1114,1215,1216,1227,1228,1229,1272,1274,1276,1278,1280,1282) have mixed types. Specify dtype option on import or set low_memory=False.\n",
      "  interactivity=interactivity, compiler=compiler, result=result)\n"
     ]
    },
    {
     "data": {
      "text/html": [
       "<div>\n",
       "<style scoped>\n",
       "    .dataframe tbody tr th:only-of-type {\n",
       "        vertical-align: middle;\n",
       "    }\n",
       "\n",
       "    .dataframe tbody tr th {\n",
       "        vertical-align: top;\n",
       "    }\n",
       "\n",
       "    .dataframe thead th {\n",
       "        text-align: right;\n",
       "    }\n",
       "</style>\n",
       "<table border=\"1\" class=\"dataframe\">\n",
       "  <thead>\n",
       "    <tr style=\"text-align: right;\">\n",
       "      <th></th>\n",
       "      <th>inc_key</th>\n",
       "      <th>yobirth</th>\n",
       "      <th>age</th>\n",
       "      <th>gender</th>\n",
       "      <th>race1</th>\n",
       "      <th>race2</th>\n",
       "      <th>ethnic</th>\n",
       "      <th>teachsta</th>\n",
       "      <th>acslevel</th>\n",
       "      <th>acspedl</th>\n",
       "      <th>...</th>\n",
       "      <th>compldes8</th>\n",
       "      <th>complkey9</th>\n",
       "      <th>compldes9</th>\n",
       "      <th>complkey10</th>\n",
       "      <th>compldes10</th>\n",
       "      <th>complkey11</th>\n",
       "      <th>compldes11</th>\n",
       "      <th>complkey12</th>\n",
       "      <th>compldes12</th>\n",
       "      <th>_merge</th>\n",
       "    </tr>\n",
       "  </thead>\n",
       "  <tbody>\n",
       "    <tr>\n",
       "      <th>0</th>\n",
       "      <td>00000ae7-4797</td>\n",
       "      <td>1985</td>\n",
       "      <td>28</td>\n",
       "      <td>Female</td>\n",
       "      <td>White</td>\n",
       "      <td>Not Known/Not Recorded BIU 2</td>\n",
       "      <td>Not Hispanic or Latino</td>\n",
       "      <td>University</td>\n",
       "      <td>I</td>\n",
       "      <td>Not Applicable</td>\n",
       "      <td>...</td>\n",
       "      <td>NaN</td>\n",
       "      <td>NaN</td>\n",
       "      <td>NaN</td>\n",
       "      <td>NaN</td>\n",
       "      <td>NaN</td>\n",
       "      <td>NaN</td>\n",
       "      <td>NaN</td>\n",
       "      <td>NaN</td>\n",
       "      <td>NaN</td>\n",
       "      <td>matched (3)</td>\n",
       "    </tr>\n",
       "    <tr>\n",
       "      <th>1</th>\n",
       "      <td>00001376-9675</td>\n",
       "      <td>1960</td>\n",
       "      <td>54</td>\n",
       "      <td>Male</td>\n",
       "      <td>White</td>\n",
       "      <td>Not Known/Not Recorded BIU 2</td>\n",
       "      <td>Not Hispanic or Latino</td>\n",
       "      <td>University</td>\n",
       "      <td>I</td>\n",
       "      <td>I</td>\n",
       "      <td>...</td>\n",
       "      <td>NaN</td>\n",
       "      <td>NaN</td>\n",
       "      <td>NaN</td>\n",
       "      <td>NaN</td>\n",
       "      <td>NaN</td>\n",
       "      <td>NaN</td>\n",
       "      <td>NaN</td>\n",
       "      <td>NaN</td>\n",
       "      <td>NaN</td>\n",
       "      <td>matched (3)</td>\n",
       "    </tr>\n",
       "    <tr>\n",
       "      <th>2</th>\n",
       "      <td>00001774-08a9</td>\n",
       "      <td>1975</td>\n",
       "      <td>40</td>\n",
       "      <td>Male</td>\n",
       "      <td>Other Race</td>\n",
       "      <td>Not Known/Not Recorded BIU 2</td>\n",
       "      <td>Hispanic or Latino</td>\n",
       "      <td>University</td>\n",
       "      <td>I</td>\n",
       "      <td>Not Applicable</td>\n",
       "      <td>...</td>\n",
       "      <td>NaN</td>\n",
       "      <td>NaN</td>\n",
       "      <td>NaN</td>\n",
       "      <td>NaN</td>\n",
       "      <td>NaN</td>\n",
       "      <td>NaN</td>\n",
       "      <td>NaN</td>\n",
       "      <td>NaN</td>\n",
       "      <td>NaN</td>\n",
       "      <td>matched (3)</td>\n",
       "    </tr>\n",
       "    <tr>\n",
       "      <th>3</th>\n",
       "      <td>00002cba-17d4</td>\n",
       "      <td>1996</td>\n",
       "      <td>16</td>\n",
       "      <td>Male</td>\n",
       "      <td>Black or African American</td>\n",
       "      <td>Not Known/Not Recorded BIU 2</td>\n",
       "      <td>Not Hispanic or Latino</td>\n",
       "      <td>University</td>\n",
       "      <td>I</td>\n",
       "      <td>Not Applicable</td>\n",
       "      <td>...</td>\n",
       "      <td>NaN</td>\n",
       "      <td>NaN</td>\n",
       "      <td>NaN</td>\n",
       "      <td>NaN</td>\n",
       "      <td>NaN</td>\n",
       "      <td>NaN</td>\n",
       "      <td>NaN</td>\n",
       "      <td>NaN</td>\n",
       "      <td>NaN</td>\n",
       "      <td>matched (3)</td>\n",
       "    </tr>\n",
       "    <tr>\n",
       "      <th>4</th>\n",
       "      <td>000048a2-1679</td>\n",
       "      <td>1993</td>\n",
       "      <td>20</td>\n",
       "      <td>Male</td>\n",
       "      <td>White</td>\n",
       "      <td>Not Known/Not Recorded BIU 2</td>\n",
       "      <td>Not Hispanic or Latino</td>\n",
       "      <td>University</td>\n",
       "      <td>Not Applicable</td>\n",
       "      <td>Not Applicable</td>\n",
       "      <td>...</td>\n",
       "      <td>NaN</td>\n",
       "      <td>NaN</td>\n",
       "      <td>NaN</td>\n",
       "      <td>NaN</td>\n",
       "      <td>NaN</td>\n",
       "      <td>NaN</td>\n",
       "      <td>NaN</td>\n",
       "      <td>NaN</td>\n",
       "      <td>NaN</td>\n",
       "      <td>matched (3)</td>\n",
       "    </tr>\n",
       "  </tbody>\n",
       "</table>\n",
       "<p>5 rows × 1290 columns</p>\n",
       "</div>"
      ],
      "text/plain": [
       "         inc_key  yobirth  age  gender                      race1  \\\n",
       "0  00000ae7-4797     1985   28  Female                      White   \n",
       "1  00001376-9675     1960   54    Male                      White   \n",
       "2  00001774-08a9     1975   40    Male                 Other Race   \n",
       "3  00002cba-17d4     1996   16    Male  Black or African American   \n",
       "4  000048a2-1679     1993   20    Male                      White   \n",
       "\n",
       "                          race2                  ethnic    teachsta  \\\n",
       "0  Not Known/Not Recorded BIU 2  Not Hispanic or Latino  University   \n",
       "1  Not Known/Not Recorded BIU 2  Not Hispanic or Latino  University   \n",
       "2  Not Known/Not Recorded BIU 2      Hispanic or Latino  University   \n",
       "3  Not Known/Not Recorded BIU 2  Not Hispanic or Latino  University   \n",
       "4  Not Known/Not Recorded BIU 2  Not Hispanic or Latino  University   \n",
       "\n",
       "         acslevel         acspedl  ... compldes8 complkey9 compldes9  \\\n",
       "0               I  Not Applicable  ...       NaN       NaN       NaN   \n",
       "1               I               I  ...       NaN       NaN       NaN   \n",
       "2               I  Not Applicable  ...       NaN       NaN       NaN   \n",
       "3               I  Not Applicable  ...       NaN       NaN       NaN   \n",
       "4  Not Applicable  Not Applicable  ...       NaN       NaN       NaN   \n",
       "\n",
       "  complkey10 compldes10 complkey11 compldes11 complkey12 compldes12  \\\n",
       "0        NaN        NaN        NaN        NaN        NaN        NaN   \n",
       "1        NaN        NaN        NaN        NaN        NaN        NaN   \n",
       "2        NaN        NaN        NaN        NaN        NaN        NaN   \n",
       "3        NaN        NaN        NaN        NaN        NaN        NaN   \n",
       "4        NaN        NaN        NaN        NaN        NaN        NaN   \n",
       "\n",
       "        _merge  \n",
       "0  matched (3)  \n",
       "1  matched (3)  \n",
       "2  matched (3)  \n",
       "3  matched (3)  \n",
       "4  matched (3)  \n",
       "\n",
       "[5 rows x 1290 columns]"
      ]
     },
     "execution_count": 6,
     "metadata": {},
     "output_type": "execute_result"
    }
   ],
   "source": [
    "df_trauma = pd.read_csv(\"../Data/original_data/TQIP_2010_2016_Merged_MGHTrauma2019Jan.csv\", nrows=50000)\n",
    "initial_length = len(df_trauma)\n",
    "df_trauma.head()"
   ]
  },
  {
   "cell_type": "markdown",
   "metadata": {},
   "source": [
    "# General preprocessing"
   ]
  },
  {
   "cell_type": "code",
   "execution_count": 7,
   "metadata": {
    "ExecuteTime": {
     "end_time": "2019-11-29T19:03:31.547558Z",
     "start_time": "2019-11-29T19:03:30.989201Z"
    }
   },
   "outputs": [],
   "source": [
    "allowed_eddisp = [\n",
    "  \"Operating Room\",\n",
    "  # \"Transferred to another hospital\",\n",
    "  \"Observation unit (unit that provides &lt; 24 hour stays)\",\n",
    "  \"Intensive Care Unit (ICU)\",\n",
    "  \"Telemetry/step-down unit (less acuity than ICU)\",\n",
    "  \"Floor bed (general admission, non specialty unit bed)\"\n",
    "  # \"Home without services\",\n",
    "  # \"Other (jail, institutional care facility, mental health, etc)\",\n",
    "  # \"Home with services\",\n",
    "  # \"Left against medical advice\",\n",
    "]\n",
    "df_trauma = df_trauma[df_trauma[\"eddisp\"].isin(allowed_eddisp)]\n",
    "df_trauma.loc[(df_trauma.tmode1.isnull()) & ~(df_trauma.tmode2.isnull()), \"tmode1\"] = df_trauma.loc[\n",
    "    (df_trauma.tmode1.isnull()) & ~(df_trauma.tmode2.isnull()), \"tmode2\"\n",
    "]"
   ]
  },
  {
   "cell_type": "code",
   "execution_count": 8,
   "metadata": {
    "ExecuteTime": {
     "end_time": "2019-11-29T19:03:41.507113Z",
     "start_time": "2019-11-29T19:03:41.004591Z"
    }
   },
   "outputs": [],
   "source": [
    "comorkeys = [x for x in df_trauma.columns if \"comorkey\" in x]\n",
    "complkeys = [x for x in df_trauma.columns if \"complkey\" in x]\n",
    "predotkeys = [x for x in df_trauma.columns if \"predot\" in x]\n",
    "severitykeys = [x for x in df_trauma.columns if \"severity\" in x]\n",
    "columns_kept_daisy = (\n",
    "    comorkeys\n",
    "    + complkeys\n",
    "    + predotkeys\n",
    "    + severitykeys\n",
    "    + [\n",
    "        \"issais\", \"age\", \"gender\", \"race1\", \"ethnic\", \"acslevel\",\n",
    "        \"tmode1\", \"tmode2\", \"transfer\", \"alcohol\", \"drug1\", \"signsoflife\",\n",
    "        \"sbp1\", \"sbp2\", \"pulse1\", \"pulse2\", \"rr1\", \"rr2\",\n",
    "        \"oxysat1\", \"oxysat2\", \"temp1\", \"gcstot1\", \"gcstot2\",\n",
    "        \"ecode\", \"icd10_primary_ecode\", \"icd10_additonal_ecode\",\n",
    "        \"eddisp\", \"hospdisp\", \"yoadmit\", \"teachsta\", \"region\", \"hemorrhage_ctrl_type\"\n",
    "    ]\n",
    ")\n",
    "df_trauma = df_trauma[columns_kept_daisy]"
   ]
  },
  {
   "cell_type": "code",
   "execution_count": 39,
   "metadata": {
    "ExecuteTime": {
     "end_time": "2019-11-22T19:23:21.382153Z",
     "start_time": "2019-11-22T19:23:19.540618Z"
    }
   },
   "outputs": [],
   "source": [
    "##### Mapping values to NaNs #####\n",
    "for col_severity in severitykeys:\n",
    "    df_trauma[col_severity] = df_trauma[col_severity].replace({9: np.nan})\n",
    "df_trauma = df_trauma.replace({\n",
    "    \"Not Applicable BIU 1\": np.nan,\n",
    "    \"Not Known/Not Recorded BIU 2\": np.nan,\n",
    "    \"Not Applicable\": np.nan,\n",
    "    -99: np.nan,\n",
    "    -1: np.nan,\n",
    "    -2: np.nan,\n",
    "})"
   ]
  },
  {
   "cell_type": "markdown",
   "metadata": {},
   "source": [
    "# Comorbidities"
   ]
  },
  {
   "cell_type": "code",
   "execution_count": 40,
   "metadata": {
    "ExecuteTime": {
     "end_time": "2019-11-22T19:23:21.980392Z",
     "start_time": "2019-11-22T19:23:21.384859Z"
    }
   },
   "outputs": [
    {
     "name": "stdout",
     "output_type": "stream",
     "text": [
      "Created new column alcohol_use_disorder\n",
      "Created new column bleeding_disorder\n",
      "Created new column current_chemotherapy\n",
      "Created new column congestive_heart_failure\n",
      "Created new column current_smoker\n",
      "Created new column chronic_renal_failure\n",
      "Created new column history_cva\n",
      "Created new column diabetes\n",
      "Created new column disseminated_cancer\n",
      "Created new column copd\n",
      "Created new column steroid\n",
      "Created new column cirrhosis\n",
      "Created new column drug_use_disorder\n",
      "Created new column history_MI\n",
      "Created new column history_pvd\n",
      "Created new column hypertension_medication\n"
     ]
    }
   ],
   "source": [
    "for new_column, value in zip(\n",
    "    [\"alcohol_use_disorder\", \"bleeding_disorder\", \"current_chemotherapy\", \"congestive_heart_failure\",\n",
    "    \"current_smoker\", \"chronic_renal_failure\", \"history_cva\", \"diabetes\", \"disseminated_cancer\", \"copd\",\n",
    "    \"steroid\", \"cirrhosis\", \"drug_use_disorder\", \"history_MI\", \"history_pvd\", \"hypertension_medication\"], \n",
    "    [2, 4, 5, 7, 8, 9, 10, 11, 12, 23, 24, 25, 28, 17, 18, 19]\n",
    "):\n",
    "    df_trauma[new_column] = 0\n",
    "    df_trauma.loc[\n",
    "        ((df_trauma[\"comorkey1\"] == value) | (df_trauma[\"comorkey2\"] == value) | \n",
    "        (df_trauma[\"comorkey3\"] == value) | (df_trauma[\"comorkey4\"] == value) | \n",
    "        (df_trauma[\"comorkey5\"] == value) | (df_trauma[\"comorkey6\"] == value) | \n",
    "        (df_trauma[\"comorkey7\"] == value) | (df_trauma[\"comorkey8\"] == value) | \n",
    "        (df_trauma[\"comorkey9\"] == value) | (df_trauma[\"comorkey10\"] == value) | \n",
    "        (df_trauma[\"comorkey11\"] == value) | (df_trauma[\"comorkey12\"] == value)), \n",
    "        new_column\n",
    "    ] = 1\n",
    "    print(f\"Created new column {new_column}\")\n",
    "df_trauma = df_trauma.loc[:, [col for col in df_trauma.columns if \"comorkey\" not in col]]"
   ]
  },
  {
   "cell_type": "markdown",
   "metadata": {},
   "source": [
    "# Morbidities"
   ]
  },
  {
   "cell_type": "code",
   "execution_count": 41,
   "metadata": {
    "ExecuteTime": {
     "end_time": "2019-11-22T19:23:22.095304Z",
     "start_time": "2019-11-22T19:23:21.984031Z"
    }
   },
   "outputs": [],
   "source": [
    "# 0 means that the patient has no allowed morbidity, 1 means he has one\n",
    "df_trauma[\"morbidity\"] = 0\n",
    "# 11, 15, 18, 22, 23, 30, 31 and 35 should be = 0 for Majed (14/12)\n",
    "allowed_morbidities = [4, 5, 8, 11, 12, 14, 15, 18, 19, 21, 22, 23, 25, 30, 31, 32, 35]\n",
    "for col_compl in complkeys:\n",
    "    df_trauma.loc[(df_trauma[col_compl].isin(allowed_morbidities)), \"morbidity\"] = 1"
   ]
  },
  {
   "cell_type": "markdown",
   "metadata": {
    "heading_collapsed": true
   },
   "source": [
    "# Blunt/Penetration Feature (method_of_injury)"
   ]
  },
  {
   "cell_type": "markdown",
   "metadata": {
    "hidden": true
   },
   "source": [
    "## Mapping ecode \n",
    "(ecode2 has exactly the sames keys so it's useless to do any mapping)"
   ]
  },
  {
   "cell_type": "code",
   "execution_count": 84,
   "metadata": {
    "ExecuteTime": {
     "end_time": "2019-11-22T23:46:16.823527Z",
     "start_time": "2019-11-22T23:46:16.794534Z"
    },
    "hidden": true,
    "scrolled": true
   },
   "outputs": [
    {
     "name": "stdout",
     "output_type": "stream",
     "text": [
      "Blunt - Fall\n",
      "Blunt - Other\n",
      "Blunt - MVT occupant\n",
      "Blunt - MVT Pedal cyclist/pedestrian\n",
      "Blunt - MVT motorcyclist\n",
      "Penetrating - Gunshot Wound\n",
      "Penetrating - Stab Wound\n",
      "Penetrating - Other/Mixed\n",
      "===> Preprocessed the ICD mapping\n"
     ]
    }
   ],
   "source": [
    "icd_mapping_ecode = pd.read_csv(\"../data/icd.csv\", sep=\";\")\n",
    "dict_icd_mapping_ecode = {}\n",
    "for j in range(len(icd_mapping_ecode.columns)):\n",
    "    injury_type = icd_mapping_ecode.columns[j]\n",
    "    print(injury_type)\n",
    "    ecode_values = icd_mapping_ecode.iloc[0, j].split(' ')\n",
    "    ecode_values = [x[6:-1].split(\"\\n\")[0] if \"float\" in x else x.split(\"\\n\")[0] for x in ecode_values]\n",
    "    ecode_values = [float(x) if ')' not in x else float(x[:-1]) for x in ecode_values]\n",
    "    dict_icd_mapping_ecode.update({ecode: injury_type for ecode in ecode_values})\n",
    "print(\"===> Preprocessed the ICD mapping\")"
   ]
  },
  {
   "cell_type": "code",
   "execution_count": 85,
   "metadata": {
    "ExecuteTime": {
     "end_time": "2019-11-22T23:46:17.460670Z",
     "start_time": "2019-11-22T23:46:17.432846Z"
    },
    "hidden": true
   },
   "outputs": [
    {
     "name": "stdout",
     "output_type": "stream",
     "text": [
      "Blunt - Fall                            17490\n",
      "Unknown                                  8775\n",
      "Blunt - MVT occupant                     8459\n",
      "Blunt - Other                            5270\n",
      "Blunt - MVT motorcyclist                 2784\n",
      "Penetrating - Gunshot Wound              2075\n",
      "Blunt - MVT Pedal cyclist/pedestrian     1927\n",
      "Penetrating - Stab Wound                 1132\n",
      "Penetrating - Other/Mixed                   1\n",
      "Name: method_of_injury_ecode, dtype: int64\n"
     ]
    }
   ],
   "source": [
    "# We replace all the NaNs with \"Other\"\n",
    "df_trauma[\"method_of_injury_ecode\"] = df_trauma[\"ecode\"].astype(float).round(1).map(dict_icd_mapping_ecode)\n",
    "df_trauma[\"method_of_injury_ecode\"] = df_trauma[\"method_of_injury_ecode\"].replace({np.nan: \"Unknown\"})\n",
    "print(df_trauma[\"method_of_injury_ecode\"].value_counts())"
   ]
  },
  {
   "cell_type": "markdown",
   "metadata": {
    "hidden": true
   },
   "source": [
    "## Mapping icd10_primary_code\n",
    "(icd10_additional_code has exactly the sames keys so it's useless to do any mapping)"
   ]
  },
  {
   "cell_type": "code",
   "execution_count": 86,
   "metadata": {
    "ExecuteTime": {
     "end_time": "2019-11-22T23:46:18.687111Z",
     "start_time": "2019-11-22T23:46:18.663205Z"
    },
    "hidden": true
   },
   "outputs": [
    {
     "name": "stdout",
     "output_type": "stream",
     "text": [
      "Blunt - Fall\n",
      "Blunt - Other\n",
      "Blunt - MVT occupant\n",
      "Blunt - MVT Pedal cyclist/pedestrian\n",
      "Blunt - MVT motorcyclist\n",
      "Penetrating - Gunshot Wound\n",
      "Penetrating - Stab Wound\n",
      "Penetrating - Other/Mixed\n",
      "===> Preprocessed the ICD mapping primary icd\n"
     ]
    }
   ],
   "source": [
    "icd_mapping_primary = pd.read_csv(\"../data/icd_primary_ecodes.csv\", sep=\";\")\n",
    "dict_icd_mapping_primary_icd = {}\n",
    "for j in range(len(icd_mapping_primary.columns)):\n",
    "    injury_type = icd_mapping_primary.columns[j]\n",
    "    print(injury_type)\n",
    "    primary_icd_values = icd_mapping_primary.iloc[0, j].split(' ')\n",
    "    primary_icd_values = [x.split(\"\\n\")[0] if \"\\n\" in x else x for x in primary_icd_values]\n",
    "    dict_icd_mapping_primary_icd.update({primary_icd: injury_type for primary_icd in primary_icd_values})\n",
    "print(\"===> Preprocessed the ICD mapping primary icd\")\n",
    "dict_icd_mapping_primary_icd.update({-1: \"Unknown\", -2: \"Unknown\"})"
   ]
  },
  {
   "cell_type": "code",
   "execution_count": 87,
   "metadata": {
    "ExecuteTime": {
     "end_time": "2019-11-22T23:46:25.800349Z",
     "start_time": "2019-11-22T23:46:25.753175Z"
    },
    "hidden": true
   },
   "outputs": [
    {
     "name": "stdout",
     "output_type": "stream",
     "text": [
      "Unknown                                 38319\n",
      "Blunt - Fall                             4775\n",
      "Blunt - MVT occupant                     1842\n",
      "Blunt - Other                            1212\n",
      "Penetrating - Gunshot Wound               598\n",
      "Blunt - MVT motorcyclist                  549\n",
      "Blunt - MVT Pedal cyclist/pedestrian      333\n",
      "Penetrating - Stab Wound                  280\n",
      "Penetrating - Other/Mixed                   5\n",
      "Name: method_of_injury_icd_primary, dtype: int64\n"
     ]
    }
   ],
   "source": [
    "df_trauma[\"method_of_injury_icd_primary\"] = df_trauma[\"icd10_primary_ecode\"].map(\n",
    "    dict_icd_mapping_primary_icd\n",
    ")\n",
    "df_trauma[\"method_of_injury_icd_primary\"] = df_trauma[\"method_of_injury_icd_primary\"].replace({np.nan: \"Unknown\"})\n",
    "print(df_trauma[\"method_of_injury_icd_primary\"].value_counts())"
   ]
  },
  {
   "cell_type": "markdown",
   "metadata": {
    "hidden": true
   },
   "source": [
    "## Creating final method_of_injury from all others"
   ]
  },
  {
   "cell_type": "code",
   "execution_count": 83,
   "metadata": {
    "ExecuteTime": {
     "end_time": "2019-11-22T23:44:14.454388Z",
     "start_time": "2019-11-22T23:44:14.314852Z"
    },
    "hidden": true
   },
   "outputs": [
    {
     "data": {
      "text/plain": [
       "Blunt - Fall                            21515\n",
       "Blunt - MVT occupant                    10027\n",
       "Blunt - Other                            6289\n",
       "Blunt - MVT motorcyclist                 3258\n",
       "Penetrating - Gunshot Wound              2588\n",
       "Blunt - MVT Pedal cyclist/pedestrian     2216\n",
       "Penetrating - Stab Wound                 1375\n",
       "Unknown                                   639\n",
       "Penetrating - Other/Mixed                   6\n",
       "Name: method_of_injury_final, dtype: int64"
      ]
     },
     "execution_count": 83,
     "metadata": {},
     "output_type": "execute_result"
    }
   ],
   "source": [
    "df_trauma[\"method_of_injury\"] = df_trauma.method_of_injury_ecode\n",
    "# Completing ecode with primary_icd10_code\n",
    "df_trauma.loc[\n",
    "    (\n",
    "        (df_trauma.method_of_injury_ecode == \"Unknown\") & \n",
    "         (df_trauma.method_of_injury_icd_primary != \"Unknown\") & \n",
    "         (df_trauma.method_of_injury_ecode != df_trauma.method_of_injury_icd_primary)\n",
    "    )\n",
    "    , \"method_of_injury\"\n",
    "] = df_trauma.loc[\n",
    "    (\n",
    "        (df_trauma.method_of_injury_ecode == \"Unknown\") & \n",
    "         (df_trauma.method_of_injury_icd_primary != \"Unknown\") & \n",
    "         (df_trauma.method_of_injury_ecode != df_trauma.method_of_injury_icd_primary)\n",
    "    )\n",
    "    , \"method_of_injury_icd_primary\"\n",
    "]\n",
    "\n",
    "# Completing primary_icd10_code with ecode\n",
    "df_trauma.loc[\n",
    "    (\n",
    "        (df_trauma.method_of_injury_ecode != \"Unknown\") & \n",
    "        (df_trauma.method_of_injury_icd_primary == \"Unknown\") & \n",
    "        (df_trauma.method_of_injury_ecode != df_trauma.method_of_injury_icd_primary)\n",
    "    )\n",
    "    , \"method_of_injury\"\n",
    "] = df_trauma.loc[\n",
    "    (\n",
    "        (df_trauma.method_of_injury_ecode != \"Unknown\") & \n",
    "        (df_trauma.method_of_injury_icd_primary == \"Unknown\") & \n",
    "        (df_trauma.method_of_injury_ecode != df_trauma.method_of_injury_icd_primary)\n",
    "    )\n",
    "    , \"method_of_injury_ecode\"\n",
    "]\n",
    "print(df_trauma.method_of_injury.value_counts())\n",
    "# Dropping these two intermediary columns\n",
    "df_trauma.drop([\"method_of_injury_ecode\", \"method_of_injury_icd_primary\"], axis=1, inplace=True)"
   ]
  },
  {
   "cell_type": "markdown",
   "metadata": {
    "heading_collapsed": true
   },
   "source": [
    "# Alcohol"
   ]
  },
  {
   "cell_type": "code",
   "execution_count": 10,
   "metadata": {
    "ExecuteTime": {
     "end_time": "2019-11-22T04:52:20.315510Z",
     "start_time": "2019-11-22T04:52:20.285917Z"
    },
    "hidden": true
   },
   "outputs": [],
   "source": [
    "df_trauma[\"alcohol\"] = df_trauma[\"alcohol\"].map({\n",
    "    \"Yes (confirmed by test [beyond legal limit])\": \"Alcohol\",\n",
    "    \"No (confirmed by test)\": \"Residual/no alcohol\",\n",
    "    \"Yes (confirmed by test [trace levels])\": \"Residual/no alcohol\",\n",
    "    \"No (not tested)\": np.nan\n",
    "})"
   ]
  },
  {
   "cell_type": "markdown",
   "metadata": {},
   "source": [
    "# Predots Cleaning (severity)"
   ]
  },
  {
   "cell_type": "code",
   "execution_count": 15,
   "metadata": {
    "ExecuteTime": {
     "end_time": "2019-11-29T19:06:40.522610Z",
     "start_time": "2019-11-29T19:06:40.472118Z"
    },
    "scrolled": true
   },
   "outputs": [],
   "source": [
    "ais_inputs = pd.read_csv(\"../Data/original_data/ais_inputs.csv\", sep=\";\")\n",
    "columns_ais = list(ais_inputs.columns)[1:]\n",
    "injury_locations = [x[9:] for x in columns_ais]"
   ]
  },
  {
   "cell_type": "code",
   "execution_count": 16,
   "metadata": {
    "ExecuteTime": {
     "end_time": "2019-11-29T19:06:41.700314Z",
     "start_time": "2019-11-29T19:06:41.651794Z"
    }
   },
   "outputs": [],
   "source": [
    "for col, location in zip(columns_ais, injury_locations):\n",
    "    vars()[f\"dict_ais_inputs_{location}\"] = {}\n",
    "    ais_temp = ais_inputs.loc[~ais_inputs[col].isnull(), [\"AIS_Predots\", col]]\n",
    "    predots = ais_temp.AIS_Predots.tolist()\n",
    "    severity = ais_temp[col].tolist()\n",
    "    vars()[f\"dict_ais_inputs_{location}\"].update({k:v for k,v in zip(predots, severity)})"
   ]
  },
  {
   "cell_type": "code",
   "execution_count": 18,
   "metadata": {
    "ExecuteTime": {
     "end_time": "2019-11-29T19:08:23.975786Z",
     "start_time": "2019-11-29T19:08:17.576289Z"
    },
    "scrolled": true
   },
   "outputs": [
    {
     "name": "stdout",
     "output_type": "stream",
     "text": [
      "Face\n",
      "1.0    22.659821\n",
      "2.0     6.092292\n",
      "3.0     0.160708\n",
      "4.0     0.010436\n",
      "Name: Face_severity, dtype: float64\n",
      "% of NaNs:  71.07674326383237\n",
      "----------------------------------\n",
      "Neck\n",
      "1.0    0.768059\n",
      "3.0    0.546824\n",
      "2.0    0.256715\n",
      "4.0    0.037568\n",
      "5.0    0.004174\n",
      "Name: Neck_severity, dtype: float64\n",
      "% of NaNs:  98.38665915304823\n",
      "----------------------------------\n",
      "Head\n",
      "3.0    25.698662\n",
      "1.0     7.607539\n",
      "4.0     3.059712\n",
      "2.0     1.604992\n",
      "5.0     1.586208\n",
      "6.0     0.025045\n",
      "Name: Head_severity, dtype: float64\n",
      "% of NaNs:  60.417840669546884\n",
      "----------------------------------\n",
      "Thorax\n",
      "3.0    16.719888\n",
      "2.0     9.604909\n",
      "1.0     1.982760\n",
      "5.0     1.565337\n",
      "4.0     0.935028\n",
      "6.0     0.586480\n",
      "Name: Thorax_severity, dtype: float64\n",
      "% of NaNs:  68.60559764573289\n",
      "----------------------------------\n",
      "Abdomen\n",
      "2.0    6.138209\n",
      "1.0    4.652182\n",
      "4.0    2.725774\n",
      "3.0    2.610982\n",
      "5.0    0.638658\n",
      "Name: Abdomen_severity, dtype: float64\n",
      "% of NaNs:  83.23419531233695\n",
      "----------------------------------\n",
      "Spine\n",
      "2.0    17.133137\n",
      "3.0     2.706990\n",
      "4.0     1.191743\n",
      "1.0     0.753449\n",
      "5.0     0.559347\n",
      "6.0     0.133575\n",
      "Name: Spine_severity, dtype: float64\n",
      "% of NaNs:  77.52175818671341\n",
      "----------------------------------\n",
      "Upper_Extremity\n",
      "1.0    13.175965\n",
      "2.0     3.938388\n",
      "3.0     0.617786\n",
      "4.0     0.012523\n",
      "Name: Upper_Extremity_severity, dtype: float64\n",
      "% of NaNs:  82.25533779976207\n",
      "----------------------------------\n",
      "Lower_Extremity\n",
      "1.0    10.581679\n",
      "3.0    10.164256\n",
      "2.0     2.598460\n",
      "4.0     0.206625\n",
      "Name: Lower_Extremity_severity, dtype: float64\n",
      "% of NaNs:  76.44898044372091\n",
      "----------------------------------\n",
      "Pelvis_Perineum\n",
      "2.0    0.753449\n",
      "3.0    0.630309\n",
      "1.0    0.250454\n",
      "4.0    0.223321\n",
      "5.0    0.068875\n",
      "Name: Pelvis_Perineum_severity, dtype: float64\n",
      "% of NaNs:  98.07359171832279\n",
      "----------------------------------\n",
      "External\n",
      "1.0    7.484399\n",
      "2.0    0.035481\n",
      "5.0    0.002087\n",
      "Name: External_severity, dtype: float64\n",
      "% of NaNs:  92.47803310166344\n",
      "----------------------------------\n"
     ]
    }
   ],
   "source": [
    "for location in injury_locations:\n",
    "    print(location)\n",
    "    df_temp = df_trauma.copy()\n",
    "    df_temp[f\"{location}_severity\"] = np.nan\n",
    "    for predot_col in predotkeys:\n",
    "        df_temp[predot_col] = df_temp[predot_col].astype(float)\n",
    "        df_temp[predot_col] = df_temp[predot_col].map(vars()[f\"dict_ais_inputs_{location}\"])\n",
    "        df_temp[predot_col] = df_temp[predot_col].replace({9: np.nan})\n",
    "    df_temp[f\"{location}_severity\"] = df_temp[predotkeys].max(axis=1)\n",
    "    df_trauma[f\"{location}_severity\"] = df_temp[f\"{location}_severity\"].copy()\n",
    "    print(df_trauma[f\"{location}_severity\"].value_counts()/len(df_trauma)*100)\n",
    "    print(\"% of NaNs: \",df_trauma[f\"{location}_severity\"].isnull().sum()/len(df_trauma)*100)\n",
    "    print('----------------------------------')\n",
    "\n",
    "# Taking the maximum severity for a patient over all new severity columns\n",
    "df_trauma[\"severity_max\"] = df_trauma[[f\"{location}_severity\" for location in injury_locations]].max(axis=1)"
   ]
  },
  {
   "cell_type": "markdown",
   "metadata": {},
   "source": [
    "# Transfers Cleaning"
   ]
  },
  {
   "cell_type": "code",
   "execution_count": 14,
   "metadata": {
    "ExecuteTime": {
     "end_time": "2019-11-22T04:52:26.515557Z",
     "start_time": "2019-11-22T04:52:26.344682Z"
    }
   },
   "outputs": [
    {
     "name": "stdout",
     "output_type": "stream",
     "text": [
      "47913\n",
      "34110\n"
     ]
    }
   ],
   "source": [
    "print(f\"Length before transfer cleaning (keeping only 'No'): {len(df_trauma)}\")\n",
    "df_trauma = df_trauma[df_trauma.transfer == \"No\"]\n",
    "print(f\"Length after transfer cleaning (keeping only 'No'): {len(df_trauma)}\")"
   ]
  },
  {
   "cell_type": "markdown",
   "metadata": {},
   "source": [
    "# Filtering nan hospdisp"
   ]
  },
  {
   "cell_type": "code",
   "execution_count": 21,
   "metadata": {
    "ExecuteTime": {
     "end_time": "2019-11-22T04:58:09.001888Z",
     "start_time": "2019-11-22T04:58:08.859833Z"
    }
   },
   "outputs": [
    {
     "name": "stdout",
     "output_type": "stream",
     "text": [
      "Length before filtering NaNs from hospdisp: 34110\n",
      "Length after filtering NaNs from hospdisp: 34097\n"
     ]
    }
   ],
   "source": [
    "print(f\"Length before filtering NaNs from hospdisp: {len(df_trauma)}\")\n",
    "df_trauma = df_trauma[~df_trauma.hospdisp.isnull()]\n",
    "print(f\"Length after filtering NaNs from hospdisp: {len(df_trauma)}\")"
   ]
  },
  {
   "cell_type": "code",
   "execution_count": 28,
   "metadata": {
    "ExecuteTime": {
     "end_time": "2019-11-22T05:03:10.014540Z",
     "start_time": "2019-11-22T05:03:09.633577Z"
    },
    "scrolled": true
   },
   "outputs": [],
   "source": [
    "df_trauma = df_trauma.sort_values(by=\"yoadmit\").reset_index(drop=True)\n",
    "df_trauma.to_csv(\"./trauma_data_preprocessed.csv\")\n",
    "hosp_mortality = ((df_trauma.hospdisp == \"Expired\") | (df_trauma.hospdisp == \"Deceased/Expired\"))*1\n",
    "hosp_morbidity = df_trauma.morbidity\n",
    "df_trauma_train = df_trauma[df_trauma.yoadmit < 2016].reset_index(drop=True)\n",
    "df_trauma_test = df_trauma[df_trauma.yoadmit >= 2016].reset_index(drop=True)\n",
    "columns_to_keep = [\n",
    "    \"age\",\n",
    "    \"gender\",\n",
    "    \"race1\",\n",
    "    # \"teachsta\",\n",
    "    # \"region\",\n",
    "    \"acslevel\",\n",
    "    \"tmode1\",\n",
    "    # \"transfer\",\n",
    "    \"signsoflife\",\n",
    "    \"sbp1\",\n",
    "    # \"sbp2\",\n",
    "    \"pulse1\",\n",
    "    # \"pulse2\",\n",
    "    \"oxysat1\",\n",
    "    # \"oxysat2\",\n",
    "    \"temp1\",\n",
    "    \"gcstot1\",\n",
    "    # \"gcstot2\",\n",
    "    \"alcohol\",\n",
    "    \"bleeding_disorder\",\n",
    "    \"current_chemotherapy\",\n",
    "    \"congestive_heart_failure\",\n",
    "    \"current_smoker\",\n",
    "    \"chronic_renal_failure\",\n",
    "    \"history_cva\",\n",
    "    \"diabetes\",\n",
    "    \"disseminated_cancer\",\n",
    "    \"copd\",\n",
    "    \"steroid\",\n",
    "    \"cirrhosis\",\n",
    "    \"history_MI\",\n",
    "    \"history_pvd\",\n",
    "    \"hypertension_medication\",\n",
    "    # \"eddisp\",\n",
    "    \"method_of_injury\",\n",
    "    # new AIS\"\n",
    "    \"Face_severity\",\n",
    "    \"Neck_severity\",\n",
    "    \"Thorax_severity\",\n",
    "    \"Abdomen_severity\",\n",
    "    \"Spine_severity\",\n",
    "    \"Upper_Extremity_severity\",\n",
    "    \"Lower_Extremity_severity\",\n",
    "    \"Pelvis_Perineum_severity\",\n",
    "    \"External_severity\",\n",
    "    \"severity_max\",\n",
    "    \"hemorrhage_ctrl_type\",\n",
    "]\n",
    "df_trauma_train = df_trauma_train[columns_to_keep]\n",
    "df_trauma_test = df_trauma_test[columns_to_keep]"
   ]
  },
  {
   "cell_type": "code",
   "execution_count": 22,
   "metadata": {
    "ExecuteTime": {
     "end_time": "2019-11-22T04:58:54.192384Z",
     "start_time": "2019-11-22T04:58:54.188320Z"
    }
   },
   "outputs": [
    {
     "name": "stdout",
     "output_type": "stream",
     "text": [
      "Size of training set: 26605\n",
      "Size of testing set: 7505\n"
     ]
    }
   ],
   "source": [
    "print(f\"Size of training set: {len(df_trauma_train)}\")\n",
    "print(f\"Size of testing set: {len(df_trauma_test)}\")"
   ]
  },
  {
   "cell_type": "code",
   "execution_count": null,
   "metadata": {},
   "outputs": [],
   "source": []
  }
 ],
 "metadata": {
  "kernelspec": {
   "display_name": "Python 3",
   "language": "python",
   "name": "python3"
  },
  "language_info": {
   "codemirror_mode": {
    "name": "ipython",
    "version": 3
   },
   "file_extension": ".py",
   "mimetype": "text/x-python",
   "name": "python",
   "nbconvert_exporter": "python",
   "pygments_lexer": "ipython3",
   "version": "3.6.9"
  },
  "latex_envs": {
   "LaTeX_envs_menu_present": true,
   "autoclose": false,
   "autocomplete": true,
   "bibliofile": "biblio.bib",
   "cite_by": "apalike",
   "current_citInitial": 1,
   "eqLabelWithNumbers": true,
   "eqNumInitial": 1,
   "hotkeys": {
    "equation": "Ctrl-E",
    "itemize": "Ctrl-I"
   },
   "labels_anchors": false,
   "latex_user_defs": false,
   "report_style_numbering": false,
   "user_envs_cfg": false
  },
  "toc": {
   "base_numbering": 1,
   "nav_menu": {},
   "number_sections": true,
   "sideBar": true,
   "skip_h1_title": false,
   "title_cell": "Table of Contents",
   "title_sidebar": "Contents",
   "toc_cell": false,
   "toc_position": {
    "height": "calc(100% - 180px)",
    "left": "10px",
    "top": "150px",
    "width": "384px"
   },
   "toc_section_display": true,
   "toc_window_display": true
  }
 },
 "nbformat": 4,
 "nbformat_minor": 2
}
