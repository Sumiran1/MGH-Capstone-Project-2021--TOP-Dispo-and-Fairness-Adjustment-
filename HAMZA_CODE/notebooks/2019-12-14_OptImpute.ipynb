{
 "cells": [
  {
   "cell_type": "code",
   "execution_count": 1,
   "metadata": {
    "ExecuteTime": {
     "end_time": "2019-12-14T00:40:04.216000-05:00",
     "start_time": "2019-12-14T05:39:45.527Z"
    }
   },
   "outputs": [],
   "source": [
    "using JuMP, Gurobi, CSV, LinearAlgebra, DataFrames, Random, Distributions, Statistics"
   ]
  },
  {
   "cell_type": "code",
   "execution_count": 1,
   "metadata": {
    "ExecuteTime": {
     "end_time": "2019-12-19T19:58:21.418000+01:00",
     "start_time": "2019-12-19T18:58:00.028Z"
    }
   },
   "outputs": [
    {
     "name": "stdout",
     "output_type": "stream",
     "text": [
      "##########################################################################################\n",
      "##########################################################################################\n",
      "Starting OptImpute for blunt injuries only\n",
      "##########################################################################################\n",
      "##########################################################################################\n",
      "Loaded X train and test data with time split for blunt\n",
      "Kept only relevant columns\n"
     ]
    },
    {
     "data": {
      "text/plain": [
       "200"
      ]
     },
     "execution_count": 1,
     "metadata": {},
     "output_type": "execute_result"
    }
   ],
   "source": [
    "using Random, CategoricalArrays, DataFrames, DataFramesMeta, StatsBase, CSV\n",
    "println(\"##########################################################################################\")\n",
    "println(\"##########################################################################################\")\n",
    "println(\"Starting OptImpute for blunt injuries only\")\n",
    "println(\"##########################################################################################\")\n",
    "println(\"##########################################################################################\")\n",
    "#data_path = \"../Data/time_split_per_injury_new_morbidity/blunt/\"\n",
    "data_path = \"../Data/time_split_per_injury_new_morbidity/penetrating/\"\n",
    "train_X_time = CSV.read(data_path*\"trauma_X_train_time_penetrating.csv\")\n",
    "test_X_time = CSV.read(data_path*\"trauma_X_test_time_penetrating.csv\")\n",
    "println(\"Loaded X train and test data with time split for blunt\")\n",
    "\n",
    "# Dropped tmode1 and hemorrhage_ctrl_type and severity_max (29/11/2019)\n",
    "names_with_alcohol = [\n",
    "    :age, :alcohol,:gender, :race1, :acslevel, #:tmode1,\n",
    "    :signsoflife, :sbp1, :pulse1, :oxysat1, :temp1, :gcstot1, :bleeding_disorder,\n",
    "    :current_chemotherapy, :congestive_heart_failure, :current_smoker,\n",
    "    :chronic_renal_failure, :history_cva, :diabetes, :disseminated_cancer,\n",
    "    :copd, :steroid, :cirrhosis, :history_MI, :history_pvd, :hypertension_medication,\n",
    "    :method_of_injury, :Face_severity, :Neck_severity, :Thorax_severity, :Abdomen_severity,\n",
    "    :Spine_severity, :Upper_Extremity_severity, :Lower_Extremity_severity, :Pelvis_Perineum_severity, :External_severity,\n",
    "    #:severity_max, #:hemorrhage_ctrl_type\n",
    "]\n",
    "train_X_time = train_X_time[!, names_with_alcohol]\n",
    "test_X_time = test_X_time[!, names_with_alcohol]\n",
    "println(\"Kept only relevant columns\")\n",
    "\n",
    "severity_categorical_var = [\n",
    "    :Face_severity,\n",
    "    :Neck_severity,\n",
    "    :Thorax_severity,\n",
    "    :Abdomen_severity,\n",
    "    :Spine_severity,\n",
    "    :Upper_Extremity_severity,\n",
    "    :Lower_Extremity_severity,\n",
    "    :Pelvis_Perineum_severity,\n",
    "    #:severity_max\n",
    "]\n",
    "#for col_name in severity_categorical_var\n",
    "#    train_X_time[!, col_name] = CategoricalArray(train_X_time[!, col_name], ordered=true)\n",
    "#    test_X_time[!, col_name] = CategoricalArray(test_X_time[!, col_name], ordered=true)\n",
    "#    println(\"Transformed column '\", col_name, \"' to Ordered Categorical\")\n",
    "#end\n",
    "#categorical!(train_X_time)\n",
    "#categorical!(test_X_time)\n",
    "#println(\"Transformed all other non-ordered Categorical Variables\")\n",
    "\n",
    "k_neighbors_blunt = 200"
   ]
  },
  {
   "cell_type": "code",
   "execution_count": 21,
   "metadata": {
    "ExecuteTime": {
     "end_time": "2019-12-15T03:01:17.748000-05:00",
     "start_time": "2019-12-15T08:01:16.936Z"
    }
   },
   "outputs": [
    {
     "name": "stdout",
     "output_type": "stream",
     "text": [
      "Loaded all data with time split\n"
     ]
    }
   ],
   "source": [
    "data_path = \"../Data/time_split_per_injury_new_morbidity/penetrating/\"\n",
    "train_X_time = CSV.read(data_path*\"trauma_X_train_time_penetrating.csv\")\n",
    "test_X_time = CSV.read(data_path*\"trauma_X_test_time_penetrating.csv\")\n",
    "\n",
    "train_y_mortality_time = CSV.read(\n",
    "    data_path*\"trauma_y_train_mortality_time_penetrating.csv\",\n",
    "    header=false\n",
    ")\n",
    "test_y_mortality_time = CSV.read(\n",
    "    data_path*\"trauma_y_test_mortality_time_penetrating.csv\",\n",
    "    header=false\n",
    ")\n",
    "train_y_mortality_time = convert(Matrix, train_y_mortality_time)[:,1]\n",
    "test_y_mortality_time = convert(Matrix, test_y_mortality_time)[:,1]\n",
    "\n",
    "train_y_morbidity_time = CSV.read(\n",
    "    data_path*\"trauma_y_train_morbidity_time_penetrating.csv\",\n",
    "    header=false\n",
    ")\n",
    "test_y_morbidity_time = CSV.read(\n",
    "    data_path*\"trauma_y_test_morbidity_time_penetrating.csv\",\n",
    "    header=false\n",
    ")\n",
    "train_y_morbidity_time = convert(Matrix, train_y_morbidity_time)[:,1]\n",
    "test_y_morbidity_time = convert(Matrix, test_y_morbidity_time)[:,1]\n",
    "println(\"Loaded all data with time split\")"
   ]
  },
  {
   "cell_type": "code",
   "execution_count": 22,
   "metadata": {
    "ExecuteTime": {
     "end_time": "2019-12-15T03:01:18.642000-05:00",
     "start_time": "2019-12-15T08:01:18.625Z"
    }
   },
   "outputs": [
    {
     "name": "stdout",
     "output_type": "stream",
     "text": [
      "Kept only relevant columns\n"
     ]
    },
    {
     "data": {
      "text/plain": [
       "8-element Array{Symbol,1}:\n",
       " :Face_severity           \n",
       " :Neck_severity           \n",
       " :Thorax_severity         \n",
       " :Abdomen_severity        \n",
       " :Spine_severity          \n",
       " :Upper_Extremity_severity\n",
       " :Lower_Extremity_severity\n",
       " :Pelvis_Perineum_severity"
      ]
     },
     "execution_count": 22,
     "metadata": {},
     "output_type": "execute_result"
    }
   ],
   "source": [
    "# Dropped tmode1 and hemorrhage_ctrl_type and severity_max (29/11/2019)\n",
    "names_with_alcohol = [\n",
    "    :age, :alcohol,:gender, :race1, :acslevel, #:tmode1,\n",
    "    :signsoflife, :sbp1, :pulse1, :oxysat1, :temp1, :gcstot1, :bleeding_disorder,\n",
    "    :current_chemotherapy, :congestive_heart_failure, :current_smoker,\n",
    "    :chronic_renal_failure, :history_cva, :diabetes, :disseminated_cancer,\n",
    "    :copd, :steroid, :cirrhosis, :history_MI, :history_pvd, :hypertension_medication,\n",
    "    :method_of_injury, :Face_severity, :Neck_severity, :Thorax_severity, :Abdomen_severity,\n",
    "    :Spine_severity, :Upper_Extremity_severity, :Lower_Extremity_severity, \n",
    "    :Pelvis_Perineum_severity, :External_severity,\n",
    "    #:severity_max, #:hemorrhage_ctrl_type\n",
    "]\n",
    "train_X_time = train_X_time[!, names_with_alcohol]\n",
    "test_X_time = test_X_time[!, names_with_alcohol]\n",
    "println(\"Kept only relevant columns\")\n",
    "\n",
    "severity_categorical_var = [\n",
    "    :Face_severity,\n",
    "    :Neck_severity,\n",
    "    :Thorax_severity,\n",
    "    :Abdomen_severity,\n",
    "    :Spine_severity,\n",
    "    :Upper_Extremity_severity,\n",
    "    :Lower_Extremity_severity,\n",
    "    :Pelvis_Perineum_severity,\n",
    "    #:severity_max\n",
    "]\n",
    "#for col_name in severity_categorical_var\n",
    "#    train_X_time[!, col_name] = CategoricalArray(train_X_time[!, col_name], ordered=true)\n",
    "#    test_X_time[!, col_name] = CategoricalArray(test_X_time[!, col_name], ordered=true)\n",
    "#    println(\"Transformed column '\", col_name, \"' to Ordered Categorical\")\n",
    "#end\n",
    "#categorical!(train_X_time)\n",
    "#categorical!(test_X_time)\n",
    "#println(\"Transformed all other non-ordered Categorical Variables\")"
   ]
  },
  {
   "cell_type": "code",
   "execution_count": 25,
   "metadata": {
    "ExecuteTime": {
     "end_time": "2019-12-15T03:02:29.249000-05:00",
     "start_time": "2019-12-15T08:02:29.019Z"
    },
    "scrolled": true
   },
   "outputs": [
    {
     "data": {
      "text/html": [
       "<table class=\"data-frame\"><thead><tr><th></th><th>age</th><th>alcohol</th><th>gender</th><th>race1</th><th>acslevel</th><th>signsoflife</th><th>sbp1</th><th>pulse1</th><th>oxysat1</th></tr><tr><th></th><th>Float64⍰</th><th>Int64</th><th>Float64⍰</th><th>Int64</th><th>Int64</th><th>Int64</th><th>Float64⍰</th><th>Float64⍰</th><th>Float64⍰</th></tr></thead><tbody><p>400 rows × 35 columns (omitted printing of 26 columns)</p><tr><th>1</th><td>23.0</td><td>1</td><td>1.0</td><td>0</td><td>1</td><td>-1</td><td>145.0</td><td>131.0</td><td>missing</td></tr><tr><th>2</th><td>47.0</td><td>0</td><td>0.0</td><td>1</td><td>-1</td><td>-1</td><td>174.0</td><td>95.0</td><td>100.0</td></tr><tr><th>3</th><td>41.0</td><td>0</td><td>0.0</td><td>1</td><td>1</td><td>-1</td><td>144.0</td><td>124.0</td><td>100.0</td></tr><tr><th>4</th><td>28.0</td><td>1</td><td>0.0</td><td>1</td><td>2</td><td>-1</td><td>114.0</td><td>98.0</td><td>missing</td></tr><tr><th>5</th><td>42.0</td><td>0</td><td>0.0</td><td>1</td><td>1</td><td>-1</td><td>181.0</td><td>106.0</td><td>99.0</td></tr><tr><th>6</th><td>56.0</td><td>-1</td><td>0.0</td><td>1</td><td>2</td><td>-1</td><td>0.0</td><td>0.0</td><td>missing</td></tr><tr><th>7</th><td>20.0</td><td>-1</td><td>0.0</td><td>2</td><td>1</td><td>-1</td><td>110.0</td><td>92.0</td><td>missing</td></tr><tr><th>8</th><td>18.0</td><td>-1</td><td>0.0</td><td>0</td><td>2</td><td>-1</td><td>59.0</td><td>108.0</td><td>92.0</td></tr><tr><th>9</th><td>16.0</td><td>-1</td><td>0.0</td><td>1</td><td>2</td><td>-1</td><td>160.0</td><td>94.0</td><td>99.0</td></tr><tr><th>10</th><td>26.0</td><td>1</td><td>0.0</td><td>1</td><td>1</td><td>-1</td><td>130.0</td><td>78.0</td><td>100.0</td></tr><tr><th>11</th><td>36.0</td><td>1</td><td>0.0</td><td>1</td><td>-1</td><td>-1</td><td>269.0</td><td>98.0</td><td>7.0</td></tr><tr><th>12</th><td>17.0</td><td>-1</td><td>0.0</td><td>1</td><td>-1</td><td>-1</td><td>165.0</td><td>86.0</td><td>97.0</td></tr><tr><th>13</th><td>18.0</td><td>1</td><td>0.0</td><td>1</td><td>1</td><td>-1</td><td>128.0</td><td>78.0</td><td>100.0</td></tr><tr><th>14</th><td>19.0</td><td>0</td><td>1.0</td><td>1</td><td>1</td><td>-1</td><td>143.0</td><td>110.0</td><td>100.0</td></tr><tr><th>15</th><td>26.0</td><td>-1</td><td>1.0</td><td>1</td><td>1</td><td>-1</td><td>92.0</td><td>117.0</td><td>100.0</td></tr><tr><th>16</th><td>33.0</td><td>1</td><td>0.0</td><td>0</td><td>1</td><td>-1</td><td>147.0</td><td>131.0</td><td>100.0</td></tr><tr><th>17</th><td>34.0</td><td>0</td><td>0.0</td><td>2</td><td>1</td><td>-1</td><td>170.0</td><td>116.0</td><td>97.0</td></tr><tr><th>18</th><td>56.0</td><td>0</td><td>1.0</td><td>2</td><td>-1</td><td>-1</td><td>156.0</td><td>98.0</td><td>missing</td></tr><tr><th>19</th><td>55.0</td><td>0</td><td>0.0</td><td>2</td><td>1</td><td>-1</td><td>92.0</td><td>81.0</td><td>100.0</td></tr><tr><th>20</th><td>20.0</td><td>0</td><td>0.0</td><td>2</td><td>1</td><td>-1</td><td>132.0</td><td>104.0</td><td>1.0</td></tr><tr><th>21</th><td>31.0</td><td>0</td><td>0.0</td><td>1</td><td>1</td><td>-1</td><td>150.0</td><td>70.0</td><td>missing</td></tr><tr><th>22</th><td>21.0</td><td>-1</td><td>0.0</td><td>2</td><td>1</td><td>-1</td><td>127.0</td><td>84.0</td><td>99.0</td></tr><tr><th>23</th><td>22.0</td><td>0</td><td>0.0</td><td>0</td><td>2</td><td>-1</td><td>140.0</td><td>missing</td><td>missing</td></tr><tr><th>24</th><td>22.0</td><td>0</td><td>0.0</td><td>1</td><td>1</td><td>-1</td><td>84.0</td><td>130.0</td><td>98.0</td></tr><tr><th>25</th><td>64.0</td><td>0</td><td>0.0</td><td>2</td><td>-1</td><td>-1</td><td>102.0</td><td>108.0</td><td>100.0</td></tr><tr><th>26</th><td>16.0</td><td>-1</td><td>0.0</td><td>1</td><td>1</td><td>-1</td><td>143.0</td><td>69.0</td><td>100.0</td></tr><tr><th>27</th><td>19.0</td><td>1</td><td>0.0</td><td>0</td><td>-1</td><td>-1</td><td>130.0</td><td>85.0</td><td>missing</td></tr><tr><th>28</th><td>16.0</td><td>-1</td><td>0.0</td><td>2</td><td>1</td><td>-1</td><td>132.0</td><td>144.0</td><td>99.0</td></tr><tr><th>29</th><td>36.0</td><td>-1</td><td>0.0</td><td>1</td><td>-1</td><td>-1</td><td>114.0</td><td>113.0</td><td>97.0</td></tr><tr><th>30</th><td>55.0</td><td>0</td><td>1.0</td><td>1</td><td>1</td><td>-1</td><td>153.0</td><td>74.0</td><td>100.0</td></tr><tr><th>&vellip;</th><td>&vellip;</td><td>&vellip;</td><td>&vellip;</td><td>&vellip;</td><td>&vellip;</td><td>&vellip;</td><td>&vellip;</td><td>&vellip;</td><td>&vellip;</td></tr></tbody></table>"
      ],
      "text/latex": [
       "\\begin{tabular}{r|cccccccccc}\n",
       "\t& age & alcohol & gender & race1 & acslevel & signsoflife & sbp1 & pulse1 & oxysat1 & \\\\\n",
       "\t\\hline\n",
       "\t& Float64⍰ & Int64 & Float64⍰ & Int64 & Int64 & Int64 & Float64⍰ & Float64⍰ & Float64⍰ & \\\\\n",
       "\t\\hline\n",
       "\t1 & 23.0 & 1 & 1.0 & 0 & 1 & -1 & 145.0 & 131.0 &  & $\\dots$ \\\\\n",
       "\t2 & 47.0 & 0 & 0.0 & 1 & -1 & -1 & 174.0 & 95.0 & 100.0 & $\\dots$ \\\\\n",
       "\t3 & 41.0 & 0 & 0.0 & 1 & 1 & -1 & 144.0 & 124.0 & 100.0 & $\\dots$ \\\\\n",
       "\t4 & 28.0 & 1 & 0.0 & 1 & 2 & -1 & 114.0 & 98.0 &  & $\\dots$ \\\\\n",
       "\t5 & 42.0 & 0 & 0.0 & 1 & 1 & -1 & 181.0 & 106.0 & 99.0 & $\\dots$ \\\\\n",
       "\t6 & 56.0 & -1 & 0.0 & 1 & 2 & -1 & 0.0 & 0.0 &  & $\\dots$ \\\\\n",
       "\t7 & 20.0 & -1 & 0.0 & 2 & 1 & -1 & 110.0 & 92.0 &  & $\\dots$ \\\\\n",
       "\t8 & 18.0 & -1 & 0.0 & 0 & 2 & -1 & 59.0 & 108.0 & 92.0 & $\\dots$ \\\\\n",
       "\t9 & 16.0 & -1 & 0.0 & 1 & 2 & -1 & 160.0 & 94.0 & 99.0 & $\\dots$ \\\\\n",
       "\t10 & 26.0 & 1 & 0.0 & 1 & 1 & -1 & 130.0 & 78.0 & 100.0 & $\\dots$ \\\\\n",
       "\t11 & 36.0 & 1 & 0.0 & 1 & -1 & -1 & 269.0 & 98.0 & 7.0 & $\\dots$ \\\\\n",
       "\t12 & 17.0 & -1 & 0.0 & 1 & -1 & -1 & 165.0 & 86.0 & 97.0 & $\\dots$ \\\\\n",
       "\t13 & 18.0 & 1 & 0.0 & 1 & 1 & -1 & 128.0 & 78.0 & 100.0 & $\\dots$ \\\\\n",
       "\t14 & 19.0 & 0 & 1.0 & 1 & 1 & -1 & 143.0 & 110.0 & 100.0 & $\\dots$ \\\\\n",
       "\t15 & 26.0 & -1 & 1.0 & 1 & 1 & -1 & 92.0 & 117.0 & 100.0 & $\\dots$ \\\\\n",
       "\t16 & 33.0 & 1 & 0.0 & 0 & 1 & -1 & 147.0 & 131.0 & 100.0 & $\\dots$ \\\\\n",
       "\t17 & 34.0 & 0 & 0.0 & 2 & 1 & -1 & 170.0 & 116.0 & 97.0 & $\\dots$ \\\\\n",
       "\t18 & 56.0 & 0 & 1.0 & 2 & -1 & -1 & 156.0 & 98.0 &  & $\\dots$ \\\\\n",
       "\t19 & 55.0 & 0 & 0.0 & 2 & 1 & -1 & 92.0 & 81.0 & 100.0 & $\\dots$ \\\\\n",
       "\t20 & 20.0 & 0 & 0.0 & 2 & 1 & -1 & 132.0 & 104.0 & 1.0 & $\\dots$ \\\\\n",
       "\t21 & 31.0 & 0 & 0.0 & 1 & 1 & -1 & 150.0 & 70.0 &  & $\\dots$ \\\\\n",
       "\t22 & 21.0 & -1 & 0.0 & 2 & 1 & -1 & 127.0 & 84.0 & 99.0 & $\\dots$ \\\\\n",
       "\t23 & 22.0 & 0 & 0.0 & 0 & 2 & -1 & 140.0 &  &  & $\\dots$ \\\\\n",
       "\t24 & 22.0 & 0 & 0.0 & 1 & 1 & -1 & 84.0 & 130.0 & 98.0 & $\\dots$ \\\\\n",
       "\t25 & 64.0 & 0 & 0.0 & 2 & -1 & -1 & 102.0 & 108.0 & 100.0 & $\\dots$ \\\\\n",
       "\t26 & 16.0 & -1 & 0.0 & 1 & 1 & -1 & 143.0 & 69.0 & 100.0 & $\\dots$ \\\\\n",
       "\t27 & 19.0 & 1 & 0.0 & 0 & -1 & -1 & 130.0 & 85.0 &  & $\\dots$ \\\\\n",
       "\t28 & 16.0 & -1 & 0.0 & 2 & 1 & -1 & 132.0 & 144.0 & 99.0 & $\\dots$ \\\\\n",
       "\t29 & 36.0 & -1 & 0.0 & 1 & -1 & -1 & 114.0 & 113.0 & 97.0 & $\\dots$ \\\\\n",
       "\t30 & 55.0 & 0 & 1.0 & 1 & 1 & -1 & 153.0 & 74.0 & 100.0 & $\\dots$ \\\\\n",
       "\t$\\dots$ & $\\dots$ & $\\dots$ & $\\dots$ & $\\dots$ & $\\dots$ & $\\dots$ & $\\dots$ & $\\dots$ & $\\dots$ &  \\\\\n",
       "\\end{tabular}\n"
      ],
      "text/plain": [
       "400×35 DataFrame. Omitted printing of 29 columns\n",
       "│ Row │ age      │ alcohol │ gender   │ race1 │ acslevel │ signsoflife │\n",
       "│     │ \u001b[90mFloat64⍰\u001b[39m │ \u001b[90mInt64\u001b[39m   │ \u001b[90mFloat64⍰\u001b[39m │ \u001b[90mInt64\u001b[39m │ \u001b[90mInt64\u001b[39m    │ \u001b[90mInt64\u001b[39m       │\n",
       "├─────┼──────────┼─────────┼──────────┼───────┼──────────┼─────────────┤\n",
       "│ 1   │ 23.0     │ 1       │ 1.0      │ 0     │ 1        │ -1          │\n",
       "│ 2   │ 47.0     │ 0       │ 0.0      │ 1     │ -1       │ -1          │\n",
       "│ 3   │ 41.0     │ 0       │ 0.0      │ 1     │ 1        │ -1          │\n",
       "│ 4   │ 28.0     │ 1       │ 0.0      │ 1     │ 2        │ -1          │\n",
       "│ 5   │ 42.0     │ 0       │ 0.0      │ 1     │ 1        │ -1          │\n",
       "│ 6   │ 56.0     │ -1      │ 0.0      │ 1     │ 2        │ -1          │\n",
       "│ 7   │ 20.0     │ -1      │ 0.0      │ 2     │ 1        │ -1          │\n",
       "│ 8   │ 18.0     │ -1      │ 0.0      │ 0     │ 2        │ -1          │\n",
       "│ 9   │ 16.0     │ -1      │ 0.0      │ 1     │ 2        │ -1          │\n",
       "│ 10  │ 26.0     │ 1       │ 0.0      │ 1     │ 1        │ -1          │\n",
       "⋮\n",
       "│ 390 │ 23.0     │ 0       │ 0.0      │ 1     │ -1       │ -1          │\n",
       "│ 391 │ 62.0     │ -1      │ 0.0      │ 2     │ 1        │ -1          │\n",
       "│ 392 │ 22.0     │ 0       │ 1.0      │ 2     │ 1        │ -1          │\n",
       "│ 393 │ 28.0     │ -1      │ 0.0      │ 2     │ -1       │ -1          │\n",
       "│ 394 │ 16.0     │ -1      │ 0.0      │ 1     │ -1       │ -1          │\n",
       "│ 395 │ 50.0     │ -1      │ 0.0      │ 0     │ 1        │ -1          │\n",
       "│ 396 │ 19.0     │ 0       │ 0.0      │ 1     │ -1       │ -1          │\n",
       "│ 397 │ 22.0     │ -1      │ 0.0      │ 1     │ 1        │ -1          │\n",
       "│ 398 │ 67.0     │ -1      │ 0.0      │ 1     │ 2        │ -1          │\n",
       "│ 399 │ 16.0     │ -1      │ 0.0      │ 0     │ 1        │ -1          │\n",
       "│ 400 │ 58.0     │ 0       │ 0.0      │ 1     │ 1        │ -1          │"
      ]
     },
     "execution_count": 25,
     "metadata": {},
     "output_type": "execute_result"
    }
   ],
   "source": [
    "train_X_time_subset = train_X_time[1:400, :]"
   ]
  },
  {
   "cell_type": "code",
   "execution_count": 26,
   "metadata": {
    "ExecuteTime": {
     "end_time": "2019-12-15T03:02:54.896000-05:00",
     "start_time": "2019-12-15T08:02:47.968Z"
    },
    "scrolled": true
   },
   "outputs": [
    {
     "data": {
      "text/html": [
       "<table class=\"data-frame\"><thead><tr><th></th><th>age</th><th>alcohol</th><th>gender</th><th>race1</th><th>acslevel</th><th>signsoflife</th><th>sbp1</th><th>pulse1</th></tr><tr><th></th><th>Float64⍰</th><th>Float64⍰</th><th>Float64⍰</th><th>Float64⍰</th><th>Float64⍰</th><th>Float64⍰</th><th>Float64⍰</th><th>Float64⍰</th></tr></thead><tbody><p>400 rows × 35 columns (omitted printing of 27 columns)</p><tr><th>1</th><td>23.0</td><td>1.0</td><td>1.0</td><td>0.0</td><td>1.0</td><td>-1.0</td><td>145.0</td><td>131.0</td></tr><tr><th>2</th><td>47.0</td><td>0.0</td><td>0.0</td><td>1.0</td><td>-1.0</td><td>-1.0</td><td>174.0</td><td>95.0</td></tr><tr><th>3</th><td>41.0</td><td>0.0</td><td>0.0</td><td>1.0</td><td>1.0</td><td>-1.0</td><td>144.0</td><td>124.0</td></tr><tr><th>4</th><td>28.0</td><td>1.0</td><td>0.0</td><td>1.0</td><td>2.0</td><td>-1.0</td><td>114.0</td><td>98.0</td></tr><tr><th>5</th><td>42.0</td><td>0.0</td><td>0.0</td><td>1.0</td><td>1.0</td><td>-1.0</td><td>181.0</td><td>106.0</td></tr><tr><th>6</th><td>56.0</td><td>-1.0</td><td>0.0</td><td>1.0</td><td>2.0</td><td>-1.0</td><td>0.0</td><td>0.0</td></tr><tr><th>7</th><td>20.0</td><td>-1.0</td><td>0.0</td><td>2.0</td><td>1.0</td><td>-1.0</td><td>110.0</td><td>92.0</td></tr><tr><th>8</th><td>18.0</td><td>-1.0</td><td>0.0</td><td>0.0</td><td>2.0</td><td>-1.0</td><td>59.0</td><td>108.0</td></tr><tr><th>9</th><td>16.0</td><td>-1.0</td><td>0.0</td><td>1.0</td><td>2.0</td><td>-1.0</td><td>160.0</td><td>94.0</td></tr><tr><th>10</th><td>26.0</td><td>1.0</td><td>0.0</td><td>1.0</td><td>1.0</td><td>-1.0</td><td>130.0</td><td>78.0</td></tr><tr><th>11</th><td>36.0</td><td>1.0</td><td>0.0</td><td>1.0</td><td>-1.0</td><td>-1.0</td><td>269.0</td><td>98.0</td></tr><tr><th>12</th><td>17.0</td><td>-1.0</td><td>0.0</td><td>1.0</td><td>-1.0</td><td>-1.0</td><td>165.0</td><td>86.0</td></tr><tr><th>13</th><td>18.0</td><td>1.0</td><td>0.0</td><td>1.0</td><td>1.0</td><td>-1.0</td><td>128.0</td><td>78.0</td></tr><tr><th>14</th><td>19.0</td><td>0.0</td><td>1.0</td><td>1.0</td><td>1.0</td><td>-1.0</td><td>143.0</td><td>110.0</td></tr><tr><th>15</th><td>26.0</td><td>-1.0</td><td>1.0</td><td>1.0</td><td>1.0</td><td>-1.0</td><td>92.0</td><td>117.0</td></tr><tr><th>16</th><td>33.0</td><td>1.0</td><td>0.0</td><td>0.0</td><td>1.0</td><td>-1.0</td><td>147.0</td><td>131.0</td></tr><tr><th>17</th><td>34.0</td><td>0.0</td><td>0.0</td><td>2.0</td><td>1.0</td><td>-1.0</td><td>170.0</td><td>116.0</td></tr><tr><th>18</th><td>56.0</td><td>0.0</td><td>1.0</td><td>2.0</td><td>-1.0</td><td>-1.0</td><td>156.0</td><td>98.0</td></tr><tr><th>19</th><td>55.0</td><td>0.0</td><td>0.0</td><td>2.0</td><td>1.0</td><td>-1.0</td><td>92.0</td><td>81.0</td></tr><tr><th>20</th><td>20.0</td><td>0.0</td><td>0.0</td><td>2.0</td><td>1.0</td><td>-1.0</td><td>132.0</td><td>104.0</td></tr><tr><th>21</th><td>31.0</td><td>0.0</td><td>0.0</td><td>1.0</td><td>1.0</td><td>-1.0</td><td>150.0</td><td>70.0</td></tr><tr><th>22</th><td>21.0</td><td>-1.0</td><td>0.0</td><td>2.0</td><td>1.0</td><td>-1.0</td><td>127.0</td><td>84.0</td></tr><tr><th>23</th><td>22.0</td><td>0.0</td><td>0.0</td><td>0.0</td><td>2.0</td><td>-1.0</td><td>140.0</td><td>94.3563</td></tr><tr><th>24</th><td>22.0</td><td>0.0</td><td>0.0</td><td>1.0</td><td>1.0</td><td>-1.0</td><td>84.0</td><td>130.0</td></tr><tr><th>25</th><td>64.0</td><td>0.0</td><td>0.0</td><td>2.0</td><td>-1.0</td><td>-1.0</td><td>102.0</td><td>108.0</td></tr><tr><th>26</th><td>16.0</td><td>-1.0</td><td>0.0</td><td>1.0</td><td>1.0</td><td>-1.0</td><td>143.0</td><td>69.0</td></tr><tr><th>27</th><td>19.0</td><td>1.0</td><td>0.0</td><td>0.0</td><td>-1.0</td><td>-1.0</td><td>130.0</td><td>85.0</td></tr><tr><th>28</th><td>16.0</td><td>-1.0</td><td>0.0</td><td>2.0</td><td>1.0</td><td>-1.0</td><td>132.0</td><td>144.0</td></tr><tr><th>29</th><td>36.0</td><td>-1.0</td><td>0.0</td><td>1.0</td><td>-1.0</td><td>-1.0</td><td>114.0</td><td>113.0</td></tr><tr><th>30</th><td>55.0</td><td>0.0</td><td>1.0</td><td>1.0</td><td>1.0</td><td>-1.0</td><td>153.0</td><td>74.0</td></tr><tr><th>&vellip;</th><td>&vellip;</td><td>&vellip;</td><td>&vellip;</td><td>&vellip;</td><td>&vellip;</td><td>&vellip;</td><td>&vellip;</td><td>&vellip;</td></tr></tbody></table>"
      ],
      "text/latex": [
       "\\begin{tabular}{r|ccccccccc}\n",
       "\t& age & alcohol & gender & race1 & acslevel & signsoflife & sbp1 & pulse1 & \\\\\n",
       "\t\\hline\n",
       "\t& Float64⍰ & Float64⍰ & Float64⍰ & Float64⍰ & Float64⍰ & Float64⍰ & Float64⍰ & Float64⍰ & \\\\\n",
       "\t\\hline\n",
       "\t1 & 23.0 & 1.0 & 1.0 & 0.0 & 1.0 & -1.0 & 145.0 & 131.0 & $\\dots$ \\\\\n",
       "\t2 & 47.0 & 0.0 & 0.0 & 1.0 & -1.0 & -1.0 & 174.0 & 95.0 & $\\dots$ \\\\\n",
       "\t3 & 41.0 & 0.0 & 0.0 & 1.0 & 1.0 & -1.0 & 144.0 & 124.0 & $\\dots$ \\\\\n",
       "\t4 & 28.0 & 1.0 & 0.0 & 1.0 & 2.0 & -1.0 & 114.0 & 98.0 & $\\dots$ \\\\\n",
       "\t5 & 42.0 & 0.0 & 0.0 & 1.0 & 1.0 & -1.0 & 181.0 & 106.0 & $\\dots$ \\\\\n",
       "\t6 & 56.0 & -1.0 & 0.0 & 1.0 & 2.0 & -1.0 & 0.0 & 0.0 & $\\dots$ \\\\\n",
       "\t7 & 20.0 & -1.0 & 0.0 & 2.0 & 1.0 & -1.0 & 110.0 & 92.0 & $\\dots$ \\\\\n",
       "\t8 & 18.0 & -1.0 & 0.0 & 0.0 & 2.0 & -1.0 & 59.0 & 108.0 & $\\dots$ \\\\\n",
       "\t9 & 16.0 & -1.0 & 0.0 & 1.0 & 2.0 & -1.0 & 160.0 & 94.0 & $\\dots$ \\\\\n",
       "\t10 & 26.0 & 1.0 & 0.0 & 1.0 & 1.0 & -1.0 & 130.0 & 78.0 & $\\dots$ \\\\\n",
       "\t11 & 36.0 & 1.0 & 0.0 & 1.0 & -1.0 & -1.0 & 269.0 & 98.0 & $\\dots$ \\\\\n",
       "\t12 & 17.0 & -1.0 & 0.0 & 1.0 & -1.0 & -1.0 & 165.0 & 86.0 & $\\dots$ \\\\\n",
       "\t13 & 18.0 & 1.0 & 0.0 & 1.0 & 1.0 & -1.0 & 128.0 & 78.0 & $\\dots$ \\\\\n",
       "\t14 & 19.0 & 0.0 & 1.0 & 1.0 & 1.0 & -1.0 & 143.0 & 110.0 & $\\dots$ \\\\\n",
       "\t15 & 26.0 & -1.0 & 1.0 & 1.0 & 1.0 & -1.0 & 92.0 & 117.0 & $\\dots$ \\\\\n",
       "\t16 & 33.0 & 1.0 & 0.0 & 0.0 & 1.0 & -1.0 & 147.0 & 131.0 & $\\dots$ \\\\\n",
       "\t17 & 34.0 & 0.0 & 0.0 & 2.0 & 1.0 & -1.0 & 170.0 & 116.0 & $\\dots$ \\\\\n",
       "\t18 & 56.0 & 0.0 & 1.0 & 2.0 & -1.0 & -1.0 & 156.0 & 98.0 & $\\dots$ \\\\\n",
       "\t19 & 55.0 & 0.0 & 0.0 & 2.0 & 1.0 & -1.0 & 92.0 & 81.0 & $\\dots$ \\\\\n",
       "\t20 & 20.0 & 0.0 & 0.0 & 2.0 & 1.0 & -1.0 & 132.0 & 104.0 & $\\dots$ \\\\\n",
       "\t21 & 31.0 & 0.0 & 0.0 & 1.0 & 1.0 & -1.0 & 150.0 & 70.0 & $\\dots$ \\\\\n",
       "\t22 & 21.0 & -1.0 & 0.0 & 2.0 & 1.0 & -1.0 & 127.0 & 84.0 & $\\dots$ \\\\\n",
       "\t23 & 22.0 & 0.0 & 0.0 & 0.0 & 2.0 & -1.0 & 140.0 & 94.3563 & $\\dots$ \\\\\n",
       "\t24 & 22.0 & 0.0 & 0.0 & 1.0 & 1.0 & -1.0 & 84.0 & 130.0 & $\\dots$ \\\\\n",
       "\t25 & 64.0 & 0.0 & 0.0 & 2.0 & -1.0 & -1.0 & 102.0 & 108.0 & $\\dots$ \\\\\n",
       "\t26 & 16.0 & -1.0 & 0.0 & 1.0 & 1.0 & -1.0 & 143.0 & 69.0 & $\\dots$ \\\\\n",
       "\t27 & 19.0 & 1.0 & 0.0 & 0.0 & -1.0 & -1.0 & 130.0 & 85.0 & $\\dots$ \\\\\n",
       "\t28 & 16.0 & -1.0 & 0.0 & 2.0 & 1.0 & -1.0 & 132.0 & 144.0 & $\\dots$ \\\\\n",
       "\t29 & 36.0 & -1.0 & 0.0 & 1.0 & -1.0 & -1.0 & 114.0 & 113.0 & $\\dots$ \\\\\n",
       "\t30 & 55.0 & 0.0 & 1.0 & 1.0 & 1.0 & -1.0 & 153.0 & 74.0 & $\\dots$ \\\\\n",
       "\t$\\dots$ & $\\dots$ & $\\dots$ & $\\dots$ & $\\dots$ & $\\dots$ & $\\dots$ & $\\dots$ & $\\dots$ &  \\\\\n",
       "\\end{tabular}\n"
      ],
      "text/plain": [
       "400×35 DataFrame. Omitted printing of 29 columns\n",
       "│ Row │ age      │ alcohol  │ gender   │ race1    │ acslevel │ signsoflife │\n",
       "│     │ \u001b[90mFloat64⍰\u001b[39m │ \u001b[90mFloat64⍰\u001b[39m │ \u001b[90mFloat64⍰\u001b[39m │ \u001b[90mFloat64⍰\u001b[39m │ \u001b[90mFloat64⍰\u001b[39m │ \u001b[90mFloat64⍰\u001b[39m    │\n",
       "├─────┼──────────┼──────────┼──────────┼──────────┼──────────┼─────────────┤\n",
       "│ 1   │ 23.0     │ 1.0      │ 1.0      │ 0.0      │ 1.0      │ -1.0        │\n",
       "│ 2   │ 47.0     │ 0.0      │ 0.0      │ 1.0      │ -1.0     │ -1.0        │\n",
       "│ 3   │ 41.0     │ 0.0      │ 0.0      │ 1.0      │ 1.0      │ -1.0        │\n",
       "│ 4   │ 28.0     │ 1.0      │ 0.0      │ 1.0      │ 2.0      │ -1.0        │\n",
       "│ 5   │ 42.0     │ 0.0      │ 0.0      │ 1.0      │ 1.0      │ -1.0        │\n",
       "│ 6   │ 56.0     │ -1.0     │ 0.0      │ 1.0      │ 2.0      │ -1.0        │\n",
       "│ 7   │ 20.0     │ -1.0     │ 0.0      │ 2.0      │ 1.0      │ -1.0        │\n",
       "│ 8   │ 18.0     │ -1.0     │ 0.0      │ 0.0      │ 2.0      │ -1.0        │\n",
       "│ 9   │ 16.0     │ -1.0     │ 0.0      │ 1.0      │ 2.0      │ -1.0        │\n",
       "│ 10  │ 26.0     │ 1.0      │ 0.0      │ 1.0      │ 1.0      │ -1.0        │\n",
       "⋮\n",
       "│ 390 │ 23.0     │ 0.0      │ 0.0      │ 1.0      │ -1.0     │ -1.0        │\n",
       "│ 391 │ 62.0     │ -1.0     │ 0.0      │ 2.0      │ 1.0      │ -1.0        │\n",
       "│ 392 │ 22.0     │ 0.0      │ 1.0      │ 2.0      │ 1.0      │ -1.0        │\n",
       "│ 393 │ 28.0     │ -1.0     │ 0.0      │ 2.0      │ -1.0     │ -1.0        │\n",
       "│ 394 │ 16.0     │ -1.0     │ 0.0      │ 1.0      │ -1.0     │ -1.0        │\n",
       "│ 395 │ 50.0     │ -1.0     │ 0.0      │ 0.0      │ 1.0      │ -1.0        │\n",
       "│ 396 │ 19.0     │ 0.0      │ 0.0      │ 1.0      │ -1.0     │ -1.0        │\n",
       "│ 397 │ 22.0     │ -1.0     │ 0.0      │ 1.0      │ 1.0      │ -1.0        │\n",
       "│ 398 │ 67.0     │ -1.0     │ 0.0      │ 1.0      │ 2.0      │ -1.0        │\n",
       "│ 399 │ 16.0     │ -1.0     │ 0.0      │ 0.0      │ 1.0      │ -1.0        │\n",
       "│ 400 │ 58.0     │ 0.0      │ 0.0      │ 1.0      │ 1.0      │ -1.0        │"
      ]
     },
     "execution_count": 26,
     "metadata": {},
     "output_type": "execute_result"
    }
   ],
   "source": [
    "k_neighbors_penetrating = 100\n",
    "# Fitting OptImpute on train set\n",
    "lnr_optimpute_train = IAI.ImputationLearner(method=:opt_knn, knn_k=k_neighbors_penetrating)\n",
    "IAI.fit!(lnr_optimpute_train, train_X_time)\n",
    "train_X_time = IAI.transform(lnr_optimpute_train, train_X_time)"
   ]
  },
  {
   "cell_type": "code",
   "execution_count": 29,
   "metadata": {
    "ExecuteTime": {
     "end_time": "2019-12-15T03:04:58.446000-05:00",
     "start_time": "2019-12-15T08:04:55.430Z"
    }
   },
   "outputs": [
    {
     "data": {
      "text/plain": [
       "\"./train_X_time_subset.csv\""
      ]
     },
     "execution_count": 29,
     "metadata": {},
     "output_type": "execute_result"
    }
   ],
   "source": [
    "CSV.write(\"./train_X_time_subset.csv\",train_X_time_subset)"
   ]
  },
  {
   "cell_type": "code",
   "execution_count": null,
   "metadata": {},
   "outputs": [],
   "source": [
    "# Fitting OptImpute on test set:\n",
    "lnr_optimpute_test = IAI.ImputationLearner(method=:opt_knn, knn_k=k_neighbors_penetrating, cluster=false)\n",
    "IAI.fit!(lnr_optimpute_test, test_X_time)\n",
    "test_X_time = IAI.transform(lnr_optimpute_test, test_X_time)"
   ]
  },
  {
   "cell_type": "code",
   "execution_count": null,
   "metadata": {},
   "outputs": [],
   "source": [
    "lnr_optimpute_test = IAI.ImputationLearner(method=:opt_knn, knn_k=k_neighbors_penetrating)\n",
    "IAI.fit!(lnr_optimpute_test, test_X_time)\n",
    "test_X_time = IAI.transform(lnr_optimpute_test, test_X_time)"
   ]
  },
  {
   "cell_type": "code",
   "execution_count": null,
   "metadata": {},
   "outputs": [],
   "source": []
  },
  {
   "cell_type": "code",
   "execution_count": null,
   "metadata": {},
   "outputs": [],
   "source": []
  },
  {
   "cell_type": "code",
   "execution_count": null,
   "metadata": {},
   "outputs": [],
   "source": []
  },
  {
   "cell_type": "code",
   "execution_count": null,
   "metadata": {},
   "outputs": [],
   "source": []
  }
 ],
 "metadata": {
  "kernelspec": {
   "display_name": "Julia 1.0.5",
   "language": "julia",
   "name": "julia-1.0"
  },
  "language_info": {
   "file_extension": ".jl",
   "mimetype": "application/julia",
   "name": "julia",
   "version": "1.0.5"
  },
  "latex_envs": {
   "LaTeX_envs_menu_present": true,
   "autoclose": false,
   "autocomplete": true,
   "bibliofile": "biblio.bib",
   "cite_by": "apalike",
   "current_citInitial": 1,
   "eqLabelWithNumbers": true,
   "eqNumInitial": 1,
   "hotkeys": {
    "equation": "Ctrl-E",
    "itemize": "Ctrl-I"
   },
   "labels_anchors": false,
   "latex_user_defs": false,
   "report_style_numbering": false,
   "user_envs_cfg": false
  },
  "toc": {
   "base_numbering": 1,
   "nav_menu": {},
   "number_sections": true,
   "sideBar": true,
   "skip_h1_title": false,
   "title_cell": "Table of Contents",
   "title_sidebar": "Contents",
   "toc_cell": false,
   "toc_position": {},
   "toc_section_display": true,
   "toc_window_display": false
  }
 },
 "nbformat": 4,
 "nbformat_minor": 2
}
