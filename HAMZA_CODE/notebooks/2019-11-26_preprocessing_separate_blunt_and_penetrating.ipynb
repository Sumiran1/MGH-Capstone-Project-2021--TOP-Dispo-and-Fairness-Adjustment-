{
 "cells": [
  {
   "cell_type": "code",
   "execution_count": 2,
   "metadata": {
    "ExecuteTime": {
     "end_time": "2020-01-10T00:44:05.375834Z",
     "start_time": "2020-01-10T00:44:01.461064Z"
    }
   },
   "outputs": [],
   "source": [
    "import os\n",
    "import pandas as pd\n",
    "import numpy as np\n",
    "from sklearn.model_selection import train_test_split"
   ]
  },
  {
   "cell_type": "markdown",
   "metadata": {},
   "source": [
    "# Creating train/test data for blunt/penetrating before Imputation"
   ]
  },
  {
   "cell_type": "code",
   "execution_count": 153,
   "metadata": {
    "ExecuteTime": {
     "end_time": "2020-01-04T13:36:32.119449Z",
     "start_time": "2020-01-04T13:36:12.997831Z"
    }
   },
   "outputs": [
    {
     "data": {
      "text/html": [
       "<div>\n",
       "<style scoped>\n",
       "    .dataframe tbody tr th:only-of-type {\n",
       "        vertical-align: middle;\n",
       "    }\n",
       "\n",
       "    .dataframe tbody tr th {\n",
       "        vertical-align: top;\n",
       "    }\n",
       "\n",
       "    .dataframe thead th {\n",
       "        text-align: right;\n",
       "    }\n",
       "</style>\n",
       "<table border=\"1\" class=\"dataframe\">\n",
       "  <thead>\n",
       "    <tr style=\"text-align: right;\">\n",
       "      <th></th>\n",
       "      <th>complkey1</th>\n",
       "      <th>complkey2</th>\n",
       "      <th>complkey3</th>\n",
       "      <th>complkey4</th>\n",
       "      <th>complkey5</th>\n",
       "      <th>complkey6</th>\n",
       "      <th>complkey7</th>\n",
       "      <th>complkey8</th>\n",
       "      <th>complkey9</th>\n",
       "      <th>complkey10</th>\n",
       "      <th>...</th>\n",
       "      <th>Neck_severity</th>\n",
       "      <th>Head_severity</th>\n",
       "      <th>Thorax_severity</th>\n",
       "      <th>Abdomen_severity</th>\n",
       "      <th>Spine_severity</th>\n",
       "      <th>Upper_Extremity_severity</th>\n",
       "      <th>Lower_Extremity_severity</th>\n",
       "      <th>Pelvis_Perineum_severity</th>\n",
       "      <th>External_severity</th>\n",
       "      <th>severity_max</th>\n",
       "    </tr>\n",
       "  </thead>\n",
       "  <tbody>\n",
       "    <tr>\n",
       "      <th>0</th>\n",
       "      <td>1.0</td>\n",
       "      <td>NaN</td>\n",
       "      <td>NaN</td>\n",
       "      <td>NaN</td>\n",
       "      <td>NaN</td>\n",
       "      <td>NaN</td>\n",
       "      <td>NaN</td>\n",
       "      <td>NaN</td>\n",
       "      <td>NaN</td>\n",
       "      <td>NaN</td>\n",
       "      <td>...</td>\n",
       "      <td>NaN</td>\n",
       "      <td>NaN</td>\n",
       "      <td>NaN</td>\n",
       "      <td>NaN</td>\n",
       "      <td>NaN</td>\n",
       "      <td>NaN</td>\n",
       "      <td>NaN</td>\n",
       "      <td>NaN</td>\n",
       "      <td>NaN</td>\n",
       "      <td>NaN</td>\n",
       "    </tr>\n",
       "    <tr>\n",
       "      <th>1</th>\n",
       "      <td>1.0</td>\n",
       "      <td>NaN</td>\n",
       "      <td>NaN</td>\n",
       "      <td>NaN</td>\n",
       "      <td>NaN</td>\n",
       "      <td>NaN</td>\n",
       "      <td>NaN</td>\n",
       "      <td>NaN</td>\n",
       "      <td>NaN</td>\n",
       "      <td>NaN</td>\n",
       "      <td>...</td>\n",
       "      <td>NaN</td>\n",
       "      <td>NaN</td>\n",
       "      <td>2.0</td>\n",
       "      <td>NaN</td>\n",
       "      <td>NaN</td>\n",
       "      <td>NaN</td>\n",
       "      <td>NaN</td>\n",
       "      <td>NaN</td>\n",
       "      <td>NaN</td>\n",
       "      <td>2.0</td>\n",
       "    </tr>\n",
       "    <tr>\n",
       "      <th>2</th>\n",
       "      <td>NaN</td>\n",
       "      <td>NaN</td>\n",
       "      <td>NaN</td>\n",
       "      <td>NaN</td>\n",
       "      <td>NaN</td>\n",
       "      <td>NaN</td>\n",
       "      <td>NaN</td>\n",
       "      <td>NaN</td>\n",
       "      <td>NaN</td>\n",
       "      <td>NaN</td>\n",
       "      <td>...</td>\n",
       "      <td>NaN</td>\n",
       "      <td>NaN</td>\n",
       "      <td>NaN</td>\n",
       "      <td>2.0</td>\n",
       "      <td>NaN</td>\n",
       "      <td>NaN</td>\n",
       "      <td>NaN</td>\n",
       "      <td>NaN</td>\n",
       "      <td>NaN</td>\n",
       "      <td>2.0</td>\n",
       "    </tr>\n",
       "    <tr>\n",
       "      <th>3</th>\n",
       "      <td>NaN</td>\n",
       "      <td>NaN</td>\n",
       "      <td>NaN</td>\n",
       "      <td>NaN</td>\n",
       "      <td>NaN</td>\n",
       "      <td>NaN</td>\n",
       "      <td>NaN</td>\n",
       "      <td>NaN</td>\n",
       "      <td>NaN</td>\n",
       "      <td>NaN</td>\n",
       "      <td>...</td>\n",
       "      <td>NaN</td>\n",
       "      <td>NaN</td>\n",
       "      <td>NaN</td>\n",
       "      <td>NaN</td>\n",
       "      <td>NaN</td>\n",
       "      <td>1.0</td>\n",
       "      <td>NaN</td>\n",
       "      <td>NaN</td>\n",
       "      <td>NaN</td>\n",
       "      <td>1.0</td>\n",
       "    </tr>\n",
       "    <tr>\n",
       "      <th>4</th>\n",
       "      <td>1.0</td>\n",
       "      <td>NaN</td>\n",
       "      <td>NaN</td>\n",
       "      <td>NaN</td>\n",
       "      <td>NaN</td>\n",
       "      <td>NaN</td>\n",
       "      <td>NaN</td>\n",
       "      <td>NaN</td>\n",
       "      <td>NaN</td>\n",
       "      <td>NaN</td>\n",
       "      <td>...</td>\n",
       "      <td>NaN</td>\n",
       "      <td>NaN</td>\n",
       "      <td>NaN</td>\n",
       "      <td>NaN</td>\n",
       "      <td>NaN</td>\n",
       "      <td>NaN</td>\n",
       "      <td>NaN</td>\n",
       "      <td>NaN</td>\n",
       "      <td>NaN</td>\n",
       "      <td>NaN</td>\n",
       "    </tr>\n",
       "  </tbody>\n",
       "</table>\n",
       "<p>5 rows × 174 columns</p>\n",
       "</div>"
      ],
      "text/plain": [
       "   complkey1  complkey2  complkey3  complkey4  complkey5  complkey6  \\\n",
       "0        1.0        NaN        NaN        NaN        NaN        NaN   \n",
       "1        1.0        NaN        NaN        NaN        NaN        NaN   \n",
       "2        NaN        NaN        NaN        NaN        NaN        NaN   \n",
       "3        NaN        NaN        NaN        NaN        NaN        NaN   \n",
       "4        1.0        NaN        NaN        NaN        NaN        NaN   \n",
       "\n",
       "   complkey7  complkey8  complkey9  complkey10  ...  Neck_severity  \\\n",
       "0        NaN        NaN        NaN         NaN  ...            NaN   \n",
       "1        NaN        NaN        NaN         NaN  ...            NaN   \n",
       "2        NaN        NaN        NaN         NaN  ...            NaN   \n",
       "3        NaN        NaN        NaN         NaN  ...            NaN   \n",
       "4        NaN        NaN        NaN         NaN  ...            NaN   \n",
       "\n",
       "   Head_severity  Thorax_severity  Abdomen_severity  Spine_severity  \\\n",
       "0            NaN              NaN               NaN             NaN   \n",
       "1            NaN              2.0               NaN             NaN   \n",
       "2            NaN              NaN               2.0             NaN   \n",
       "3            NaN              NaN               NaN             NaN   \n",
       "4            NaN              NaN               NaN             NaN   \n",
       "\n",
       "   Upper_Extremity_severity  Lower_Extremity_severity  \\\n",
       "0                       NaN                       NaN   \n",
       "1                       NaN                       NaN   \n",
       "2                       NaN                       NaN   \n",
       "3                       1.0                       NaN   \n",
       "4                       NaN                       NaN   \n",
       "\n",
       "   Pelvis_Perineum_severity  External_severity  severity_max  \n",
       "0                       NaN                NaN           NaN  \n",
       "1                       NaN                NaN           2.0  \n",
       "2                       NaN                NaN           2.0  \n",
       "3                       NaN                NaN           1.0  \n",
       "4                       NaN                NaN           NaN  \n",
       "\n",
       "[5 rows x 174 columns]"
      ]
     },
     "execution_count": 153,
     "metadata": {},
     "output_type": "execute_result"
    }
   ],
   "source": [
    "df = pd.read_csv(\"../Data/trauma_data_preprocessed.csv\")\n",
    "df.head()"
   ]
  },
  {
   "cell_type": "code",
   "execution_count": 154,
   "metadata": {
    "ExecuteTime": {
     "end_time": "2020-01-04T13:36:36.309989Z",
     "start_time": "2020-01-04T13:36:32.123652Z"
    }
   },
   "outputs": [
    {
     "name": "stdout",
     "output_type": "stream",
     "text": [
      "0.8914840906114967\n",
      "0.09502579546942516\n"
     ]
    }
   ],
   "source": [
    "blunt_injury = ['Blunt - MVT occupant', 'Blunt - Fall', 'Blunt - MVT motorcyclist', 'Blunt - Other',\n",
    "               'Blunt - MVT Pedal cyclist/pedestrian']\n",
    "penetrating_injury = ['Penetrating - Gunshot Wound', 'Penetrating - Stab Wound', 'Penetrating - Other/Mixed']\n",
    "df_blunt = df[df.method_of_injury.isin(blunt_injury)].reset_index(drop=True)\n",
    "df_penetrating = df[df.method_of_injury.isin(penetrating_injury)].reset_index(drop=True)\n",
    "print(len(df_blunt)/len(df))\n",
    "print(len(df_penetrating)/len(df))"
   ]
  },
  {
   "cell_type": "code",
   "execution_count": 155,
   "metadata": {
    "ExecuteTime": {
     "end_time": "2020-01-04T13:36:36.324454Z",
     "start_time": "2020-01-04T13:36:36.314154Z"
    }
   },
   "outputs": [],
   "source": [
    "# These columns will have to be remapped the other way around when OptImpute has been performed\n",
    "str_columns_to_map = [\"gender\", \"race1\", \"acslevel\", \"signsoflife\", \n",
    "                      \"alcohol\", \"method_of_injury\"]\n",
    "# Ordered:\n",
    "mapping_acslevel = {\"I\": 1, \"II\":2, \"III\":3, \"Unknown\":-1}\n",
    "\n",
    "#Non-ordered\n",
    "mapping_gender = {\"Female\":1, \"Male\":0}\n",
    "mapping_race1 = {'Other Race': 0, 'Black or African American':1, 'White':2, 'American Indian':3,\n",
    "               'Native Hawaiian or Other Pacific Islander':4, 'Asian': 5}\n",
    "mapping_signsoflife = {'Unknown':-1, 'Arrived with signs of life': 1, 'Arrived with NO signs of life':0}\n",
    "mapping_alcohol = {\"Alcohol\": 1, \"Residual/no alcohol\": 0, \"Unknown\":-1}\n",
    "mapping_method_of_injury_penetrating = {'Penetrating - Stab Wound': 1, 'Penetrating - Gunshot Wound': 2,\n",
    "                                       'Penetrating - Other/Mixed':3}\n",
    "mapping_method_of_injury_blunt = {'Blunt - MVT occupant':1, 'Blunt - Fall':2, 'Blunt - MVT motorcyclist':3,\n",
    " 'Blunt - Other':4, 'Blunt - MVT Pedal cyclist/pedestrian':5}"
   ]
  },
  {
   "cell_type": "code",
   "execution_count": 156,
   "metadata": {
    "ExecuteTime": {
     "end_time": "2020-01-04T13:36:36.332927Z",
     "start_time": "2020-01-04T13:36:36.327916Z"
    }
   },
   "outputs": [],
   "source": [
    "#Before the filtering asked by Majed we had the following ratios of classes:\n",
    "#BLUNT - MORTALITY\n",
    "#0    0.950523\n",
    "#1    0.049477\n",
    "#Name: hospdisp, dtype: float64\n",
    "#BLUNT - MORBIDITY\n",
    "#0    0.914447\n",
    "#1    0.085553\n",
    "#Name: morbidity, dtype: float64\n",
    "#Size of train set with time separation for injury blunt: 671236\n",
    "#Size of test set with time separation for injury blunt: 183321\n",
    "\n",
    "#///////////////////////////////////////////////////////////////////\n",
    "\n",
    "#PENETRATING - MORTALITY\n",
    "#0    0.903374\n",
    "#1    0.096626\n",
    "#Name: hospdisp, dtype: float64\n",
    "#PENETRATING - MORBIDITY\n",
    "#0    0.874219\n",
    "#1    0.125781\n",
    "#Name: morbidity, dtype: float64\n",
    "#Size of train set with time separation for injury penetrating: 71027\n",
    "#Size of test set with time separation for injury penetrating: 20211"
   ]
  },
  {
   "cell_type": "code",
   "execution_count": 157,
   "metadata": {
    "ExecuteTime": {
     "end_time": "2020-01-04T13:37:38.396963Z",
     "start_time": "2020-01-04T13:36:36.336838Z"
    },
    "scrolled": true
   },
   "outputs": [
    {
     "name": "stdout",
     "output_type": "stream",
     "text": [
      "blunt\n",
      "0    0.950792\n",
      "1    0.049208\n",
      "Name: hospdisp, dtype: float64\n",
      "0    0.937696\n",
      "1    0.062304\n",
      "Name: morbidity, dtype: float64\n",
      "gender\n",
      "281\n",
      "race1\n",
      "0\n",
      "acslevel\n",
      "0\n",
      "signsoflife\n",
      "0\n",
      "alcohol\n",
      "0\n",
      "method_of_injury\n",
      "0\n"
     ]
    },
    {
     "name": "stderr",
     "output_type": "stream",
     "text": [
      "/usr/local/lib/python3.7/site-packages/ipykernel_launcher.py:100: FutureWarning: The signature of `Series.to_csv` was aligned to that of `DataFrame.to_csv`, and argument 'header' will change its default value from False to True: please pass an explicit value to suppress this warning.\n",
      "/usr/local/lib/python3.7/site-packages/ipykernel_launcher.py:104: FutureWarning: The signature of `Series.to_csv` was aligned to that of `DataFrame.to_csv`, and argument 'header' will change its default value from False to True: please pass an explicit value to suppress this warning.\n"
     ]
    },
    {
     "name": "stdout",
     "output_type": "stream",
     "text": [
      "Size of train set with time separation for injury blunt: 671199\n"
     ]
    },
    {
     "name": "stderr",
     "output_type": "stream",
     "text": [
      "/usr/local/lib/python3.7/site-packages/ipykernel_launcher.py:117: FutureWarning: The signature of `Series.to_csv` was aligned to that of `DataFrame.to_csv`, and argument 'header' will change its default value from False to True: please pass an explicit value to suppress this warning.\n",
      "/usr/local/lib/python3.7/site-packages/ipykernel_launcher.py:121: FutureWarning: The signature of `Series.to_csv` was aligned to that of `DataFrame.to_csv`, and argument 'header' will change its default value from False to True: please pass an explicit value to suppress this warning.\n"
     ]
    },
    {
     "name": "stdout",
     "output_type": "stream",
     "text": [
      "Size of test set with time separation for injury blunt: 179834\n",
      "--------------------------------------------------------\n",
      "penetrating\n",
      "0    0.903863\n",
      "1    0.096137\n",
      "Name: hospdisp, dtype: float64\n",
      "0    0.905737\n",
      "1    0.094263\n",
      "Name: morbidity, dtype: float64\n",
      "gender\n",
      "28\n",
      "race1\n",
      "0\n",
      "acslevel\n",
      "0\n",
      "signsoflife\n",
      "0\n",
      "alcohol\n",
      "0\n",
      "method_of_injury\n",
      "0\n",
      "Size of train set with time separation for injury penetrating: 71026\n",
      "Size of test set with time separation for injury penetrating: 19688\n",
      "--------------------------------------------------------\n"
     ]
    }
   ],
   "source": [
    "# With the new morbidity !\n",
    "dict_injury = {0: \"blunt\", 1: \"penetrating\"}\n",
    "for i, df_injury in enumerate([df_blunt, df_penetrating]):\n",
    "    print(dict_injury[i])\n",
    "    columns_to_keep = [\n",
    "        \"inc_key\",\"age\", \"gender\", \"race1\",\n",
    "        # \"teachsta\", # \"region\",\n",
    "        \"acslevel\", #\"tmode1\", # \"transfer\",\n",
    "        \"signsoflife\", \"sbp1\", # \"sbp2\",\n",
    "        \"pulse1\", # \"pulse2\",\n",
    "        \"oxysat1\", # \"oxysat2\",\n",
    "        \"temp1\", \"gcstot1\", # \"gcstot2\",\n",
    "        \"alcohol\", \"bleeding_disorder\",\n",
    "        \"current_chemotherapy\", \"congestive_heart_failure\",\n",
    "        \"current_smoker\", \"chronic_renal_failure\",\n",
    "        \"history_cva\", \"diabetes\", \"disseminated_cancer\",\n",
    "        \"copd\", \"steroid\", \"cirrhosis\", \"history_MI\",\n",
    "        \"history_pvd\", \"hypertension_medication\", # \"eddisp\",\n",
    "        \"method_of_injury\", # new AIS\"\n",
    "        \"Face_severity\", \"Neck_severity\", \"Thorax_severity\",\n",
    "        \"Abdomen_severity\", \"Spine_severity\",\n",
    "        \"Upper_Extremity_severity\", \"Lower_Extremity_severity\",\n",
    "        \"Pelvis_Perineum_severity\", \"External_severity\", \"severity_max\",\n",
    "        \"hemorrhage_ctrl_type\"\n",
    "    ]\n",
    "    # Creating target values for mortality & morbidity\n",
    "    hosp_mortality = ((df_injury.hospdisp == \"Expired\") \n",
    "                      | (df_injury.hospdisp == \"Deceased/Expired\"))*1\n",
    "    print(hosp_mortality.value_counts()/len(hosp_mortality))\n",
    "    hosp_morbidity = df_injury.morbidity\n",
    "    print(hosp_morbidity.value_counts()/len(hosp_morbidity))\n",
    "    # Getting indices of the two time periods for train/test split\n",
    "    index_before_2016 = df_injury[\n",
    "        df_injury.yoadmit < 2016\n",
    "    ].index.values\n",
    "    index_from_2016 = df_injury[\n",
    "        df_injury.yoadmit >= 2016\n",
    "    ].index.values\n",
    "    \n",
    "    # Imputing categorical variables missing values with other categories\n",
    "    severities = [\n",
    "        \"Face_severity\",\n",
    "        \"Neck_severity\",\n",
    "        \"Thorax_severity\",\n",
    "        \"Abdomen_severity\",\n",
    "        \"Spine_severity\",\n",
    "        \"Upper_Extremity_severity\",\n",
    "        \"Lower_Extremity_severity\",\n",
    "        \"Pelvis_Perineum_severity\",\n",
    "        \"External_severity\",\n",
    "        \"severity_max\"\n",
    "    ]\n",
    "    for col in severities:\n",
    "        df_injury[col] = df_injury[col].fillna(0).astype(int)\n",
    "    df_injury[\"acslevel\"] = df_injury[\"acslevel\"].fillna(\"Unknown\")\n",
    "    df_injury[\"race1\"] = df_injury[\"race1\"].fillna(\"Other Race\")\n",
    "    df_injury[\"signsoflife\"] = df_injury[\"signsoflife\"].fillna(\"Unknown\")\n",
    "    df_injury[\"alcohol\"] = df_injury[\"alcohol\"].fillna(\"Unknown\")\n",
    "    \n",
    "    \n",
    "    for col in str_columns_to_map:\n",
    "        if col == \"method_of_injury\":\n",
    "            print(col)\n",
    "            print(df_injury[col].isnull().sum())\n",
    "            df_injury[col] = df_injury[col].replace(vars()[f\"mapping_{col}_{dict_injury[i]}\"]).astype(int)\n",
    "        else:\n",
    "            print(col)\n",
    "            print(df_injury[col].isnull().sum())\n",
    "            df_injury[col] = df_injury[col].replace(vars()[f\"mapping_{col}\"])\n",
    "            try:\n",
    "                df_injury[col] = df_injury[col].astype(int)\n",
    "            except:\n",
    "                continue\n",
    "\n",
    "    # X data train/test split\n",
    "    df_injury_train = df_injury.iloc[\n",
    "        index_before_2016, :\n",
    "    ].reset_index(drop=True)\n",
    "    df_injury_test = df_injury.iloc[\n",
    "        index_from_2016, :\n",
    "    ].reset_index(drop=True)\n",
    "\n",
    "    # Mortality train/test split\n",
    "    hosp_mortality_train = hosp_mortality[index_before_2016]\n",
    "    hosp_mortality_test = hosp_mortality[index_from_2016]\n",
    "\n",
    "    # Morbidity train/test split\n",
    "    hosp_morbidity_train = hosp_morbidity[index_before_2016]\n",
    "    hosp_morbidity_test = hosp_morbidity[index_from_2016]\n",
    "\n",
    "\n",
    "    # Saving train data with time split\n",
    "    df_injury_train = df_injury_train[columns_to_keep]\n",
    "    df_injury_train.to_csv(\n",
    "        f\"../Data/time_split_per_injury_new_morbidity/{dict_injury[i]}/trauma_X_train_time_{dict_injury[i]}.csv\",\n",
    "        index=False\n",
    "    )\n",
    "    hosp_morbidity_train.to_csv(\n",
    "        f\"../Data/time_split_per_injury_new_morbidity/{dict_injury[i]}/trauma_y_train_morbidity_time_{dict_injury[i]}.csv\",\n",
    "        index=False\n",
    "    )\n",
    "    hosp_mortality_train.to_csv(\n",
    "        f\"../Data/time_split_per_injury_new_morbidity/{dict_injury[i]}/trauma_y_train_mortality_time_{dict_injury[i]}.csv\",\n",
    "        index=False\n",
    "    )\n",
    "    print(f\"Size of train set with time separation for injury {dict_injury[i]}: {len(df_injury_train)}\")\n",
    "\n",
    "\n",
    "    # Saving test data with time split\n",
    "    df_injury_test = df_injury_test[columns_to_keep]\n",
    "    df_injury_test.to_csv(\n",
    "        f\"../Data/time_split_per_injury_new_morbidity/{dict_injury[i]}/trauma_X_test_time_{dict_injury[i]}.csv\",\n",
    "        index=False\n",
    "    )\n",
    "    hosp_morbidity_test.to_csv(\n",
    "        f\"../Data/time_split_per_injury_new_morbidity/{dict_injury[i]}/trauma_y_test_morbidity_time_{dict_injury[i]}.csv\",\n",
    "        index=False\n",
    "    )\n",
    "    hosp_mortality_test.to_csv(\n",
    "        f\"../Data/time_split_per_injury_new_morbidity/{dict_injury[i]}/trauma_y_test_mortality_time_{dict_injury[i]}.csv\",\n",
    "        index=False\n",
    "    )\n",
    "    print(f\"Size of test set with time separation for injury {dict_injury[i]}: {len(df_injury_test)}\")\n",
    "    print(\"--------------------------------------------------------\")"
   ]
  },
  {
   "cell_type": "code",
   "execution_count": 158,
   "metadata": {
    "ExecuteTime": {
     "end_time": "2020-01-04T13:37:38.452748Z",
     "start_time": "2020-01-04T13:37:38.400672Z"
    },
    "scrolled": true
   },
   "outputs": [
    {
     "data": {
      "text/plain": [
       "inc_key                      0.000000\n",
       "age                          0.604004\n",
       "gender                       0.035198\n",
       "race1                        0.000000\n",
       "acslevel                     0.000000\n",
       "signsoflife                  0.000000\n",
       "sbp1                         1.650100\n",
       "pulse1                       1.375553\n",
       "oxysat1                     10.597528\n",
       "temp1                       22.804325\n",
       "gcstot1                      1.386816\n",
       "alcohol                      0.000000\n",
       "bleeding_disorder            0.000000\n",
       "current_chemotherapy         0.000000\n",
       "congestive_heart_failure     0.000000\n",
       "current_smoker               0.000000\n",
       "chronic_renal_failure        0.000000\n",
       "history_cva                  0.000000\n",
       "diabetes                     0.000000\n",
       "disseminated_cancer          0.000000\n",
       "copd                         0.000000\n",
       "steroid                      0.000000\n",
       "cirrhosis                    0.000000\n",
       "history_MI                   0.000000\n",
       "history_pvd                  0.000000\n",
       "hypertension_medication      0.000000\n",
       "method_of_injury             0.000000\n",
       "Face_severity                0.000000\n",
       "Neck_severity                0.000000\n",
       "Thorax_severity              0.000000\n",
       "Abdomen_severity             0.000000\n",
       "Spine_severity               0.000000\n",
       "Upper_Extremity_severity     0.000000\n",
       "Lower_Extremity_severity     0.000000\n",
       "Pelvis_Perineum_severity     0.000000\n",
       "External_severity            0.000000\n",
       "severity_max                 0.000000\n",
       "hemorrhage_ctrl_type        85.934728\n",
       "dtype: float64"
      ]
     },
     "execution_count": 158,
     "metadata": {},
     "output_type": "execute_result"
    }
   ],
   "source": [
    "100*df_injury_train.isnull().sum()/len(df_injury_train)"
   ]
  },
  {
   "cell_type": "markdown",
   "metadata": {},
   "source": [
    "# Re-processing Imputed Data"
   ]
  },
  {
   "cell_type": "code",
   "execution_count": 48,
   "metadata": {
    "ExecuteTime": {
     "end_time": "2020-01-04T19:10:19.497752Z",
     "start_time": "2020-01-04T19:10:19.481101Z"
    }
   },
   "outputs": [],
   "source": [
    "# These columns will have to be remapped the other way around when OptImpute has been performed\n",
    "str_columns_to_map = [\"gender\", \"race1\", \"acslevel\", \"signsoflife\", \n",
    "                      \"alcohol\", \"method_of_injury\"]\n",
    "# Ordered:\n",
    "mapping_acslevel = {\"I\": 1, \"II\":2, \"III\":3, \"Unknown\":-1}\n",
    "mapping_acslevel_other_way = {v:k for k,v in mapping_acslevel.items()}\n",
    "\n",
    "#Non-ordered\n",
    "mapping_gender = {\"Female\":1, \"Male\":0}\n",
    "mapping_gender_other_way = {v:k for k,v in mapping_gender.items()}\n",
    "\n",
    "mapping_race1 = {'Other Race': 0, 'Black or African American':1, 'White':2, 'American Indian':3,\n",
    "               'Native Hawaiian or Other Pacific Islander':4, 'Asian': 5}\n",
    "mapping_race1_other_way = {v:k for k,v in mapping_race1.items()}\n",
    "\n",
    "mapping_signsoflife = {'Unknown':-1, 'Arrived with signs of life': 1, 'Arrived with NO signs of life':0}\n",
    "mapping_signsoflife_other_way = {v:k for k,v in mapping_signsoflife.items()}\n",
    "\n",
    "mapping_alcohol = {\"Alcohol\": 1, \"Residual/no alcohol\": 0, \"Unknown\":-1}\n",
    "mapping_alcohol_other_way = {v:k for k,v in mapping_alcohol.items()}\n",
    "\n",
    "mapping_method_of_injury_penetrating = {'Penetrating - Stab Wound': 1, 'Penetrating - Gunshot Wound': 2,\n",
    "                                       'Penetrating - Other/Mixed':3}\n",
    "mapping_method_of_injury_penetrating_other_way = {v:k for k,v in mapping_method_of_injury_penetrating.items()}\n",
    "\n",
    "mapping_method_of_injury_blunt = {'Blunt - MVT occupant':1, 'Blunt - Fall':2, 'Blunt - MVT motorcyclist':3,\n",
    " 'Blunt - Other':4, 'Blunt - MVT Pedal cyclist/pedestrian':5}\n",
    "mapping_method_of_injury_blunt_other_way = {v:k for k,v in mapping_method_of_injury_blunt.items()}\n"
   ]
  },
  {
   "cell_type": "markdown",
   "metadata": {},
   "source": [
    "## Penetrating"
   ]
  },
  {
   "cell_type": "code",
   "execution_count": 3,
   "metadata": {
    "ExecuteTime": {
     "end_time": "2020-01-10T00:44:07.974087Z",
     "start_time": "2020-01-10T00:44:07.482632Z"
    }
   },
   "outputs": [],
   "source": [
    "test_X_time_penetrating_imputed = pd.read_csv(\"../Data/imputed_non_processed/penetrating/test_X_time_penetrating_imputed.csv\")\n",
    "train_X_time_penetrating_imputed = pd.read_csv(\"../Data/imputed_non_processed/penetrating/train_X_time_penetrating_imputed.csv\")\n",
    "# Replacing systolic blood pressure of less than 60 by -1 (<=> unknown or error)\n",
    "train_X_time_penetrating_imputed.loc[train_X_time_penetrating_imputed.sbp1 < 60, \"sbp1\"] = -1\n",
    "test_X_time_penetrating_imputed.loc[test_X_time_penetrating_imputed.sbp1 < 60, \"sbp1\"] = -1\n",
    "train_X_time_penetrating_imputed.reset_index(inplace=True, drop=True)\n",
    "test_X_time_penetrating_imputed.reset_index(inplace=True, drop=True)\n",
    "# Dropping max severity of 6:\n",
    "#columns_severity = ['Face_severity', 'Neck_severity', 'Thorax_severity', 'Abdomen_severity',\n",
    "#       'Spine_severity', 'Upper_Extremity_severity',\n",
    "#       'Lower_Extremity_severity', 'Pelvis_Perineum_severity',\n",
    "#       'External_severity']\n",
    "#train_X_time_penetrating_imputed[\"severity_max\"] = np.max(train_X_time_penetrating_imputed[columns_severity])\n",
    "#index_severity_6_train = train_X_time_penetrating_imputed[\n",
    "#    train_X_time_penetrating_imputed.severity_max == 6\n",
    "#].index.values\n",
    "#train_X_time_penetrating_imputed.drop(index_severity_6_train, inplace=True)"
   ]
  },
  {
   "cell_type": "code",
   "execution_count": 50,
   "metadata": {
    "ExecuteTime": {
     "end_time": "2020-01-04T19:10:20.367871Z",
     "start_time": "2020-01-04T19:10:20.346930Z"
    }
   },
   "outputs": [],
   "source": [
    "test_X_time_penetrating_imputed.columns = ['age', 'alcohol', 'gender', 'race1', 'acslevel', 'signsoflife', 'sbp1',\n",
    "       'pulse1', 'oxysat1', 'temp1', 'gcstot1', 'bleeding_disorder',\n",
    "       'current_chemotherapy', 'congestive_heart_failure', 'current_smoker',\n",
    "       'chronic_renal_failure', 'history_cva', 'diabetes',\n",
    "       'disseminated_cancer', 'copd', 'steroid', 'cirrhosis', 'history_MI',\n",
    "       'history_pvd', 'hypertension_medication', 'method_of_injury',\n",
    "       'Face_severity', 'Neck_severity', 'Thorax_severity', 'Abdomen_severity',\n",
    "       'Spine_severity', 'Upper_Extremity_severity',\n",
    "       'Lower_Extremity_severity', 'Pelvis_Perineum_severity',\n",
    "       'External_severity', 'inc_key']\n",
    "train_X_time_penetrating_imputed.columns = ['age', 'alcohol', 'gender', 'race1', 'acslevel', 'signsoflife', 'sbp1',\n",
    "       'pulse1', 'oxysat1', 'temp1', 'gcstot1', 'bleeding_disorder',\n",
    "       'current_chemotherapy', 'congestive_heart_failure', 'current_smoker',\n",
    "       'chronic_renal_failure', 'history_cva', 'diabetes',\n",
    "       'disseminated_cancer', 'copd', 'steroid', 'cirrhosis', 'history_MI',\n",
    "       'history_pvd', 'hypertension_medication', 'method_of_injury',\n",
    "       'Face_severity', 'Neck_severity', 'Thorax_severity', 'Abdomen_severity',\n",
    "       'Spine_severity', 'Upper_Extremity_severity',\n",
    "       'Lower_Extremity_severity', 'Pelvis_Perineum_severity',\n",
    "       'External_severity', 'inc_key']"
   ]
  },
  {
   "cell_type": "markdown",
   "metadata": {},
   "source": [
    "### Time train/test/split"
   ]
  },
  {
   "cell_type": "code",
   "execution_count": 51,
   "metadata": {
    "ExecuteTime": {
     "end_time": "2020-01-04T19:10:24.598474Z",
     "start_time": "2020-01-04T19:10:21.149638Z"
    },
    "code_folding": [],
    "scrolled": true
   },
   "outputs": [
    {
     "name": "stdout",
     "output_type": "stream",
     "text": [
      "Preprocessed train dataset for penetrating injuries\n",
      "Preprocessed test dataset for penetrating injuries\n"
     ]
    },
    {
     "name": "stderr",
     "output_type": "stream",
     "text": [
      "/usr/local/lib/python3.7/site-packages/ipykernel_launcher.py:19: FutureWarning: The signature of `Series.to_csv` was aligned to that of `DataFrame.to_csv`, and argument 'header' will change its default value from False to True: please pass an explicit value to suppress this warning.\n",
      "/usr/local/lib/python3.7/site-packages/ipykernel_launcher.py:27: FutureWarning: The signature of `Series.to_csv` was aligned to that of `DataFrame.to_csv`, and argument 'header' will change its default value from False to True: please pass an explicit value to suppress this warning.\n"
     ]
    }
   ],
   "source": [
    "for t_set in [\"train\", \"test\"]:\n",
    "    str_columns_to_map = [\"gender\", \"race1\", \"acslevel\", \"signsoflife\", \"alcohol\"]\n",
    "    vars()[f\"{t_set}_X_time_penetrating_imputed\"][\"method_of_injury\"] = vars()[f\"{t_set}_X_time_penetrating_imputed\"][\n",
    "        \"method_of_injury\"\n",
    "    ].map(mapping_method_of_injury_penetrating_other_way)\n",
    "    \n",
    "    # Map the other way around the categorical features that have been imputed\n",
    "    for col_map in str_columns_to_map:\n",
    "        vars()[f\"{t_set}_X_time_penetrating_imputed\"][col_map] = vars()[f\"{t_set}_X_time_penetrating_imputed\"][\n",
    "            col_map\n",
    "        ].round(0).astype(int)\n",
    "        vars()[f\"{t_set}_X_time_penetrating_imputed\"][col_map] = vars()[f\"{t_set}_X_time_penetrating_imputed\"][\n",
    "            col_map\n",
    "        ].map(vars()[f\"mapping_{col_map}_other_way\"])\n",
    "    print(f\"Preprocessed {t_set} dataset for penetrating injuries\")\n",
    "\n",
    "inc_keys_test_X_time_penetrating_imputed = test_X_time_penetrating_imputed.inc_key\n",
    "inc_keys_test_X_time_penetrating_imputed.to_csv(\n",
    "    \"../Data/imputed_time_split_per_injury_new_morbidity/penetrating/inc_keys_test_X_time_penetrating_imputed\"\n",
    ")\n",
    "test_X_time_penetrating_imputed.drop(\"inc_key\", axis=1).to_csv(\n",
    "    \"../Data/imputed_time_split_per_injury_new_morbidity/penetrating/test_X_time_penetrating_imputed.csv\"\n",
    ")\n",
    "\n",
    "inc_keys_train_X_time_penetrating_imputed = train_X_time_penetrating_imputed.inc_key\n",
    "inc_keys_train_X_time_penetrating_imputed.to_csv(\n",
    "    \"../Data/imputed_time_split_per_injury_new_morbidity/penetrating/inc_keys_train_X_time_penetrating_imputed\"\n",
    ")\n",
    "train_X_time_penetrating_imputed.drop(\"inc_key\", axis=1).to_csv(\n",
    "    \"../Data/imputed_time_split_per_injury_new_morbidity/penetrating/train_X_time_penetrating_imputed.csv\"\n",
    ")"
   ]
  },
  {
   "cell_type": "markdown",
   "metadata": {},
   "source": [
    "### Random train/test/split"
   ]
  },
  {
   "cell_type": "code",
   "execution_count": 52,
   "metadata": {
    "ExecuteTime": {
     "end_time": "2020-01-04T19:10:24.747652Z",
     "start_time": "2020-01-04T19:10:24.605873Z"
    }
   },
   "outputs": [],
   "source": [
    "os.listdir(\"../Data/imputed_time_split_per_injury_new_morbidity/penetrating/\")\n",
    "y_train_mortality_time = pd.read_csv(\n",
    "    \"../Data/imputed_time_split_per_injury_new_morbidity/penetrating/trauma_y_train_mortality_time_penetrating.csv\", header=None\n",
    ")\n",
    "y_test_mortality_time = pd.read_csv(\n",
    "    \"../Data/imputed_time_split_per_injury_new_morbidity/penetrating/trauma_y_test_mortality_time_penetrating.csv\", header=None\n",
    ")\n",
    "y_train_morbidity_time = pd.read_csv(\n",
    "    \"../Data/imputed_time_split_per_injury_new_morbidity/penetrating/trauma_y_train_morbidity_time_penetrating.csv\", header=None\n",
    ")\n",
    "y_test_morbidity_time = pd.read_csv(\n",
    "    \"../Data/imputed_time_split_per_injury_new_morbidity/penetrating/trauma_y_test_morbidity_time_penetrating.csv\", header=None\n",
    ")"
   ]
  },
  {
   "cell_type": "code",
   "execution_count": 53,
   "metadata": {
    "ExecuteTime": {
     "end_time": "2020-01-04T19:10:25.013964Z",
     "start_time": "2020-01-04T19:10:24.758627Z"
    }
   },
   "outputs": [],
   "source": [
    "X = pd.concat([train_X_time_penetrating_imputed, test_X_time_penetrating_imputed]).reset_index(drop=True)\n",
    "y_mortality = pd.concat([y_train_mortality_time, y_test_mortality_time]).reset_index(drop=True)\n",
    "y_morbidity = pd.concat([y_train_morbidity_time, y_test_morbidity_time]).reset_index(drop=True)\n",
    "\n",
    "# Filter out severity 6\n",
    "X[\"severity_max\"] = X[['Face_severity', 'Neck_severity', 'Thorax_severity', 'Abdomen_severity',\n",
    "       'Spine_severity', 'Upper_Extremity_severity',\n",
    "       'Lower_Extremity_severity', 'Pelvis_Perineum_severity',\n",
    "       'External_severity']].max(axis=1)\n",
    "indices_severity_6_to_drop = X[X.severity_max == 6].index.values\n",
    "X.drop(indices_severity_6_to_drop, axis=0, inplace=True)\n",
    "y_mortality.drop(indices_severity_6_to_drop, axis=0, inplace=True)\n",
    "y_morbidity.drop(indices_severity_6_to_drop, axis=0, inplace=True)\n",
    "X.drop(\"severity_max\", axis=1, inplace=True)\n",
    "\n",
    "# Reset index\n",
    "X.reset_index(inplace=True, drop=True)\n",
    "y_mortality.reset_index(inplace=True, drop=True)\n",
    "y_morbidity.reset_index(inplace=True, drop=True)"
   ]
  },
  {
   "cell_type": "code",
   "execution_count": 54,
   "metadata": {
    "ExecuteTime": {
     "end_time": "2020-01-04T19:10:26.395386Z",
     "start_time": "2020-01-04T19:10:25.025924Z"
    }
   },
   "outputs": [],
   "source": [
    "train_X_morbid, test_X_morbid, train_y_morbid, test_y_morbid = train_test_split(\n",
    "    X, y_morbidity, stratify=y_morbidity, random_state=7, train_size=0.8)\n",
    "train_X_mortal, test_X_mortal, train_y_mortal, test_y_mortal = train_test_split(\n",
    "    X, y_mortality, stratify=y_mortality, random_state=7, train_size=0.8)\n",
    "train_y_morbid.columns = [\"label\"]\n",
    "train_y_morbid = train_y_morbid[\"label\"]\n",
    "test_y_morbid.columns = [\"label\"]\n",
    "test_y_morbid = test_y_morbid[\"label\"]\n",
    "train_y_mortal.columns = [\"label\"]\n",
    "train_y_mortal = train_y_mortal[\"label\"]\n",
    "test_y_mortal.columns = [\"label\"]\n",
    "test_y_mortal = test_y_mortal[\"label\"]"
   ]
  },
  {
   "cell_type": "code",
   "execution_count": 55,
   "metadata": {
    "ExecuteTime": {
     "end_time": "2020-01-04T19:10:27.663738Z",
     "start_time": "2020-01-04T19:10:26.421795Z"
    }
   },
   "outputs": [
    {
     "name": "stderr",
     "output_type": "stream",
     "text": [
      "/usr/local/lib/python3.7/site-packages/pandas/core/frame.py:4097: SettingWithCopyWarning: \n",
      "A value is trying to be set on a copy of a slice from a DataFrame\n",
      "\n",
      "See the caveats in the documentation: http://pandas.pydata.org/pandas-docs/stable/user_guide/indexing.html#returning-a-view-versus-a-copy\n",
      "  errors=errors,\n"
     ]
    }
   ],
   "source": [
    "# Saving the inc_keys and deleting column for X dataframes\n",
    "data_path_random = \"../Data/imputed_random_split_per_injury_without_severity_6/penetrating/\"\n",
    "for filename in [\"train_X_morbid\", \"test_X_morbid\"]:\n",
    "    inc_keys_filename = vars()[filename].inc_key.reset_index()\n",
    "    inc_keys_filename.to_csv(data_path_random + f\"morbidity/inc_keys_{filename}.csv\", header=True)\n",
    "    vars()[filename].drop(\"inc_key\", axis=1, inplace=True)\n",
    "    \n",
    "for filename in [\"train_X_mortal\", \"test_X_mortal\"]:\n",
    "    inc_keys_filename = vars()[filename].inc_key.reset_index()\n",
    "    inc_keys_filename.to_csv(data_path_random + f\"mortality/inc_keys_{filename}.csv\", header=True)\n",
    "    vars()[filename].drop(\"inc_key\", axis=1, inplace=True)"
   ]
  },
  {
   "cell_type": "code",
   "execution_count": 56,
   "metadata": {
    "ExecuteTime": {
     "end_time": "2020-01-04T19:10:35.487142Z",
     "start_time": "2020-01-04T19:10:27.670183Z"
    }
   },
   "outputs": [
    {
     "name": "stdout",
     "output_type": "stream",
     "text": [
      "Saved file train_X_morbid\n",
      "Saved file test_X_morbid\n",
      "Saved file train_y_morbid\n",
      "Saved file test_y_morbid\n",
      "Saved file train_X_mortal\n",
      "Saved file test_X_mortal\n",
      "Saved file train_y_mortal\n",
      "Saved file test_y_mortal\n"
     ]
    }
   ],
   "source": [
    "data_path_random = \"../Data/imputed_random_split_per_injury_without_severity_6/penetrating/\"\n",
    "#Morbidity first\n",
    "for filename in [\"train_X_morbid\", \"test_X_morbid\", \"train_y_morbid\", \"test_y_morbid\"]:\n",
    "    vars()[filename].reset_index(drop=True, inplace=True)\n",
    "    vars()[filename].to_csv(data_path_random + f\"morbidity/{filename}.csv\", header=True)\n",
    "    print(f\"Saved file {filename}\")\n",
    "\n",
    "#Then Mortality\n",
    "for filename in [\"train_X_mortal\", \"test_X_mortal\", \"train_y_mortal\", \"test_y_mortal\"]:\n",
    "    vars()[filename].reset_index(drop=True, inplace=True)\n",
    "    vars()[filename].to_csv(data_path_random + f\"mortality/{filename}.csv\", header=True)\n",
    "    print(f\"Saved file {filename}\")"
   ]
  },
  {
   "cell_type": "markdown",
   "metadata": {},
   "source": [
    "## Blunt"
   ]
  },
  {
   "cell_type": "markdown",
   "metadata": {},
   "source": [
    "### Time train/test split"
   ]
  },
  {
   "cell_type": "code",
   "execution_count": 57,
   "metadata": {
    "ExecuteTime": {
     "end_time": "2020-01-04T19:10:38.709193Z",
     "start_time": "2020-01-04T19:10:35.491584Z"
    }
   },
   "outputs": [],
   "source": [
    "test_X_time_blunt_imputed = pd.read_csv(\"../Data/imputed_non_processed/blunt/test_X_time_blunt_imputed.csv\")\n",
    "train_X_time_blunt_imputed = pd.read_csv(\"../Data/imputed_non_processed/blunt/train_X_time_blunt_imputed.csv\")\n",
    "# Replacing systolic blood pressure of less than 60 by -1 (<=> unknown or error)\n",
    "train_X_time_blunt_imputed.loc[train_X_time_blunt_imputed.sbp1 < 60, \"sbp1\"] = -1\n",
    "test_X_time_blunt_imputed.loc[test_X_time_blunt_imputed.sbp1 < 60, \"sbp1\"] = -1\n",
    "train_X_time_blunt_imputed.reset_index(inplace=True, drop=True)\n",
    "test_X_time_blunt_imputed.reset_index(inplace=True, drop=True)"
   ]
  },
  {
   "cell_type": "code",
   "execution_count": 58,
   "metadata": {
    "ExecuteTime": {
     "end_time": "2020-01-04T19:10:38.727260Z",
     "start_time": "2020-01-04T19:10:38.713700Z"
    }
   },
   "outputs": [],
   "source": [
    "test_X_time_blunt_imputed.columns = ['age', 'alcohol', 'gender', 'race1', 'acslevel', 'signsoflife', 'sbp1',\n",
    "       'pulse1', 'oxysat1', 'temp1', 'gcstot1', 'bleeding_disorder',\n",
    "       'current_chemotherapy', 'congestive_heart_failure', 'current_smoker',\n",
    "       'chronic_renal_failure', 'history_cva', 'diabetes',\n",
    "       'disseminated_cancer', 'copd', 'steroid', 'cirrhosis', 'history_MI',\n",
    "       'history_pvd', 'hypertension_medication', 'method_of_injury',\n",
    "       'Face_severity', 'Neck_severity', 'Thorax_severity', 'Abdomen_severity',\n",
    "       'Spine_severity', 'Upper_Extremity_severity',\n",
    "       'Lower_Extremity_severity', 'Pelvis_Perineum_severity',\n",
    "       'External_severity', 'inc_key']\n",
    "train_X_time_blunt_imputed.columns = ['age', 'alcohol', 'gender', 'race1', 'acslevel', 'signsoflife', 'sbp1',\n",
    "       'pulse1', 'oxysat1', 'temp1', 'gcstot1', 'bleeding_disorder',\n",
    "       'current_chemotherapy', 'congestive_heart_failure', 'current_smoker',\n",
    "       'chronic_renal_failure', 'history_cva', 'diabetes',\n",
    "       'disseminated_cancer', 'copd', 'steroid', 'cirrhosis', 'history_MI',\n",
    "       'history_pvd', 'hypertension_medication', 'method_of_injury',\n",
    "       'Face_severity', 'Neck_severity', 'Thorax_severity', 'Abdomen_severity',\n",
    "       'Spine_severity', 'Upper_Extremity_severity',\n",
    "       'Lower_Extremity_severity', 'Pelvis_Perineum_severity',\n",
    "       'External_severity', 'inc_key']"
   ]
  },
  {
   "cell_type": "code",
   "execution_count": 59,
   "metadata": {
    "ExecuteTime": {
     "end_time": "2020-01-04T19:11:06.562002Z",
     "start_time": "2020-01-04T19:10:38.730056Z"
    }
   },
   "outputs": [
    {
     "name": "stdout",
     "output_type": "stream",
     "text": [
      "Preprocessed train dataset for blunt injuries\n",
      "Preprocessed test dataset for blunt injuries\n"
     ]
    }
   ],
   "source": [
    "for t_set in [\"train\", \"test\"]:\n",
    "    str_columns_to_map = [\"gender\", \"race1\", \"acslevel\", \"signsoflife\", \"alcohol\"]\n",
    "    vars()[f\"{t_set}_X_time_blunt_imputed\"][\"method_of_injury\"] = vars()[f\"{t_set}_X_time_blunt_imputed\"][\n",
    "        \"method_of_injury\"\n",
    "    ].map(mapping_method_of_injury_blunt_other_way)\n",
    "    \n",
    "    # Map the other way around the categorical features that have been imputed\n",
    "    for col_map in str_columns_to_map:\n",
    "        vars()[f\"{t_set}_X_time_blunt_imputed\"][col_map] = vars()[f\"{t_set}_X_time_blunt_imputed\"][\n",
    "            col_map\n",
    "        ].round(0).astype(int)\n",
    "        vars()[f\"{t_set}_X_time_blunt_imputed\"][col_map] = vars()[f\"{t_set}_X_time_blunt_imputed\"][\n",
    "            col_map\n",
    "        ].map(vars()[f\"mapping_{col_map}_other_way\"])\n",
    "    print(f\"Preprocessed {t_set} dataset for blunt injuries\")\n",
    "test_X_time_blunt_imputed.drop(\"inc_key\", axis=1).to_csv(\n",
    "    \"../Data/imputed_time_split_per_injury_new_morbidity/blunt/test_X_time_blunt_imputed.csv\"\n",
    ")\n",
    "train_X_time_blunt_imputed.drop(\"inc_key\", axis=1).to_csv(\n",
    "    \"../Data/imputed_time_split_per_injury_new_morbidity/blunt/train_X_time_blunt_imputed.csv\"\n",
    ")"
   ]
  },
  {
   "cell_type": "markdown",
   "metadata": {},
   "source": [
    "### Random train/test split"
   ]
  },
  {
   "cell_type": "code",
   "execution_count": 60,
   "metadata": {
    "ExecuteTime": {
     "end_time": "2020-01-04T19:11:06.748009Z",
     "start_time": "2020-01-04T19:11:06.577307Z"
    }
   },
   "outputs": [],
   "source": [
    "os.listdir(\"../Data/imputed_time_split_per_injury_new_morbidity/blunt/\")\n",
    "y_train_mortality_time = pd.read_csv(\n",
    "    \"../Data/imputed_time_split_per_injury_new_morbidity/blunt/trauma_y_train_mortality_time_blunt.csv\", header=None\n",
    ")\n",
    "y_test_mortality_time = pd.read_csv(\n",
    "    \"../Data/imputed_time_split_per_injury_new_morbidity/blunt/trauma_y_test_mortality_time_blunt.csv\", header=None\n",
    ")\n",
    "y_train_morbidity_time = pd.read_csv(\n",
    "    \"../Data/imputed_time_split_per_injury_new_morbidity/blunt/trauma_y_train_morbidity_time_blunt.csv\", header=None\n",
    ")\n",
    "y_test_morbidity_time = pd.read_csv(\n",
    "    \"../Data/imputed_time_split_per_injury_new_morbidity/blunt/trauma_y_test_morbidity_time_blunt.csv\", header=None\n",
    ")"
   ]
  },
  {
   "cell_type": "code",
   "execution_count": 61,
   "metadata": {
    "ExecuteTime": {
     "end_time": "2020-01-04T19:11:09.365671Z",
     "start_time": "2020-01-04T19:11:06.750189Z"
    }
   },
   "outputs": [],
   "source": [
    "X = pd.concat([train_X_time_blunt_imputed, test_X_time_blunt_imputed]).reset_index(drop=True)\n",
    "y_mortality = pd.concat([y_train_mortality_time, y_test_mortality_time]).reset_index(drop=True)\n",
    "y_morbidity = pd.concat([y_train_morbidity_time, y_test_morbidity_time]).reset_index(drop=True)\n",
    "\n",
    "# Filter out severity 6\n",
    "X[\"severity_max\"] = X[['Face_severity', 'Neck_severity', 'Thorax_severity', 'Abdomen_severity',\n",
    "       'Spine_severity', 'Upper_Extremity_severity',\n",
    "       'Lower_Extremity_severity', 'Pelvis_Perineum_severity',\n",
    "       'External_severity']].max(axis=1)\n",
    "indices_severity_6_to_drop = X[X.severity_max == 6].index.values\n",
    "X.drop(indices_severity_6_to_drop, axis=0, inplace=True)\n",
    "y_mortality.drop(indices_severity_6_to_drop, axis=0, inplace=True)\n",
    "y_morbidity.drop(indices_severity_6_to_drop, axis=0, inplace=True)\n",
    "X.drop(\"severity_max\", axis=1, inplace=True)\n",
    "\n",
    "# Reset index\n",
    "X.reset_index(inplace=True, drop=True)\n",
    "y_mortality.reset_index(inplace=True, drop=True)\n",
    "y_morbidity.reset_index(inplace=True, drop=True)\n"
   ]
  },
  {
   "cell_type": "code",
   "execution_count": 62,
   "metadata": {
    "ExecuteTime": {
     "end_time": "2020-01-04T19:11:20.259875Z",
     "start_time": "2020-01-04T19:11:09.369613Z"
    }
   },
   "outputs": [],
   "source": [
    "train_X_morbid, test_X_morbid, train_y_morbid, test_y_morbid = train_test_split(\n",
    "    X, y_morbidity, stratify=y_morbidity, random_state=7, train_size=0.8)\n",
    "train_X_mortal, test_X_mortal, train_y_mortal, test_y_mortal = train_test_split(\n",
    "    X, y_mortality, stratify=y_mortality, random_state=7, train_size=0.8)\n",
    "train_y_morbid.columns = [\"label\"]\n",
    "train_y_morbid = train_y_morbid[\"label\"]\n",
    "test_y_morbid.columns = [\"label\"]\n",
    "test_y_morbid = test_y_morbid[\"label\"]\n",
    "train_y_mortal.columns = [\"label\"]\n",
    "train_y_mortal = train_y_mortal[\"label\"]\n",
    "test_y_mortal.columns = [\"label\"]\n",
    "test_y_mortal = test_y_mortal[\"label\"]"
   ]
  },
  {
   "cell_type": "code",
   "execution_count": 63,
   "metadata": {
    "ExecuteTime": {
     "end_time": "2020-01-04T19:11:27.300330Z",
     "start_time": "2020-01-04T19:11:20.262464Z"
    }
   },
   "outputs": [
    {
     "name": "stderr",
     "output_type": "stream",
     "text": [
      "/usr/local/lib/python3.7/site-packages/pandas/core/frame.py:4097: SettingWithCopyWarning: \n",
      "A value is trying to be set on a copy of a slice from a DataFrame\n",
      "\n",
      "See the caveats in the documentation: http://pandas.pydata.org/pandas-docs/stable/user_guide/indexing.html#returning-a-view-versus-a-copy\n",
      "  errors=errors,\n"
     ]
    }
   ],
   "source": [
    "# Saving the inc_keys and deleting column for X dataframes\n",
    "data_path_random = \"../Data/imputed_random_split_per_injury_without_severity_6/blunt/\"\n",
    "for filename in [\"train_X_morbid\", \"test_X_morbid\"]:\n",
    "    inc_keys_filename = vars()[filename].inc_key.reset_index()\n",
    "    inc_keys_filename.to_csv(data_path_random + f\"morbidity/inc_keys_{filename}.csv\", header=True)\n",
    "    vars()[filename].drop(\"inc_key\", axis=1, inplace=True)\n",
    "    \n",
    "for filename in [\"train_X_mortal\", \"test_X_mortal\"]:\n",
    "    inc_keys_filename = vars()[filename].inc_key.reset_index()\n",
    "    inc_keys_filename.to_csv(data_path_random + f\"mortality/inc_keys_{filename}.csv\", header=True)\n",
    "    vars()[filename].drop(\"inc_key\", axis=1, inplace=True)"
   ]
  },
  {
   "cell_type": "code",
   "execution_count": 64,
   "metadata": {
    "ExecuteTime": {
     "end_time": "2020-01-04T19:12:22.415619Z",
     "start_time": "2020-01-04T19:11:27.307146Z"
    }
   },
   "outputs": [
    {
     "name": "stdout",
     "output_type": "stream",
     "text": [
      "Saved file train_X_morbid\n",
      "Saved file test_X_morbid\n",
      "Saved file train_y_morbid\n",
      "Saved file test_y_morbid\n",
      "Saved file train_X_mortal\n",
      "Saved file test_X_mortal\n",
      "Saved file train_y_mortal\n",
      "Saved file test_y_mortal\n"
     ]
    }
   ],
   "source": [
    "data_path_random = \"../Data/imputed_random_split_per_injury_without_severity_6/blunt/\"\n",
    "#Morbidity first\n",
    "for filename in [\"train_X_morbid\", \"test_X_morbid\", \"train_y_morbid\", \"test_y_morbid\"]:\n",
    "    vars()[filename].reset_index(drop=True, inplace=True)\n",
    "    vars()[filename].to_csv(data_path_random + f\"morbidity/{filename}.csv\", header=True)\n",
    "    print(f\"Saved file {filename}\")\n",
    "\n",
    "#Then Mortality\n",
    "for filename in [\"train_X_mortal\", \"test_X_mortal\", \"train_y_mortal\", \"test_y_mortal\"]:\n",
    "    vars()[filename].reset_index(drop=True, inplace=True)\n",
    "    vars()[filename].to_csv(data_path_random + f\"mortality/{filename}.csv\", header=True)\n",
    "    print(f\"Saved file {filename}\")"
   ]
  },
  {
   "cell_type": "code",
   "execution_count": null,
   "metadata": {},
   "outputs": [],
   "source": []
  }
 ],
 "metadata": {
  "kernelspec": {
   "display_name": "Python 3",
   "language": "python",
   "name": "python3"
  },
  "language_info": {
   "codemirror_mode": {
    "name": "ipython",
    "version": 3
   },
   "file_extension": ".py",
   "mimetype": "text/x-python",
   "name": "python",
   "nbconvert_exporter": "python",
   "pygments_lexer": "ipython3",
   "version": "3.6.9"
  },
  "latex_envs": {
   "LaTeX_envs_menu_present": true,
   "autoclose": false,
   "autocomplete": true,
   "bibliofile": "biblio.bib",
   "cite_by": "apalike",
   "current_citInitial": 1,
   "eqLabelWithNumbers": true,
   "eqNumInitial": 1,
   "hotkeys": {
    "equation": "Ctrl-E",
    "itemize": "Ctrl-I"
   },
   "labels_anchors": false,
   "latex_user_defs": false,
   "report_style_numbering": false,
   "user_envs_cfg": false
  },
  "toc": {
   "base_numbering": 1,
   "nav_menu": {},
   "number_sections": true,
   "sideBar": true,
   "skip_h1_title": false,
   "title_cell": "Table of Contents",
   "title_sidebar": "Contents",
   "toc_cell": false,
   "toc_position": {
    "height": "calc(100% - 180px)",
    "left": "10px",
    "top": "150px",
    "width": "384px"
   },
   "toc_section_display": true,
   "toc_window_display": true
  }
 },
 "nbformat": 4,
 "nbformat_minor": 2
}
