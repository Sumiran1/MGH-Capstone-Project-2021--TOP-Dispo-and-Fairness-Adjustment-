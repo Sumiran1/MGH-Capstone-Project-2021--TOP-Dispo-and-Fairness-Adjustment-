{
 "cells": [
  {
   "cell_type": "code",
   "execution_count": 1,
   "metadata": {},
   "outputs": [
    {
     "data": {
      "text/plain": [
       "PyObject <function plot_confusion_matrix at 0x000000003E3FD1F0>"
      ]
     },
     "execution_count": 1,
     "metadata": {},
     "output_type": "execute_result"
    }
   ],
   "source": [
    "using Random, CategoricalArrays, DataFrames, DataFramesMeta, StatsBase, CSV, ScikitLearn, StatsBase\n",
    "@sk_import metrics: roc_auc_score\n",
    "@sk_import metrics: accuracy_score\n",
    "@sk_import metrics: precision_score\n",
    "@sk_import metrics: recall_score\n",
    "@sk_import metrics: confusion_matrix\n",
    "@sk_import metrics: plot_confusion_matrix"
   ]
  },
  {
   "cell_type": "code",
   "execution_count": 35,
   "metadata": {},
   "outputs": [
    {
     "name": "stdout",
     "output_type": "stream",
     "text": [
      "Transformed column 'Head_severity' to Ordered Categorical\n",
      "Transformed column 'Face_severity' to Ordered Categorical\n",
      "Transformed column 'Neck_severity' to Ordered Categorical\n",
      "Transformed column 'Thorax_severity' to Ordered Categorical\n",
      "Transformed column 'Abdomen_severity' to Ordered Categorical\n",
      "Transformed column 'Spine_severity' to Ordered Categorical\n",
      "Transformed column 'Upper_Extremity_severity' to Ordered Categorical\n",
      "Transformed column 'Lower_Extremity_severity' to Ordered Categorical\n",
      "Transformed column 'Pelvis_Perineum_severity' to Ordered Categorical\n",
      "Transformed column 'External_severity' to Ordered Categorical\n",
      "Transformed column 'gcstot1' to Ordered Categorical\n",
      "Transformed column 'gcstot2' to Ordered Categorical\n",
      "Transformed all other non-ordered Categorical Variables\n"
     ]
    },
    {
     "data": {
      "text/html": [
       "<table class=\"data-frame\"><thead><tr><th></th><th>age</th><th>gender</th><th>signsoflife</th><th>eddisp</th></tr><tr><th></th><th>Float64</th><th>Categorical…</th><th>Categorical…</th><th>Categorical…</th></tr></thead><tbody><p>15,863 rows × 47 columns (omitted printing of 43 columns)</p><tr><th>1</th><td>42.0</td><td>Male</td><td>Arrived with signs of life</td><td>Intensive Care Unit (ICU)</td></tr><tr><th>2</th><td>17.0</td><td>Male</td><td>Arrived with signs of life</td><td>Operating Room</td></tr><tr><th>3</th><td>31.0</td><td>Male</td><td>Arrived with signs of life</td><td>Operating Room</td></tr><tr><th>4</th><td>38.0</td><td>Male</td><td>Arrived with signs of life</td><td>Floor bed (general admission, non specialty unit bed)</td></tr><tr><th>5</th><td>26.0</td><td>Male</td><td>Arrived with signs of life</td><td>Floor bed (general admission, non specialty unit bed)</td></tr><tr><th>6</th><td>65.0</td><td>Male</td><td>Arrived with signs of life</td><td>Intensive Care Unit (ICU)</td></tr><tr><th>7</th><td>19.0</td><td>Male</td><td>Arrived with signs of life</td><td>Operating Room</td></tr><tr><th>8</th><td>26.0</td><td>Male</td><td>Arrived with signs of life</td><td>Intensive Care Unit (ICU)</td></tr><tr><th>9</th><td>70.0</td><td>Male</td><td>Arrived with signs of life</td><td>Intensive Care Unit (ICU)</td></tr><tr><th>10</th><td>28.9897</td><td>Male</td><td>Arrived with signs of life</td><td>Operating Room</td></tr><tr><th>11</th><td>33.0</td><td>Male</td><td>Arrived with signs of life</td><td>Floor bed (general admission, non specialty unit bed)</td></tr><tr><th>12</th><td>18.0</td><td>Male</td><td>Arrived with signs of life</td><td>Floor bed (general admission, non specialty unit bed)</td></tr><tr><th>13</th><td>23.0</td><td>Male</td><td>Arrived with signs of life</td><td>Operating Room</td></tr><tr><th>14</th><td>27.0</td><td>Male</td><td>Arrived with signs of life</td><td>Operating Room</td></tr><tr><th>15</th><td>33.0</td><td>Male</td><td>Arrived with signs of life</td><td>Intensive Care Unit (ICU)</td></tr><tr><th>16</th><td>36.0</td><td>Male</td><td>Arrived with signs of life</td><td>Operating Room</td></tr><tr><th>17</th><td>30.0</td><td>Male</td><td>Arrived with signs of life</td><td>Operating Room</td></tr><tr><th>18</th><td>26.0</td><td>Male</td><td>Arrived with signs of life</td><td>Operating Room</td></tr><tr><th>19</th><td>41.0</td><td>Female</td><td>Arrived with signs of life</td><td>Operating Room</td></tr><tr><th>20</th><td>30.0</td><td>Male</td><td>Arrived with signs of life</td><td>Operating Room</td></tr><tr><th>21</th><td>53.0</td><td>Male</td><td>Arrived with signs of life</td><td>Operating Room</td></tr><tr><th>22</th><td>45.0</td><td>Male</td><td>Arrived with signs of life</td><td>Operating Room</td></tr><tr><th>23</th><td>19.0</td><td>Male</td><td>Arrived with signs of life</td><td>Operating Room</td></tr><tr><th>24</th><td>20.0</td><td>Female</td><td>Arrived with signs of life</td><td>Floor bed (general admission, non specialty unit bed)</td></tr><tr><th>25</th><td>25.0</td><td>Male</td><td>Arrived with signs of life</td><td>Intensive Care Unit (ICU)</td></tr><tr><th>26</th><td>26.0</td><td>Male</td><td>Arrived with signs of life</td><td>Operating Room</td></tr><tr><th>27</th><td>46.0</td><td>Male</td><td>Arrived with signs of life</td><td>Operating Room</td></tr><tr><th>28</th><td>26.0</td><td>Male</td><td>Arrived with signs of life</td><td>Intensive Care Unit (ICU)</td></tr><tr><th>29</th><td>25.0</td><td>Male</td><td>Arrived with signs of life</td><td>Operating Room</td></tr><tr><th>30</th><td>34.0</td><td>Male</td><td>Arrived with signs of life</td><td>Floor bed (general admission, non specialty unit bed)</td></tr><tr><th>&vellip;</th><td>&vellip;</td><td>&vellip;</td><td>&vellip;</td><td>&vellip;</td></tr></tbody></table>"
      ],
      "text/latex": [
       "\\begin{tabular}{r|ccccc}\n",
       "\t& age & gender & signsoflife & eddisp & \\\\\n",
       "\t\\hline\n",
       "\t& Float64 & Categorical… & Categorical… & Categorical… & \\\\\n",
       "\t\\hline\n",
       "\t1 & 42.0 & Male & Arrived with signs of life & Intensive Care Unit (ICU) & $\\dots$ \\\\\n",
       "\t2 & 17.0 & Male & Arrived with signs of life & Operating Room & $\\dots$ \\\\\n",
       "\t3 & 31.0 & Male & Arrived with signs of life & Operating Room & $\\dots$ \\\\\n",
       "\t4 & 38.0 & Male & Arrived with signs of life & Floor bed (general admission, non specialty unit bed) & $\\dots$ \\\\\n",
       "\t5 & 26.0 & Male & Arrived with signs of life & Floor bed (general admission, non specialty unit bed) & $\\dots$ \\\\\n",
       "\t6 & 65.0 & Male & Arrived with signs of life & Intensive Care Unit (ICU) & $\\dots$ \\\\\n",
       "\t7 & 19.0 & Male & Arrived with signs of life & Operating Room & $\\dots$ \\\\\n",
       "\t8 & 26.0 & Male & Arrived with signs of life & Intensive Care Unit (ICU) & $\\dots$ \\\\\n",
       "\t9 & 70.0 & Male & Arrived with signs of life & Intensive Care Unit (ICU) & $\\dots$ \\\\\n",
       "\t10 & 28.9897 & Male & Arrived with signs of life & Operating Room & $\\dots$ \\\\\n",
       "\t11 & 33.0 & Male & Arrived with signs of life & Floor bed (general admission, non specialty unit bed) & $\\dots$ \\\\\n",
       "\t12 & 18.0 & Male & Arrived with signs of life & Floor bed (general admission, non specialty unit bed) & $\\dots$ \\\\\n",
       "\t13 & 23.0 & Male & Arrived with signs of life & Operating Room & $\\dots$ \\\\\n",
       "\t14 & 27.0 & Male & Arrived with signs of life & Operating Room & $\\dots$ \\\\\n",
       "\t15 & 33.0 & Male & Arrived with signs of life & Intensive Care Unit (ICU) & $\\dots$ \\\\\n",
       "\t16 & 36.0 & Male & Arrived with signs of life & Operating Room & $\\dots$ \\\\\n",
       "\t17 & 30.0 & Male & Arrived with signs of life & Operating Room & $\\dots$ \\\\\n",
       "\t18 & 26.0 & Male & Arrived with signs of life & Operating Room & $\\dots$ \\\\\n",
       "\t19 & 41.0 & Female & Arrived with signs of life & Operating Room & $\\dots$ \\\\\n",
       "\t20 & 30.0 & Male & Arrived with signs of life & Operating Room & $\\dots$ \\\\\n",
       "\t21 & 53.0 & Male & Arrived with signs of life & Operating Room & $\\dots$ \\\\\n",
       "\t22 & 45.0 & Male & Arrived with signs of life & Operating Room & $\\dots$ \\\\\n",
       "\t23 & 19.0 & Male & Arrived with signs of life & Operating Room & $\\dots$ \\\\\n",
       "\t24 & 20.0 & Female & Arrived with signs of life & Floor bed (general admission, non specialty unit bed) & $\\dots$ \\\\\n",
       "\t25 & 25.0 & Male & Arrived with signs of life & Intensive Care Unit (ICU) & $\\dots$ \\\\\n",
       "\t26 & 26.0 & Male & Arrived with signs of life & Operating Room & $\\dots$ \\\\\n",
       "\t27 & 46.0 & Male & Arrived with signs of life & Operating Room & $\\dots$ \\\\\n",
       "\t28 & 26.0 & Male & Arrived with signs of life & Intensive Care Unit (ICU) & $\\dots$ \\\\\n",
       "\t29 & 25.0 & Male & Arrived with signs of life & Operating Room & $\\dots$ \\\\\n",
       "\t30 & 34.0 & Male & Arrived with signs of life & Floor bed (general admission, non specialty unit bed) & $\\dots$ \\\\\n",
       "\t$\\dots$ & $\\dots$ & $\\dots$ & $\\dots$ & $\\dots$ &  \\\\\n",
       "\\end{tabular}\n"
      ],
      "text/plain": [
       "15863×47 DataFrame. Omitted printing of 44 columns\n",
       "│ Row   │ age     │ gender       │ signsoflife                │\n",
       "│       │ \u001b[90mFloat64\u001b[39m │ \u001b[90mCategorical…\u001b[39m │ \u001b[90mCategoricalString{UInt32}\u001b[39m  │\n",
       "├───────┼─────────┼──────────────┼────────────────────────────┤\n",
       "│ 1     │ 42.0    │ Male         │ Arrived with signs of life │\n",
       "│ 2     │ 17.0    │ Male         │ Arrived with signs of life │\n",
       "│ 3     │ 31.0    │ Male         │ Arrived with signs of life │\n",
       "│ 4     │ 38.0    │ Male         │ Arrived with signs of life │\n",
       "│ 5     │ 26.0    │ Male         │ Arrived with signs of life │\n",
       "│ 6     │ 65.0    │ Male         │ Arrived with signs of life │\n",
       "│ 7     │ 19.0    │ Male         │ Arrived with signs of life │\n",
       "│ 8     │ 26.0    │ Male         │ Arrived with signs of life │\n",
       "│ 9     │ 70.0    │ Male         │ Arrived with signs of life │\n",
       "│ 10    │ 28.9897 │ Male         │ Arrived with signs of life │\n",
       "⋮\n",
       "│ 15853 │ 24.0    │ Male         │ Arrived with signs of life │\n",
       "│ 15854 │ 20.0    │ Male         │ Arrived with signs of life │\n",
       "│ 15855 │ 19.0    │ Male         │ Arrived with signs of life │\n",
       "│ 15856 │ 31.0    │ Female       │ Arrived with signs of life │\n",
       "│ 15857 │ 19.0    │ Female       │ Arrived with signs of life │\n",
       "│ 15858 │ 32.0    │ Male         │ Arrived with signs of life │\n",
       "│ 15859 │ 30.0    │ Male         │ Arrived with signs of life │\n",
       "│ 15860 │ 35.0    │ Male         │ Arrived with signs of life │\n",
       "│ 15861 │ 38.0    │ Male         │ Arrived with signs of life │\n",
       "│ 15862 │ 25.0    │ Male         │ Arrived with signs of life │\n",
       "│ 15863 │ 28.0    │ Male         │ Arrived with signs of life │"
      ]
     },
     "execution_count": 35,
     "metadata": {},
     "output_type": "execute_result"
    }
   ],
   "source": [
    "data_path_to_load_pen = \"C:/Users/15125/Desktop/CAPSTONE PROJECT/CLEANED DATA/POST IMPUTATION PROCESSING/penetrating/\"\n",
    "train_X_penetrating = CSV.read(data_path_to_load_pen*\"X_train_penetrating_ofs.csv\")\n",
    "test_X_penetrating = CSV.read(data_path_to_load_pen*\"X_test_penetrating_ofs.csv\")\n",
    "train_y_penetrating= CSV.read(data_path_to_load_pen*\"y_train_penetrating_ofs.csv\")\n",
    "test_y_penetrating = CSV.read(data_path_to_load_pen*\"y_test_penetrating_ofs.csv\")\n",
    "\n",
    "# data_path_to_load_blunt = \"C:/Users/15125/Desktop/CAPSTONE PROJECT/CLEANED DATA/POST IMPUTATION PROCESSING/blunt/\"\n",
    "# train_X_blunt = CSV.read(data_path_to_load_blunt*\"X_train_random_final_blunt.csv\")\n",
    "# test_X_blunt = CSV.read(data_path_to_load_blunt*\"X_test_random_final_blunt.csv\")\n",
    "# train_y_blunt= CSV.read(data_path_to_load_blunt*\"y_train_random_final_blunt.csv\")\n",
    "# test_y_blunt = CSV.read(data_path_to_load_blunt*\"y_test_random_final_blunt.csv\")\n",
    "\n",
    "\n",
    "\n",
    "severity_categorical_var = [\n",
    "    :Head_severity,\n",
    "    :Face_severity,\n",
    "    :Neck_severity,\n",
    "    :Thorax_severity,\n",
    "    :Abdomen_severity,\n",
    "    :Spine_severity,\n",
    "    :Upper_Extremity_severity,\n",
    "    :Lower_Extremity_severity,\n",
    "    :Pelvis_Perineum_severity,\n",
    "    :External_severity,\n",
    "    :gcstot1,\n",
    "    :gcstot2,\n",
    "    \n",
    "    \n",
    "    #:severity_max\n",
    "]\n",
    "\n",
    "for col_name in severity_categorical_var\n",
    "#     train_X_blunt[!, col_name] = CategoricalArray(train_X_blunt[!, col_name], ordered=true)\n",
    "#     test_X_blunt[!, col_name] = CategoricalArray(test_X_blunt[!, col_name], ordered=true)\n",
    "    train_X_penetrating[!, col_name] = CategoricalArray(train_X_penetrating[!, col_name], ordered=true)\n",
    "    test_X_penetrating[!, col_name] = CategoricalArray(test_X_penetrating[!, col_name], ordered=true)\n",
    "    println(\"Transformed column '\", col_name, \"' to Ordered Categorical\")\n",
    "end\n",
    "\n",
    "# train_X_blunt = categorical!(train_X_blunt)\n",
    "# test_X_blunt = categorical!(test_X_blunt)\n",
    "train_X_penetrating = categorical!(train_X_penetrating)\n",
    "test_X_penetrating = categorical!(test_X_penetrating)\n",
    "println(\"Transformed all other non-ordered Categorical Variables\")\n",
    "\n",
    "# Dropped tmode1 and hemorrhage_ctrl_type and severity_max (29/11/2019)\n",
    "# and alcohol (09/01/2020) and acslevel (01/02/2020)\n",
    "# names = [\n",
    "#     :age, :gender, :signsoflife, :sbp1, :pulse1,\n",
    "#     :oxysat1, :temp1, :gcstot1, :bleeding_disorder, :current_chemotherapy,\n",
    "#     :congestive_heart_failure, :current_smoker, :chronic_renal_failure,\n",
    "#     :history_cva, :diabetes, :disseminated_cancer,  :copd, :steroid,\n",
    "#     :cirrhosis, :history_MI, :history_pvd, :hypertension_medication,\n",
    "#     :method_of_injury, :Head_severity, :Face_severity, :Neck_severity, :Thorax_severity, :Abdomen_severity,\n",
    "#     :Spine_severity, :Upper_Extremity_severity, :Lower_Extremity_severity,\n",
    "#     :Pelvis_Perineum_severity, :External_severity,\n",
    "#     #:severity_max, :hemorrhage_ctrl_type, :alcohol, :tmode1, :acslevel :race1, \n",
    "# ]\n",
    "\n",
    "names = [\n",
    "        :age, :gender, :signsoflife, :eddisp, :sbp1, :pulse1,\n",
    "        :oxysat1, :temp1, :gcstot1, :bleeding_disorder, :current_chemotherapy,\n",
    "        :congestive_heart_failure, :current_smoker, :chronic_renal_failure,\n",
    "        :history_cva, :diabetes, :disseminated_cancer,  :copd, :steroid,\n",
    "        :cirrhosis, :history_MI, :history_pvd, :hypertension_medication,\n",
    "        :method_of_injury, :Head_severity, :Face_severity, :Neck_severity, :Thorax_severity, :Abdomen_severity,\n",
    "        :Spine_severity, :Upper_Extremity_severity, :Lower_Extremity_severity,\n",
    "        :Pelvis_Perineum_severity, :External_severity,:sbp2,:rr2,:drug_use_disorder,:issais,:morbidity,\n",
    "        :drug1,:rr1,:pulse2,:tmode1,:gcstot2,:oxysat2,:alcohol_use_disorder,:tmode2,\n",
    "        #:severity_max, #:hemorrhage_ctrl_type, #:alcohol, #:tmode1, #:acslevel\n",
    "    ]\n",
    "\n",
    "# train_X_blunt = train_X_blunt[!, names]\n",
    "# test_X_blunt = test_X_blunt[!, names]\n",
    "train_X_penetrating = train_X_penetrating[!, names]\n",
    "test_X_penetrating = test_X_penetrating[!, names]"
   ]
  },
  {
   "cell_type": "code",
   "execution_count": 36,
   "metadata": {},
   "outputs": [
    {
     "data": {
      "text/plain": [
       "0"
      ]
     },
     "execution_count": 36,
     "metadata": {},
     "output_type": "execute_result"
    }
   ],
   "source": [
    "# train_y_blunt=convert(Matrix, train_y_blunt)[:,1]\n",
    "# test_y_blunt= convert(Matrix, test_y_blunt)[:,1]\n",
    "train_y_penetrating= convert(Matrix, train_y_penetrating)[:,1]\n",
    "test_y_penetrating= convert(Matrix, test_y_penetrating)[:,1]\n",
    "IJulia.clear_output()"
   ]
  },
  {
   "cell_type": "code",
   "execution_count": 48,
   "metadata": {},
   "outputs": [
    {
     "name": "stderr",
     "output_type": "stream",
     "text": [
      "\u001b[32mRefitting with best parameters...    0%|█               |  ETA: N/A\u001b[39m[39m\n",
      "\u001b[A4m  Parameters:  sparsity=>115\u001b[39m"
     ]
    },
    {
     "name": "stdout",
     "output_type": "stream",
     "text": [
      "\n"
     ]
    },
    {
     "name": "stderr",
     "output_type": "stream",
     "text": [
      "\n",
      "\r",
      "\u001b[K\u001b[A\r",
      "\u001b[32mRefitting with best parameters...  100%|████████████████| Time: 0:00:25\u001b[39m\n",
      "\u001b[34m  Parameters:  sparsity=>115\u001b[39m\r",
      "\u001b[A"
     ]
    },
    {
     "name": "stdout",
     "output_type": "stream",
     "text": [
      "\n",
      "\n"
     ]
    },
    {
     "data": {
      "text/plain": [
       "All Grid Results:\n",
       "\n",
       "│ Row │ sparsity │ split1_train_score │ split2_train_score │\n",
       "│     │ \u001b[90mInt64\u001b[39m    │ \u001b[90mFloat64\u001b[39m            │ \u001b[90mFloat64\u001b[39m            │\n",
       "├─────┼──────────┼────────────────────┼────────────────────┤\n",
       "│ 1   │ 115      │ 0.189458           │ 0.187172           │\n",
       "\n",
       "│ Row │ split3_train_score │ split4_train_score │ split5_train_score │\n",
       "│     │ \u001b[90mFloat64\u001b[39m            │ \u001b[90mFloat64\u001b[39m            │ \u001b[90mFloat64\u001b[39m            │\n",
       "├─────┼────────────────────┼────────────────────┼────────────────────┤\n",
       "│ 1   │ 0.18473            │ 0.182196           │ 0.188677           │\n",
       "\n",
       "│ Row │ mean_train_score │ std_train_score │ split1_valid_score │\n",
       "│     │ \u001b[90mFloat64\u001b[39m          │ \u001b[90mFloat64\u001b[39m         │ \u001b[90mFloat64\u001b[39m            │\n",
       "├─────┼──────────────────┼─────────────────┼────────────────────┤\n",
       "│ 1   │ 0.186447         │ 0.00298274      │ 0.811914           │\n",
       "\n",
       "│ Row │ split2_valid_score │ split3_valid_score │ split4_valid_score │\n",
       "│     │ \u001b[90mFloat64\u001b[39m            │ \u001b[90mFloat64\u001b[39m            │ \u001b[90mFloat64\u001b[39m            │\n",
       "├─────┼────────────────────┼────────────────────┼────────────────────┤\n",
       "│ 1   │ 0.81288            │ 0.817393           │ 0.81527            │\n",
       "\n",
       "│ Row │ split5_valid_score │ mean_valid_score │ std_valid_score │\n",
       "│     │ \u001b[90mFloat64\u001b[39m            │ \u001b[90mFloat64\u001b[39m          │ \u001b[90mFloat64\u001b[39m         │\n",
       "├─────┼────────────────────┼──────────────────┼─────────────────┤\n",
       "│ 1   │ 0.807923           │ 0.813076         │ 0.00358443      │\n",
       "\n",
       "│ Row │ rank_valid_score │\n",
       "│     │ \u001b[90mInt64\u001b[39m            │\n",
       "├─────┼──────────────────┤\n",
       "│ 1   │ 1                │\n",
       "\n",
       "Best Params:\n",
       "  sparsity => 115\n",
       "\n",
       "Best Model - Fitted OptimalFeatureSelectionClassifier:\n",
       "  Constant: 2.87485\n",
       "  Weights:\n",
       "    Abdomen_severity==0.0:                                             0.0688501\n",
       "    Abdomen_severity==2.0:                                            -0.0991072\n",
       "    Abdomen_severity==3.0:                                            -0.0662183\n",
       "    Abdomen_severity==4.0:                                            -0.238296\n",
       "    Abdomen_severity==5.0:                                            -0.346425\n",
       "    Face_severity==0.0:                                                0.0683778\n",
       "    Face_severity==1.0:                                               -0.0803223\n",
       "    Face_severity==2.0:                                               -0.0602829\n",
       "    Face_severity==3.0:                                                0.585767\n",
       "    Face_severity==4.0:                                                0.454167\n",
       "    Head_severity==0.0:                                               -0.344712\n",
       "    Head_severity==1.0:                                               -0.454967\n",
       "    Head_severity==2.0:                                               -0.247409\n",
       "    Head_severity==4.0:                                                0.568773\n",
       "    Head_severity==5.0:                                                1.93047\n",
       "    Lower_Extremity_severity==1.0:                                    -0.0367585\n",
       "    Lower_Extremity_severity==2.0:                                     0.0880073\n",
       "    Lower_Extremity_severity==3.0:                                     0.0171853\n",
       "    Lower_Extremity_severity==4.0:                                    -0.276774\n",
       "    Neck_severity==0.0:                                               -0.159062\n",
       "    Neck_severity==1.0:                                                0.0622413\n",
       "    Neck_severity==3.0:                                                0.138829\n",
       "    Neck_severity==4.0:                                                0.404338\n",
       "    Neck_severity==5.0:                                                0.716856\n",
       "    Pelvis_Perineum_severity==0.0:                                     0.018287\n",
       "    Pelvis_Perineum_severity==1.0:                                     0.156318\n",
       "    Pelvis_Perineum_severity==2.0:                                    -0.052779\n",
       "    Pelvis_Perineum_severity==3.0:                                    -0.030026\n",
       "    Pelvis_Perineum_severity==4.0:                                    -0.627451\n",
       "    Pelvis_Perineum_severity==5.0:                                     0.687568\n",
       "    Spine_severity==0.0:                                              -3.71823\n",
       "    Spine_severity==1.0:                                              -3.82196\n",
       "    Spine_severity==2.0:                                              -3.51952\n",
       "    Spine_severity==3.0:                                              -1.00692\n",
       "    Spine_severity==4.0:                                               3.3106\n",
       "    Spine_severity==5.0:                                               33.1235\n",
       "    Thorax_severity==0.0:                                              0.0614564\n",
       "    Thorax_severity==2.0:                                             -0.0545361\n",
       "    Thorax_severity==3.0:                                             -0.0815629\n",
       "    Thorax_severity==4.0:                                             -0.287335\n",
       "    Thorax_severity==5.0:                                             -0.198907\n",
       "    Upper_Extremity_severity==0.0:                                     0.00729293\n",
       "    Upper_Extremity_severity==1.0:                                    -0.0956395\n",
       "    Upper_Extremity_severity==3.0:                                    -0.015235\n",
       "    Upper_Extremity_severity==4.0:                                     0.735663\n",
       "    age:                                                               0.0177607\n",
       "    alcohol_use_disorder:                                              0.0334229\n",
       "    bleeding_disorder:                                                 0.377848\n",
       "    cirrhosis:                                                         0.0166306\n",
       "    congestive_heart_failure:                                          0.255682\n",
       "    copd:                                                              0.047151\n",
       "    current_chemotherapy:                                              0.579941\n",
       "    current_smoker:                                                   -0.0678627\n",
       "    diabetes:                                                          0.141861\n",
       "    disseminated_cancer:                                               0.826361\n",
       "    drug1==No (confirmed by test):                                     0.125997\n",
       "    drug1==No (not tested):                                           -0.0496753\n",
       "    drug1==Yes (confirmed by test [illegal use drug]):                -0.0414279\n",
       "    drug1==Yes (confirmed by test [prescription drug]):                0.0886586\n",
       "    drug_use_disorder:                                                -0.00412299\n",
       "    eddisp==Floor bed (general admission, non specialty unit bed):    -0.130166\n",
       "    eddisp==Intensive Care Unit (ICU):                                 0.115147\n",
       "    eddisp==Observation unit (unit that provides &lt; 24 hour stays): -0.172111\n",
       "    eddisp==Operating Room:                                            0.0504792\n",
       "    eddisp==Telemetry/step-down unit (less acuity than ICU):          -0.069463\n",
       "    gcstot1==11:                                                       0.19198\n",
       "    gcstot1==13:                                                      -0.0761282\n",
       "    gcstot1==14:                                                      -0.189913\n",
       "    gcstot1==15:                                                      -0.293864\n",
       "    gcstot1==3:                                                        0.16904\n",
       "    gcstot1==4:                                                        0.165131\n",
       "    gcstot1==5:                                                        0.721797\n",
       "    gcstot1==6:                                                        0.305164\n",
       "    gcstot1==8:                                                        0.0643373\n",
       "    gcstot2==10:                                                       0.263283\n",
       "    gcstot2==12:                                                       0.0953171\n",
       "    gcstot2==13:                                                       0.154915\n",
       "    gcstot2==14:                                                       0.0760916\n",
       "    gcstot2==3:                                                        0.472574\n",
       "    gcstot2==4:                                                        0.705745\n",
       "    gcstot2==5:                                                        0.835329\n",
       "    gcstot2==6:                                                        0.408267\n",
       "    gcstot2==7:                                                        0.470701\n",
       "    gcstot2==8:                                                        0.423789\n",
       "    gcstot2==9:                                                        0.29758\n",
       "    gender==Female:                                                    0.135284\n",
       "    gender==Male:                                                     -0.135284\n",
       "    history_MI:                                                        0.116365\n",
       "    history_cva:                                                       0.16921\n",
       "    history_pvd:                                                       0.262321\n",
       "    hypertension_medication:                                           0.146084\n",
       "    issais:                                                            0.0241269\n",
       "    method_of_injury==Penetrating - Other/Mixed:                      -0.00866838\n",
       "    method_of_injury==Penetrating - Stab Wound:                       -0.04638\n",
       "    morbidity:                                                         0.508298\n",
       "    pulse2:                                                            0.000578696\n",
       "    rr1:                                                               0.000717193\n",
       "    rr2:                                                              -0.000901897\n",
       "    sbp1:                                                             -0.000858154\n",
       "    sbp2:                                                              0.0000549322\n",
       "    signsoflife==Arrived with NO signs of life:                        0.0268265\n",
       "    signsoflife==Arrived with signs of life:                          -0.0268265\n",
       "    steroid:                                                           0.446631\n",
       "    tmode1==Fixed-wing Ambulance:                                     -0.262716\n",
       "    tmode1==Ground Ambulance:                                          0.02483\n",
       "    tmode1==Helicopter Ambulance:                                      0.0742256\n",
       "    tmode1==Other:                                                    -0.196341\n",
       "    tmode1==Police:                                                    0.196531\n",
       "    tmode1==Private/Public Vehicle/Walk-in:                           -0.166309\n",
       "    tmode2==Fixed-wing Ambulance:                                     -0.559642\n",
       "    tmode2==Ground Ambulance:                                          0.021365\n",
       "    tmode2==Helicopter Ambulance:                                      0.0610089\n",
       "    tmode2==Other:                                                    -0.184465\n",
       "    tmode2==Police:                                                    0.193942\n",
       "    tmode2==Private/Public Vehicle/Walk-in:                           -0.149335"
      ]
     },
     "execution_count": 48,
     "metadata": {},
     "output_type": "execute_result"
    }
   ],
   "source": [
    "grid_fs = IAI.GridSearch(\n",
    "    IAI.OptimalFeatureSelectionClassifier(\n",
    "        random_seed=1,\n",
    "        treat_unknown_level_missing=true\n",
    "    ),\n",
    "    sparsity=[115],\n",
    ")\n",
    "IAI.fit_cv!(grid_fs, train_X_penetrating, train_y_penetrating, validation_criterion=:auc, n_folds=5,sample_weight=:autobalance)"
   ]
  },
  {
   "cell_type": "code",
   "execution_count": 49,
   "metadata": {},
   "outputs": [
    {
     "data": {
      "text/plain": [
       "0.811744033336742"
      ]
     },
     "execution_count": 49,
     "metadata": {},
     "output_type": "execute_result"
    }
   ],
   "source": [
    "IAI.score(grid_fs, test_X_penetrating, test_y_penetrating, criterion=:auc)"
   ]
  },
  {
   "cell_type": "code",
   "execution_count": null,
   "metadata": {},
   "outputs": [],
   "source": [
    "##### using Plots\n",
    "results = IAI.get_grid_results(grid_fs)\n",
    "plot(results.sparsity, results.valid_score, xlabel=\"Sparsity\",\n",
    "     ylabel=\"Validation AUC\", legend=nothing)"
   ]
  },
  {
   "cell_type": "code",
   "execution_count": null,
   "metadata": {},
   "outputs": [],
   "source": []
  }
 ],
 "metadata": {
  "kernelspec": {
   "display_name": "Julia 1.0.5",
   "language": "julia",
   "name": "julia-1.0"
  },
  "language_info": {
   "file_extension": ".jl",
   "mimetype": "application/julia",
   "name": "julia",
   "version": "1.0.5"
  }
 },
 "nbformat": 4,
 "nbformat_minor": 2
}
