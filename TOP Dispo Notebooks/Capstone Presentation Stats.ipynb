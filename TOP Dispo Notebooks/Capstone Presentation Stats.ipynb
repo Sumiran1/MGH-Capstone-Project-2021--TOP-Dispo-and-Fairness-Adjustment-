{
 "cells": [
  {
   "cell_type": "code",
   "execution_count": 1,
   "metadata": {},
   "outputs": [],
   "source": [
    "import pandas as pd\n",
    "import numpy as np\n",
    "import os"
   ]
  },
  {
   "cell_type": "code",
   "execution_count": 2,
   "metadata": {},
   "outputs": [
    {
     "data": {
      "text/plain": [
       "'C:\\\\Users\\\\15125\\\\Desktop\\\\CAPSTONE PROJECT'"
      ]
     },
     "execution_count": 2,
     "metadata": {},
     "output_type": "execute_result"
    }
   ],
   "source": [
    "os.getcwd()"
   ]
  },
  {
   "cell_type": "code",
   "execution_count": 3,
   "metadata": {},
   "outputs": [],
   "source": [
    "data_path_pen = \"C:/Users/15125/Desktop/CAPSTONE PROJECT/CLEANED DATA/POST IMPUTATION PROCESSING/penetrating/\"\n",
    "data_path_blunt =  \"C:/Users/15125/Desktop/CAPSTONE PROJECT/CLEANED DATA/POST IMPUTATION PROCESSING/blunt/\""
   ]
  },
  {
   "cell_type": "code",
   "execution_count": 4,
   "metadata": {},
   "outputs": [],
   "source": [
    "train_pen = pd.read_csv(\"C:/Users/15125/Desktop/CAPSTONE PROJECT/CLEANED DATA/POST IMPUTATION PROCESSING/penetrating/X_train_penetrating_ofs.csv\")\n",
    "test_pen = pd.read_csv(\"C:/Users/15125/Desktop/CAPSTONE PROJECT/CLEANED DATA/POST IMPUTATION PROCESSING/penetrating/X_test_penetrating_ofs.csv\")\n",
    "train_blunt = pd.read_csv(\"C:/Users/15125/Desktop/CAPSTONE PROJECT/CLEANED DATA/POST IMPUTATION PROCESSING/blunt/X_train_blunt_ofs.csv\")\n",
    "test_blunt = pd.read_csv(\"C:/Users/15125/Desktop/CAPSTONE PROJECT/CLEANED DATA/POST IMPUTATION PROCESSING/blunt/X_test_blunt_ofs.csv\")"
   ]
  },
  {
   "cell_type": "code",
   "execution_count": 5,
   "metadata": {},
   "outputs": [],
   "source": [
    "pen = pd.concat([train_pen, test_pen])\n",
    "blunt = pd.concat([train_blunt, test_blunt])"
   ]
  },
  {
   "cell_type": "code",
   "execution_count": 20,
   "metadata": {},
   "outputs": [
    {
     "data": {
      "text/html": [
       "<div>\n",
       "<style scoped>\n",
       "    .dataframe tbody tr th:only-of-type {\n",
       "        vertical-align: middle;\n",
       "    }\n",
       "\n",
       "    .dataframe tbody tr th {\n",
       "        vertical-align: top;\n",
       "    }\n",
       "\n",
       "    .dataframe thead th {\n",
       "        text-align: right;\n",
       "    }\n",
       "</style>\n",
       "<table border=\"1\" class=\"dataframe\">\n",
       "  <thead>\n",
       "    <tr style=\"text-align: right;\">\n",
       "      <th></th>\n",
       "      <th>age</th>\n",
       "      <th>sbp1</th>\n",
       "      <th>pulse1</th>\n",
       "      <th>oxysat1</th>\n",
       "      <th>temp1</th>\n",
       "      <th>gcstot1</th>\n",
       "      <th>bleeding_disorder</th>\n",
       "      <th>current_chemotherapy</th>\n",
       "      <th>congestive_heart_failure</th>\n",
       "      <th>current_smoker</th>\n",
       "      <th>...</th>\n",
       "      <th>rr2</th>\n",
       "      <th>drug_use_disorder</th>\n",
       "      <th>issais</th>\n",
       "      <th>morbidity</th>\n",
       "      <th>rr1</th>\n",
       "      <th>pulse2</th>\n",
       "      <th>acslevel</th>\n",
       "      <th>gcstot2</th>\n",
       "      <th>oxysat2</th>\n",
       "      <th>alcohol_use_disorder</th>\n",
       "    </tr>\n",
       "  </thead>\n",
       "  <tbody>\n",
       "    <tr>\n",
       "      <th>25%</th>\n",
       "      <td>22.0</td>\n",
       "      <td>111.0</td>\n",
       "      <td>81.0</td>\n",
       "      <td>97.125586</td>\n",
       "      <td>36.200001</td>\n",
       "      <td>15.0</td>\n",
       "      <td>0.0</td>\n",
       "      <td>0.0</td>\n",
       "      <td>0.0</td>\n",
       "      <td>0.0</td>\n",
       "      <td>...</td>\n",
       "      <td>18.000000</td>\n",
       "      <td>0.0</td>\n",
       "      <td>9.0</td>\n",
       "      <td>0.0</td>\n",
       "      <td>17.0</td>\n",
       "      <td>88.000000</td>\n",
       "      <td>1.000000</td>\n",
       "      <td>15.0</td>\n",
       "      <td>96.416783</td>\n",
       "      <td>0.0</td>\n",
       "    </tr>\n",
       "    <tr>\n",
       "      <th>75%</th>\n",
       "      <td>40.0</td>\n",
       "      <td>145.0</td>\n",
       "      <td>110.0</td>\n",
       "      <td>100.000000</td>\n",
       "      <td>36.799999</td>\n",
       "      <td>15.0</td>\n",
       "      <td>0.0</td>\n",
       "      <td>0.0</td>\n",
       "      <td>0.0</td>\n",
       "      <td>1.0</td>\n",
       "      <td>...</td>\n",
       "      <td>21.817592</td>\n",
       "      <td>0.0</td>\n",
       "      <td>17.0</td>\n",
       "      <td>0.0</td>\n",
       "      <td>22.0</td>\n",
       "      <td>108.502581</td>\n",
       "      <td>1.238188</td>\n",
       "      <td>15.0</td>\n",
       "      <td>99.000000</td>\n",
       "      <td>0.0</td>\n",
       "    </tr>\n",
       "    <tr>\n",
       "      <th>median</th>\n",
       "      <td>29.0</td>\n",
       "      <td>130.0</td>\n",
       "      <td>95.0</td>\n",
       "      <td>99.000000</td>\n",
       "      <td>36.516841</td>\n",
       "      <td>15.0</td>\n",
       "      <td>0.0</td>\n",
       "      <td>0.0</td>\n",
       "      <td>0.0</td>\n",
       "      <td>0.0</td>\n",
       "      <td>...</td>\n",
       "      <td>20.000000</td>\n",
       "      <td>0.0</td>\n",
       "      <td>10.0</td>\n",
       "      <td>0.0</td>\n",
       "      <td>20.0</td>\n",
       "      <td>97.784836</td>\n",
       "      <td>1.000000</td>\n",
       "      <td>15.0</td>\n",
       "      <td>97.873267</td>\n",
       "      <td>0.0</td>\n",
       "    </tr>\n",
       "  </tbody>\n",
       "</table>\n",
       "<p>3 rows × 41 columns</p>\n",
       "</div>"
      ],
      "text/plain": [
       "         age   sbp1  pulse1     oxysat1      temp1  gcstot1  \\\n",
       "25%     22.0  111.0    81.0   97.125586  36.200001     15.0   \n",
       "75%     40.0  145.0   110.0  100.000000  36.799999     15.0   \n",
       "median  29.0  130.0    95.0   99.000000  36.516841     15.0   \n",
       "\n",
       "        bleeding_disorder  current_chemotherapy  congestive_heart_failure  \\\n",
       "25%                   0.0                   0.0                       0.0   \n",
       "75%                   0.0                   0.0                       0.0   \n",
       "median                0.0                   0.0                       0.0   \n",
       "\n",
       "        current_smoker  ...        rr2  drug_use_disorder  issais  morbidity  \\\n",
       "25%                0.0  ...  18.000000                0.0     9.0        0.0   \n",
       "75%                1.0  ...  21.817592                0.0    17.0        0.0   \n",
       "median             0.0  ...  20.000000                0.0    10.0        0.0   \n",
       "\n",
       "         rr1      pulse2  acslevel  gcstot2    oxysat2  alcohol_use_disorder  \n",
       "25%     17.0   88.000000  1.000000     15.0  96.416783                   0.0  \n",
       "75%     22.0  108.502581  1.238188     15.0  99.000000                   0.0  \n",
       "median  20.0   97.784836  1.000000     15.0  97.873267                   0.0  \n",
       "\n",
       "[3 rows x 41 columns]"
      ]
     },
     "execution_count": 20,
     "metadata": {},
     "output_type": "execute_result"
    }
   ],
   "source": [
    "iqr_stats_pen = pen.describe().loc[[ '25%', '75%']]\n",
    "iqr_stats_pen.loc['median'] = pen.median()\n",
    "iqr_stats_pen"
   ]
  },
  {
   "cell_type": "code",
   "execution_count": 23,
   "metadata": {},
   "outputs": [
    {
     "data": {
      "text/html": [
       "<div>\n",
       "<style scoped>\n",
       "    .dataframe tbody tr th:only-of-type {\n",
       "        vertical-align: middle;\n",
       "    }\n",
       "\n",
       "    .dataframe tbody tr th {\n",
       "        vertical-align: top;\n",
       "    }\n",
       "\n",
       "    .dataframe thead th {\n",
       "        text-align: right;\n",
       "    }\n",
       "</style>\n",
       "<table border=\"1\" class=\"dataframe\">\n",
       "  <thead>\n",
       "    <tr style=\"text-align: right;\">\n",
       "      <th></th>\n",
       "      <th>age</th>\n",
       "      <th>sbp1</th>\n",
       "      <th>pulse1</th>\n",
       "      <th>oxysat1</th>\n",
       "      <th>temp1</th>\n",
       "      <th>gcstot1</th>\n",
       "      <th>bleeding_disorder</th>\n",
       "      <th>current_chemotherapy</th>\n",
       "      <th>congestive_heart_failure</th>\n",
       "      <th>current_smoker</th>\n",
       "      <th>...</th>\n",
       "      <th>rr2</th>\n",
       "      <th>drug_use_disorder</th>\n",
       "      <th>issais</th>\n",
       "      <th>morbidity</th>\n",
       "      <th>rr1</th>\n",
       "      <th>pulse2</th>\n",
       "      <th>acslevel</th>\n",
       "      <th>gcstot2</th>\n",
       "      <th>oxysat2</th>\n",
       "      <th>alcohol_use_disorder</th>\n",
       "    </tr>\n",
       "  </thead>\n",
       "  <tbody>\n",
       "    <tr>\n",
       "      <th>25%</th>\n",
       "      <td>35.0</td>\n",
       "      <td>123.0</td>\n",
       "      <td>74.0</td>\n",
       "      <td>96.0</td>\n",
       "      <td>36.299999</td>\n",
       "      <td>15.0</td>\n",
       "      <td>0.0</td>\n",
       "      <td>0.0</td>\n",
       "      <td>0.0</td>\n",
       "      <td>0.0</td>\n",
       "      <td>...</td>\n",
       "      <td>16.0</td>\n",
       "      <td>0.0</td>\n",
       "      <td>9.0</td>\n",
       "      <td>0.0</td>\n",
       "      <td>16.0</td>\n",
       "      <td>80.0</td>\n",
       "      <td>1.000000</td>\n",
       "      <td>14.0</td>\n",
       "      <td>95.897909</td>\n",
       "      <td>0.0</td>\n",
       "    </tr>\n",
       "    <tr>\n",
       "      <th>75%</th>\n",
       "      <td>71.0</td>\n",
       "      <td>156.0</td>\n",
       "      <td>99.0</td>\n",
       "      <td>99.0</td>\n",
       "      <td>36.799999</td>\n",
       "      <td>15.0</td>\n",
       "      <td>0.0</td>\n",
       "      <td>0.0</td>\n",
       "      <td>0.0</td>\n",
       "      <td>0.0</td>\n",
       "      <td>...</td>\n",
       "      <td>20.0</td>\n",
       "      <td>0.0</td>\n",
       "      <td>17.0</td>\n",
       "      <td>0.0</td>\n",
       "      <td>20.0</td>\n",
       "      <td>98.0</td>\n",
       "      <td>1.479405</td>\n",
       "      <td>15.0</td>\n",
       "      <td>98.000000</td>\n",
       "      <td>0.0</td>\n",
       "    </tr>\n",
       "    <tr>\n",
       "      <th>median</th>\n",
       "      <td>55.0</td>\n",
       "      <td>139.0</td>\n",
       "      <td>86.0</td>\n",
       "      <td>98.0</td>\n",
       "      <td>36.599998</td>\n",
       "      <td>15.0</td>\n",
       "      <td>0.0</td>\n",
       "      <td>0.0</td>\n",
       "      <td>0.0</td>\n",
       "      <td>0.0</td>\n",
       "      <td>...</td>\n",
       "      <td>18.0</td>\n",
       "      <td>0.0</td>\n",
       "      <td>10.0</td>\n",
       "      <td>0.0</td>\n",
       "      <td>18.0</td>\n",
       "      <td>88.0</td>\n",
       "      <td>1.000000</td>\n",
       "      <td>15.0</td>\n",
       "      <td>97.000000</td>\n",
       "      <td>0.0</td>\n",
       "    </tr>\n",
       "  </tbody>\n",
       "</table>\n",
       "<p>3 rows × 41 columns</p>\n",
       "</div>"
      ],
      "text/plain": [
       "         age   sbp1  pulse1  oxysat1      temp1  gcstot1  bleeding_disorder  \\\n",
       "25%     35.0  123.0    74.0     96.0  36.299999     15.0                0.0   \n",
       "75%     71.0  156.0    99.0     99.0  36.799999     15.0                0.0   \n",
       "median  55.0  139.0    86.0     98.0  36.599998     15.0                0.0   \n",
       "\n",
       "        current_chemotherapy  congestive_heart_failure  current_smoker  ...  \\\n",
       "25%                      0.0                       0.0             0.0  ...   \n",
       "75%                      0.0                       0.0             0.0  ...   \n",
       "median                   0.0                       0.0             0.0  ...   \n",
       "\n",
       "         rr2  drug_use_disorder  issais  morbidity   rr1  pulse2  acslevel  \\\n",
       "25%     16.0                0.0     9.0        0.0  16.0    80.0  1.000000   \n",
       "75%     20.0                0.0    17.0        0.0  20.0    98.0  1.479405   \n",
       "median  18.0                0.0    10.0        0.0  18.0    88.0  1.000000   \n",
       "\n",
       "        gcstot2    oxysat2  alcohol_use_disorder  \n",
       "25%        14.0  95.897909                   0.0  \n",
       "75%        15.0  98.000000                   0.0  \n",
       "median     15.0  97.000000                   0.0  \n",
       "\n",
       "[3 rows x 41 columns]"
      ]
     },
     "execution_count": 23,
     "metadata": {},
     "output_type": "execute_result"
    }
   ],
   "source": [
    "iqr_stats_blunt = blunt.describe().loc[[ '25%', '75%']]\n",
    "iqr_stats_blunt.loc['median'] = blunt.median()\n",
    "iqr_stats_blunt"
   ]
  },
  {
   "cell_type": "code",
   "execution_count": 25,
   "metadata": {},
   "outputs": [],
   "source": [
    "iqr_stats_pen.to_csv('pen_median_stats.csv')\n",
    "iqr_stats_blunt.to_csv('blunt_median_stats.csv')"
   ]
  },
  {
   "cell_type": "code",
   "execution_count": 7,
   "metadata": {},
   "outputs": [
    {
     "data": {
      "text/plain": [
       "79315"
      ]
     },
     "execution_count": 7,
     "metadata": {},
     "output_type": "execute_result"
    }
   ],
   "source": [
    "len(pen)"
   ]
  },
  {
   "cell_type": "code",
   "execution_count": 8,
   "metadata": {},
   "outputs": [
    {
     "data": {
      "text/plain": [
       "791160"
      ]
     },
     "execution_count": 8,
     "metadata": {},
     "output_type": "execute_result"
    }
   ],
   "source": [
    "len(blunt)"
   ]
  }
 ],
 "metadata": {
  "kernelspec": {
   "display_name": "Python 3",
   "language": "python",
   "name": "python3"
  },
  "language_info": {
   "codemirror_mode": {
    "name": "ipython",
    "version": 3
   },
   "file_extension": ".py",
   "mimetype": "text/x-python",
   "name": "python",
   "nbconvert_exporter": "python",
   "pygments_lexer": "ipython3",
   "version": "3.6.9"
  }
 },
 "nbformat": 4,
 "nbformat_minor": 2
}
